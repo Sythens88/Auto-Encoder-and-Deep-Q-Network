{
 "cells": [
  {
   "cell_type": "markdown",
   "metadata": {},
   "source": [
    "## CartPole"
   ]
  },
  {
   "cell_type": "code",
   "execution_count": null,
   "metadata": {},
   "outputs": [],
   "source": [
    "import gym\n",
    "import numpy as np\n",
    "import torch\n",
    "import torch.nn as nn\n",
    "import random\n",
    "from tqdm import tqdm\n",
    "import matplotlib.pyplot as plt\n",
    "import os\n",
    "os.environ[\"KMP_DUPLICATE_LIB_OK\"] = \"TRUE\""
   ]
  },
  {
   "cell_type": "code",
   "execution_count": null,
   "metadata": {},
   "outputs": [],
   "source": [
    "env = gym.make('CartPole-v0')"
   ]
  },
  {
   "cell_type": "markdown",
   "metadata": {},
   "source": [
    "### Method 1. DQN"
   ]
  },
  {
   "cell_type": "code",
   "execution_count": null,
   "metadata": {},
   "outputs": [],
   "source": [
    "## Experience Set(for experience replay)\n",
    "\n",
    "class Experience():\n",
    "    def __init__(self, capacity = 20000):\n",
    "        self.experience = []  ## store （s,a,r,s'）\n",
    "        self.capacity = capacity  ## max capacity\n",
    "        self.volume = 0  ## current capacity\n",
    "        self.iter = 0\n",
    "        \n",
    "    def insert(self, transition):\n",
    "        if self.volume < self.capacity:\n",
    "            ## insert directly\n",
    "            self.experience.append(transition)\n",
    "            self.volume += 1\n",
    "        else:\n",
    "            ## random choose a transition to cover\n",
    "            self.experience[self.iter] = transition\n",
    "            self.iter = (self.iter + 1) % self.capacity\n",
    "    \n",
    "    def sample(self, batch_size):\n",
    "        ## random sample a batch including batch_size transitions\n",
    "        return random.sample(self.experience, k = batch_size)"
   ]
  },
  {
   "cell_type": "code",
   "execution_count": null,
   "metadata": {},
   "outputs": [],
   "source": [
    "experience = Experience()\n",
    "\n",
    "for e in range(100):\n",
    "    s0 = env.reset()\n",
    "    is_end = False\n",
    "    while not is_end:\n",
    "        action = env.action_space.sample()\n",
    "        s1, reward, is_end, _ = env.step(action)\n",
    "        experience.insert([s0,action,reward,s1])\n",
    "        s0 = s1"
   ]
  },
  {
   "cell_type": "code",
   "execution_count": null,
   "metadata": {},
   "outputs": [],
   "source": [
    "class QNetwork(nn.Module):\n",
    "    def __init__(self,obs_space,hidden_dim,output_dim,action_space):\n",
    "        super(QNetwork,self).__init__()\n",
    "        self.Network = nn.Sequential(\n",
    "            nn.Linear(obs_space,hidden_dim),\n",
    "            nn.ReLU(),\n",
    "            nn.Linear(hidden_dim,hidden_dim // 2),\n",
    "            nn.ReLU(),\n",
    "            nn.Linear(hidden_dim // 2,hidden_dim // 4),\n",
    "            nn.ReLU(),\n",
    "            nn.Linear(hidden_dim // 4, output_dim),\n",
    "            nn.ReLU(),\n",
    "            nn.Linear(output_dim, action_space)\n",
    "        )\n",
    "        \n",
    "    def forward(self,x):\n",
    "        return self.Network(x)"
   ]
  },
  {
   "cell_type": "code",
   "execution_count": null,
   "metadata": {},
   "outputs": [],
   "source": [
    "## Agent\n",
    "\n",
    "class DQNAgent():\n",
    "    def __init__(self, env, experience, hidden_dim, output_dim, gamma = 0.9, epsilon = 0.1, decay_rate = 1, learning_rate = 1e-4):\n",
    "        self.env = env\n",
    "        self.action_space = env.action_space  \n",
    "        self.obs_space = env.observation_space.shape[0]\n",
    "        self.action_len = len([i for i in range(self.action_space.n)])\n",
    "        self.experience = experience\n",
    "        \n",
    "        self.device = 'cuda' if torch.cuda.is_available() else 'cpu'\n",
    "        self.behaviour_QNetwork = QNetwork(self.obs_space, hidden_dim, output_dim, self.action_len).to(self.device)\n",
    "        self.target_QNetwork = QNetwork(self.obs_space, hidden_dim, output_dim, self.action_len).to(self.device)\n",
    "        self.loss_fn = nn.MSELoss()\n",
    "        self.optimizer = torch.optim.Adam(self.behaviour_QNetwork.parameters(), lr = learning_rate)\n",
    "        \n",
    "        self.epsilon = epsilon\n",
    "        self.decay_rate = decay_rate\n",
    "        self.gamma = gamma\n",
    "        \n",
    "    def policy(self, state, epsilon = 0.1):\n",
    "        if np.random.random() < epsilon:\n",
    "            action = self.action_space.sample()\n",
    "        else:\n",
    "            score = self.behaviour_QNetwork(torch.Tensor(state).to(self.device)).detach()\n",
    "            action = torch.argmax(score).item()\n",
    "            \n",
    "        return action\n",
    "    \n",
    "    def learn(self, batch_size, display = False):\n",
    "        s0 = self.env.reset()\n",
    "        if display:\n",
    "            self.env.render()\n",
    "        is_end = False\n",
    "        episode_reward = 0\n",
    "        \n",
    "        while not is_end:\n",
    "            ## choose an action and make a step\n",
    "            a0 = self.policy(s0, epsilon = self.epsilon)\n",
    "            s1, reward, is_end, _ = self.env.step(a0)\n",
    "            if display:\n",
    "                self.env.render()\n",
    "            if is_end:\n",
    "                s1 = np.array([100,100,100,100])\n",
    "            ## store the transition into experience\n",
    "            self.experience.insert([s0,a0,reward,s1])\n",
    "            ## sample minibatch from experience\n",
    "            minibatch = self.experience.sample(batch_size = batch_size)\n",
    "            s, a, r, s_next = [], [], [], []\n",
    "            for batch in minibatch:\n",
    "                s.append(batch[0])\n",
    "                a.append(batch[1])\n",
    "                r.append(batch[2])\n",
    "                s_next.append(batch[3])\n",
    "            s = torch.Tensor(s).to(self.device)\n",
    "            a = torch.LongTensor(a).to(self.device).reshape(-1,1)\n",
    "            r = torch.Tensor(r).to(self.device).reshape(-1,1)\n",
    "            s_next = torch.Tensor(s_next).to(self.device)\n",
    "            Q_target = r + self.gamma * torch.max(self.target_QNetwork(s_next),1)[0].reshape(-1,1) * (s_next[:,0] != 100).reshape(-1,1)\n",
    "            Q_behaviour = self.behaviour_QNetwork(s).gather(1,a)\n",
    "            loss = self.loss_fn(Q_target, Q_behaviour)\n",
    "            self.optimizer.zero_grad()\n",
    "            loss.backward()\n",
    "            self.optimizer.step()\n",
    "            ## iteration\n",
    "            s0 = s1\n",
    "            episode_reward += reward\n",
    "        \n",
    "        ## update target network\n",
    "        self.target_QNetwork.load_state_dict(self.behaviour_QNetwork.state_dict())\n",
    "        self.epsilon *= self.decay_rate\n",
    "        \n",
    "        return episode_reward, loss.item()\n",
    "    \n",
    "    def save_model(self):\n",
    "        torch.save(self.behaviour_QNetwork, 'saved_model\\DQN')\n",
    "        \n",
    "    def load_model(self):\n",
    "        self.behaviour_QNetwork = torch.load('saved_model\\DQN')\n",
    "        self.target_QNetwork.load_state_dict(self.behaviour_QNetwork.state_dict())\n"
   ]
  },
  {
   "cell_type": "code",
   "execution_count": null,
   "metadata": {},
   "outputs": [],
   "source": [
    "## train\n",
    "dqn_agent = DQNAgent(env, experience, hidden_dim = 16,output_dim = 3, gamma = 0.99, epsilon = 0.1, decay_rate = 0.99, learning_rate = 1e-3)\n",
    "MAX_EPISODE = 4000\n",
    "dqn_episode_reward = []\n",
    "dqn_loss = []\n",
    "average_100_step = []\n",
    "grad = []\n",
    "\n",
    "save_flag = False\n",
    "max_reward = 0\n",
    "\n",
    "for e in tqdm(range(MAX_EPISODE)):\n",
    "    reward, loss = dqn_agent.learn(batch_size = 100, display = False)\n",
    "    dqn_episode_reward.append(reward)\n",
    "    avg_mean = np.mean(dqn_episode_reward[-100:])\n",
    "    average_100_step.append(avg_mean)\n",
    "    dqn_loss.append(loss)   \n",
    "    \n",
    "    ## save model\n",
    "    if avg_mean > 180:\n",
    "        if save_flag == False:\n",
    "            dqn_agent.save_model()\n",
    "            save_flag = True\n",
    "            max_reward = avg_mean\n",
    "            print(\"model saved, episode:\",e,\"average mean of last 100 episodes:\",avg_mean)\n",
    "        else:\n",
    "            if avg_mean >= max_reward:\n",
    "                dqn_agent.save_model()\n",
    "                max_reward = avg_mean\n",
    "                print(\"model saved, episode:\",e,\"average mean of last 100 episodes:\",avg_mean)\n"
   ]
  },
  {
   "cell_type": "code",
   "execution_count": null,
   "metadata": {},
   "outputs": [],
   "source": [
    "# outcome of each episode\n",
    "plt.plot(dqn_episode_reward)\n",
    "plt.title(\"CartPole with DQN\")\n",
    "plt.xlabel(\"episode\")\n",
    "plt.ylabel(\"reward\")"
   ]
  },
  {
   "cell_type": "code",
   "execution_count": null,
   "metadata": {},
   "outputs": [],
   "source": [
    "# outcome of episode(mean of last 100 episode)\n",
    "plt.plot(average_100_step)\n",
    "plt.title(\"CartPole with DQN (mean of 100 episode)\")\n",
    "plt.xlabel(\"episode\")\n",
    "plt.ylabel(\"reward\")"
   ]
  },
  {
   "cell_type": "code",
   "execution_count": null,
   "metadata": {},
   "outputs": [],
   "source": [
    "plt.plot(dqn_loss)\n",
    "plt.title(\"DQN loss\")\n",
    "plt.xlabel(\"episode\")\n",
    "plt.ylabel(\"loss\")"
   ]
  },
  {
   "cell_type": "code",
   "execution_count": null,
   "metadata": {},
   "outputs": [],
   "source": [
    "# save learning curve\n",
    "dqn_curve = np.array(average_100_step)\n",
    "np.save('curve\\DQN', dqn_curve)"
   ]
  }
 ],
 "metadata": {
  "kernelspec": {
   "display_name": "Python 3",
   "language": "python",
   "name": "python3"
  },
  "language_info": {
   "codemirror_mode": {
    "name": "ipython",
    "version": 3
   },
   "file_extension": ".py",
   "mimetype": "text/x-python",
   "name": "python",
   "nbconvert_exporter": "python",
   "pygments_lexer": "ipython3",
   "version": "3.8.5"
  }
 },
 "nbformat": 4,
 "nbformat_minor": 4
}
