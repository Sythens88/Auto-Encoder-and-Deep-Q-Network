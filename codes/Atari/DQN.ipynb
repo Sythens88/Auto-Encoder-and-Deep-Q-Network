{
 "cells": [
  {
   "cell_type": "code",
   "execution_count": 1,
   "metadata": {},
   "outputs": [],
   "source": [
    "import gym, random, os, math\n",
    "import numpy as np\n",
    "import matplotlib.pyplot as plt\n",
    "import torch\n",
    "import torch.nn as nn\n",
    "import torch.nn.functional as F\n",
    "from atari_wrappers import make_atari, wrap_deepmind, LazyFrames\n",
    "from tqdm import tqdm\n",
    "os.environ[\"KMP_DUPLICATE_LIB_OK\"] = \"TRUE\""
   ]
  },
  {
   "cell_type": "code",
   "execution_count": 2,
   "metadata": {},
   "outputs": [],
   "source": [
    "# Create and wrap the environment\n",
    "env = make_atari('PongNoFrameskip-v4')\n",
    "env = wrap_deepmind(env, scale = False, frame_stack=True)"
   ]
  },
  {
   "cell_type": "code",
   "execution_count": 3,
   "metadata": {},
   "outputs": [],
   "source": [
    "## set seed\n",
    "seed = 123\n",
    "np.random.seed(seed)\n",
    "torch.manual_seed(seed)\n",
    "torch.cuda.manual_seed(seed)\n",
    "random.seed(seed)\n",
    "env.seed(seed)\n",
    "torch.backends.cudnn.deterministic = True\n",
    "torch.backends.cudnn.enabled = False\n",
    "torch.backends.cudnn.benchmark = False"
   ]
  },
  {
   "cell_type": "code",
   "execution_count": 4,
   "metadata": {},
   "outputs": [],
   "source": [
    "class QNetwork(nn.Module):\n",
    "    def __init__(self, in_channels, hidden_dim, num_actions):\n",
    "        super(QNetwork, self).__init__()\n",
    "        self.conv1 = nn.Conv2d(in_channels, 32, kernel_size=8, stride=4)\n",
    "        self.conv2 = nn.Conv2d(32, 64, kernel_size=3, stride=2)\n",
    "        self.conv3 = nn.Conv2d(64, 64, kernel_size=3, stride=1)\n",
    "        self.fc4 = nn.Linear(7 * 7 * 64, 512)\n",
    "        self.fc5 = nn.Linear(512, hidden_dim)\n",
    "        self.fc6 = nn.Linear(hidden_dim, num_actions)\n",
    "\n",
    "    def forward(self, x):\n",
    "        x = F.relu(self.conv1(x))\n",
    "        x = F.relu(self.conv2(x))\n",
    "        x = F.relu(self.conv3(x))\n",
    "        x = x.reshape(x.size(0),-1)    \n",
    "        x = F.relu(self.fc4(x))\n",
    "        x = F.relu(self.fc5(x))\n",
    "        return self.fc6(x)"
   ]
  },
  {
   "cell_type": "code",
   "execution_count": 5,
   "metadata": {},
   "outputs": [],
   "source": [
    "class Memory(object):\n",
    "    def __init__(self, memory_size=100000):\n",
    "        self.buffer = []\n",
    "        self.memory_size = memory_size\n",
    "        self.next_idx = 0\n",
    "        \n",
    "    def push(self, state, action, reward, next_state, done):\n",
    "        data = (state, action, reward, next_state, done)\n",
    "        if len(self.buffer) <= self.memory_size: \n",
    "            self.buffer.append(data)\n",
    "        else: # buffer is full\n",
    "            self.buffer[self.next_idx] = data\n",
    "        self.next_idx = (self.next_idx + 1) % self.memory_size\n",
    "\n",
    "    def size(self):\n",
    "        return len(self.buffer)"
   ]
  },
  {
   "cell_type": "code",
   "execution_count": 6,
   "metadata": {},
   "outputs": [],
   "source": [
    "class DQNAgent: \n",
    "    def __init__(self, in_channels = 1, action_space = [], hidden_dim = 6, USE_CUDA = False, memory_size = 10000, epsilon  = 1, lr = 1e-4):\n",
    "        self.epsilon = epsilon\n",
    "        self.action_space = action_space\n",
    "        self.memory = Memory(memory_size)\n",
    "        self.behaviourNet = QNetwork(in_channels = in_channels, hidden_dim = hidden_dim, num_actions = action_space.n)\n",
    "        self.targetNet = QNetwork(in_channels = in_channels, hidden_dim = hidden_dim, num_actions = action_space.n)\n",
    "        self.targetNet.load_state_dict(self.behaviourNet.state_dict())\n",
    "\n",
    "        self.USE_CUDA = USE_CUDA\n",
    "        if USE_CUDA:\n",
    "            self.behaviourNet = self.behaviourNet.cuda()\n",
    "            self.targetNet = self.targetNet.cuda()\n",
    "        self.optimizer = torch.optim.Adam(self.behaviourNet.parameters(),lr=lr)\n",
    "\n",
    "    def observe(self, lazyframe):\n",
    "        # from Lazy frame to tensor\n",
    "        state =  torch.from_numpy(lazyframe._force().transpose(2,0,1)[None]/255).float()\n",
    "        if self.USE_CUDA:\n",
    "            state = state.cuda()\n",
    "        return state\n",
    "\n",
    "    def value(self, state):\n",
    "        q_values = self.behaviourNet(state)\n",
    "        return q_values\n",
    "    \n",
    "    def act(self, state, epsilon = None):\n",
    "        if epsilon is None: epsilon = self.epsilon\n",
    "        q_values = self.value(state).cpu().detach().numpy()\n",
    "        if random.random() < epsilon:\n",
    "            aciton = random.randrange(self.action_space.n)\n",
    "        else:\n",
    "            aciton = q_values.argmax(1)[0]\n",
    "        return aciton\n",
    "    \n",
    "    def compute_td_loss(self, states, actions, rewards, next_states, is_done, gamma = 0.99):\n",
    "        actions = torch.tensor(actions).long()    # shape: [batch_size]\n",
    "        rewards = torch.tensor(rewards, dtype =torch.float)  # shape: [batch_size]\n",
    "        is_done = torch.tensor(is_done).bool()  # shape: [batch_size]\n",
    "        if self.USE_CUDA:\n",
    "            actions = actions.cuda()\n",
    "            rewards = rewards.cuda()\n",
    "            is_done = is_done.cuda()\n",
    "            \n",
    "        # get q-values for all actions in current states\n",
    "        predicted_qvalues = self.behaviourNet(states)\n",
    "        # select q-values for chosen actions:Q(s_t,a_t)\n",
    "        predicted_qvalues_for_actions = predicted_qvalues[range(states.shape[0]), actions]\n",
    "        # compute q-values for all actions in next states:Q(s_t+1,a*)\n",
    "        predicted_next_qvalues = self.targetNet(next_states)\n",
    "        # compute V*(next_states) using predicted next q-values:max Q(s_t+1,a*)\n",
    "        next_state_values =  predicted_next_qvalues.max(-1)[0] \n",
    "        # compute \"target q-values\" for loss \n",
    "        target_qvalues_for_actions = rewards + gamma *next_state_values\n",
    "        # at the last state we shall use simplified formula: done or not\n",
    "        target_qvalues_for_actions = torch.where(is_done, rewards, target_qvalues_for_actions)\n",
    "\n",
    "        # loss\n",
    "        loss = F.smooth_l1_loss(predicted_qvalues_for_actions, target_qvalues_for_actions.detach())\n",
    "\n",
    "        return loss\n",
    "    \n",
    "    def sample_from_buffer(self, batch_size):\n",
    "        states, actions, rewards, next_states, dones = [], [], [], [], []\n",
    "        for i in range(batch_size):\n",
    "            idx = random.randint(0, self.memory.size() - 1)\n",
    "            data = self.memory.buffer[idx]\n",
    "            frame, action, reward, next_frame, done = data\n",
    "            states.append(self.observe(frame))\n",
    "            actions.append(action)\n",
    "            rewards.append(reward)\n",
    "            next_states.append(self.observe(next_frame))\n",
    "            dones.append(done)\n",
    "        return torch.cat(states), actions, rewards, torch.cat(next_states), dones\n",
    "\n",
    "    def learn_from_experience(self, batch_size):\n",
    "        states, actions, rewards, next_states, dones = self.sample_from_buffer(batch_size)\n",
    "        td_loss = self.compute_td_loss(states, actions, rewards, next_states, dones)\n",
    "        self.optimizer.zero_grad()\n",
    "        td_loss.backward()\n",
    "        for param in self.behaviourNet.parameters():\n",
    "            param.grad.data.clamp_(-1, 1)\n",
    "        self.optimizer.step()\n",
    "        return(td_loss.item())\n",
    "    \n",
    "    def save_model(self):\n",
    "        torch.save(self.behaviourNet, 'saved_model\\DQN')"
   ]
  },
  {
   "cell_type": "code",
   "execution_count": 7,
   "metadata": {},
   "outputs": [
    {
     "name": "stderr",
     "output_type": "stream",
     "text": [
      "100%|████████████████████████████████████████████████████████████████████████████████| 100/100 [01:43<00:00,  1.03s/it]\n",
      "  0%|                                                                                      | 0/1000000 [00:00<?, ?it/s]D:\\anaconda3\\lib\\site-packages\\numpy\\core\\fromnumeric.py:3372: RuntimeWarning: Mean of empty slice.\n",
      "  return _methods._mean(a, axis=axis, dtype=dtype,\n",
      "D:\\anaconda3\\lib\\site-packages\\numpy\\core\\_methods.py:170: RuntimeWarning: invalid value encountered in double_scalars\n",
      "  ret = ret.dtype.type(ret / rcount)\n",
      "  0%|                                                                          | 4/1000000 [00:00<140:08:47,  1.98it/s]"
     ]
    },
    {
     "name": "stdout",
     "output_type": "stream",
     "text": [
      "frames:     0, reward:   nan, loss: 0.036759, epsilon: 1.000000, episode:    0\n"
     ]
    },
    {
     "name": "stderr",
     "output_type": "stream",
     "text": [
      "  1%|▋                                                                      | 10001/1000000 [14:28<23:03:14, 11.93it/s]"
     ]
    },
    {
     "name": "stdout",
     "output_type": "stream",
     "text": [
      "frames: 10000, reward: -20.100000, loss: 0.015007, epsilon: 0.730705, episode:   10\n"
     ]
    },
    {
     "name": "stderr",
     "output_type": "stream",
     "text": [
      "  2%|█▍                                                                     | 20003/1000000 [28:11<21:04:57, 12.91it/s]"
     ]
    },
    {
     "name": "stdout",
     "output_type": "stream",
     "text": [
      "frames: 20000, reward: -20.800000, loss: 0.000485, epsilon: 0.537746, episode:   22\n"
     ]
    },
    {
     "name": "stderr",
     "output_type": "stream",
     "text": [
      "  3%|██▏                                                                    | 30002/1000000 [41:38<22:07:08, 12.18it/s]"
     ]
    },
    {
     "name": "stdout",
     "output_type": "stream",
     "text": [
      "frames: 30000, reward: -20.200000, loss: 0.000552, epsilon: 0.399485, episode:   33\n"
     ]
    },
    {
     "name": "stderr",
     "output_type": "stream",
     "text": [
      "  4%|██▊                                                                    | 40003/1000000 [55:02<21:58:10, 12.14it/s]"
     ]
    },
    {
     "name": "stdout",
     "output_type": "stream",
     "text": [
      "frames: 40000, reward: -20.300000, loss: 0.006415, epsilon: 0.300417, episode:   44\n"
     ]
    },
    {
     "name": "stderr",
     "output_type": "stream",
     "text": [
      "  5%|███▍                                                                 | 50001/1000000 [1:09:38<23:33:02, 11.21it/s]"
     ]
    },
    {
     "name": "stdout",
     "output_type": "stream",
     "text": [
      "frames: 50000, reward: -20.000000, loss: 0.000723, epsilon: 0.229432, episode:   56\n"
     ]
    },
    {
     "name": "stderr",
     "output_type": "stream",
     "text": [
      "  6%|████▏                                                                | 60003/1000000 [1:25:08<24:22:31, 10.71it/s]"
     ]
    },
    {
     "name": "stdout",
     "output_type": "stream",
     "text": [
      "frames: 60000, reward: -20.300000, loss: 0.002686, epsilon: 0.178569, episode:   67\n"
     ]
    },
    {
     "name": "stderr",
     "output_type": "stream",
     "text": [
      "  7%|████▊                                                                | 70001/1000000 [1:41:40<29:04:38,  8.88it/s]"
     ]
    },
    {
     "name": "stdout",
     "output_type": "stream",
     "text": [
      "frames: 70000, reward: -19.600000, loss: 0.004171, epsilon: 0.142123, episode:   76\n"
     ]
    },
    {
     "name": "stderr",
     "output_type": "stream",
     "text": [
      "  8%|█████▌                                                               | 80001/1000000 [1:58:07<24:27:22, 10.45it/s]"
     ]
    },
    {
     "name": "stdout",
     "output_type": "stream",
     "text": [
      "frames: 80000, reward: -17.300000, loss: 0.002297, epsilon: 0.116009, episode:   83\n"
     ]
    },
    {
     "name": "stderr",
     "output_type": "stream",
     "text": [
      "  9%|██████▏                                                              | 90002/1000000 [2:16:15<27:17:24,  9.26it/s]"
     ]
    },
    {
     "name": "stdout",
     "output_type": "stream",
     "text": [
      "frames: 90000, reward: -17.000000, loss: 0.005180, epsilon: 0.097298, episode:   90\n"
     ]
    },
    {
     "name": "stderr",
     "output_type": "stream",
     "text": [
      " 10%|██████▊                                                             | 100002/1000000 [2:34:10<29:35:27,  8.45it/s]"
     ]
    },
    {
     "name": "stdout",
     "output_type": "stream",
     "text": [
      "frames: 100000, reward: -16.000000, loss: 0.005059, epsilon: 0.083890, episode:   96\n"
     ]
    },
    {
     "name": "stderr",
     "output_type": "stream",
     "text": [
      " 11%|███████▍                                                            | 110001/1000000 [2:52:10<28:36:41,  8.64it/s]"
     ]
    },
    {
     "name": "stdout",
     "output_type": "stream",
     "text": [
      "frames: 110000, reward: -15.400000, loss: 0.014970, epsilon: 0.074283, episode:  102\n"
     ]
    },
    {
     "name": "stderr",
     "output_type": "stream",
     "text": [
      " 12%|████████▏                                                           | 120003/1000000 [3:10:09<26:13:51,  9.32it/s]"
     ]
    },
    {
     "name": "stdout",
     "output_type": "stream",
     "text": [
      "frames: 120000, reward: -15.900000, loss: 0.002507, epsilon: 0.067400, episode:  108\n"
     ]
    },
    {
     "name": "stderr",
     "output_type": "stream",
     "text": [
      " 13%|████████▊                                                           | 130002/1000000 [3:28:24<22:40:44, 10.66it/s]"
     ]
    },
    {
     "name": "stdout",
     "output_type": "stream",
     "text": [
      "frames: 130000, reward: -15.300000, loss: 0.003139, epsilon: 0.062468, episode:  113\n"
     ]
    },
    {
     "name": "stderr",
     "output_type": "stream",
     "text": [
      " 14%|█████████▌                                                          | 140001/1000000 [3:47:20<24:50:31,  9.62it/s]"
     ]
    },
    {
     "name": "stdout",
     "output_type": "stream",
     "text": [
      "frames: 140000, reward: -13.000000, loss: 0.004355, epsilon: 0.058933, episode:  118\n"
     ]
    },
    {
     "name": "stderr",
     "output_type": "stream",
     "text": [
      " 15%|██████████▏                                                         | 150002/1000000 [4:06:36<27:29:00,  8.59it/s]"
     ]
    },
    {
     "name": "stdout",
     "output_type": "stream",
     "text": [
      "frames: 150000, reward: -13.900000, loss: 0.001757, epsilon: 0.056401, episode:  124\n"
     ]
    },
    {
     "name": "stderr",
     "output_type": "stream",
     "text": [
      " 16%|██████████▉                                                         | 160002/1000000 [4:27:09<27:35:05,  8.46it/s]"
     ]
    },
    {
     "name": "stdout",
     "output_type": "stream",
     "text": [
      "frames: 160000, reward: -13.400000, loss: 0.004628, epsilon: 0.054587, episode:  129\n"
     ]
    },
    {
     "name": "stderr",
     "output_type": "stream",
     "text": [
      " 17%|███████████▌                                                        | 170001/1000000 [4:47:32<28:02:11,  8.22it/s]"
     ]
    },
    {
     "name": "stdout",
     "output_type": "stream",
     "text": [
      "frames: 170000, reward: -12.000000, loss: 0.005613, epsilon: 0.053286, episode:  133\n"
     ]
    },
    {
     "name": "stderr",
     "output_type": "stream",
     "text": [
      " 18%|████████████▏                                                       | 180002/1000000 [5:07:02<26:50:54,  8.48it/s]"
     ]
    },
    {
     "name": "stdout",
     "output_type": "stream",
     "text": [
      "frames: 180000, reward: -11.400000, loss: 0.001243, epsilon: 0.052355, episode:  138\n"
     ]
    },
    {
     "name": "stderr",
     "output_type": "stream",
     "text": [
      " 19%|████████████▉                                                       | 190002/1000000 [5:26:31<26:22:21,  8.53it/s]"
     ]
    },
    {
     "name": "stdout",
     "output_type": "stream",
     "text": [
      "frames: 190000, reward: -11.500000, loss: 0.004786, epsilon: 0.051687, episode:  143\n"
     ]
    },
    {
     "name": "stderr",
     "output_type": "stream",
     "text": [
      " 20%|█████████████▌                                                      | 200002/1000000 [5:46:01<25:49:14,  8.61it/s]"
     ]
    },
    {
     "name": "stdout",
     "output_type": "stream",
     "text": [
      "frames: 200000, reward: -11.900000, loss: 0.003785, epsilon: 0.051209, episode:  148\n"
     ]
    },
    {
     "name": "stderr",
     "output_type": "stream",
     "text": [
      " 21%|██████████████▎                                                     | 210002/1000000 [6:05:31<25:22:08,  8.65it/s]"
     ]
    },
    {
     "name": "stdout",
     "output_type": "stream",
     "text": [
      "frames: 210000, reward: -9.400000, loss: 0.002119, epsilon: 0.050866, episode:  152\n"
     ]
    },
    {
     "name": "stderr",
     "output_type": "stream",
     "text": [
      " 22%|██████████████▉                                                     | 220001/1000000 [6:24:58<26:25:00,  8.20it/s]"
     ]
    },
    {
     "name": "stdout",
     "output_type": "stream",
     "text": [
      "frames: 220000, reward: -8.700000, loss: 0.002912, epsilon: 0.050621, episode:  157\n"
     ]
    },
    {
     "name": "stderr",
     "output_type": "stream",
     "text": [
      " 23%|███████████████▋                                                    | 230002/1000000 [6:44:24<23:56:22,  8.93it/s]"
     ]
    },
    {
     "name": "stdout",
     "output_type": "stream",
     "text": [
      "frames: 230000, reward: -8.600000, loss: 0.015147, epsilon: 0.050445, episode:  161\n"
     ]
    },
    {
     "name": "stderr",
     "output_type": "stream",
     "text": [
      " 24%|████████████████▎                                                   | 240002/1000000 [7:03:55<25:25:36,  8.30it/s]"
     ]
    },
    {
     "name": "stdout",
     "output_type": "stream",
     "text": [
      "frames: 240000, reward: -4.500000, loss: 0.001840, epsilon: 0.050319, episode:  165\n"
     ]
    },
    {
     "name": "stderr",
     "output_type": "stream",
     "text": [
      " 25%|█████████████████                                                   | 250002/1000000 [7:23:29<24:27:20,  8.52it/s]"
     ]
    },
    {
     "name": "stdout",
     "output_type": "stream",
     "text": [
      "frames: 250000, reward: -3.400000, loss: 0.007449, epsilon: 0.050228, episode:  168\n"
     ]
    },
    {
     "name": "stderr",
     "output_type": "stream",
     "text": [
      " 26%|█████████████████▋                                                  | 260002/1000000 [7:43:02<26:00:36,  7.90it/s]"
     ]
    },
    {
     "name": "stdout",
     "output_type": "stream",
     "text": [
      "frames: 260000, reward: -2.400000, loss: 0.002962, epsilon: 0.050164, episode:  172\n"
     ]
    },
    {
     "name": "stderr",
     "output_type": "stream",
     "text": [
      " 27%|██████████████████▎                                                 | 270002/1000000 [8:02:33<23:49:00,  8.51it/s]"
     ]
    },
    {
     "name": "stdout",
     "output_type": "stream",
     "text": [
      "frames: 270000, reward: -5.400000, loss: 0.002813, epsilon: 0.050117, episode:  177\n"
     ]
    },
    {
     "name": "stderr",
     "output_type": "stream",
     "text": [
      " 28%|███████████████████                                                 | 280001/1000000 [8:22:06<24:29:31,  8.17it/s]"
     ]
    },
    {
     "name": "stdout",
     "output_type": "stream",
     "text": [
      "frames: 280000, reward: -6.900000, loss: 0.004610, epsilon: 0.050084, episode:  181\n"
     ]
    },
    {
     "name": "stderr",
     "output_type": "stream",
     "text": [
      " 29%|███████████████████▋                                                | 290002/1000000 [8:41:37<24:38:07,  8.01it/s]"
     ]
    },
    {
     "name": "stdout",
     "output_type": "stream",
     "text": [
      "frames: 290000, reward: -8.000000, loss: 0.004364, epsilon: 0.050060, episode:  185\n"
     ]
    },
    {
     "name": "stderr",
     "output_type": "stream",
     "text": [
      " 30%|████████████████████▍                                               | 300002/1000000 [9:01:10<25:02:58,  7.76it/s]"
     ]
    },
    {
     "name": "stdout",
     "output_type": "stream",
     "text": [
      "frames: 300000, reward: -6.300000, loss: 0.013610, epsilon: 0.050043, episode:  189\n"
     ]
    },
    {
     "name": "stderr",
     "output_type": "stream",
     "text": [
      " 31%|█████████████████████                                               | 310002/1000000 [9:20:46<22:13:05,  8.63it/s]"
     ]
    },
    {
     "name": "stdout",
     "output_type": "stream",
     "text": [
      "frames: 310000, reward: -3.900000, loss: 0.004933, epsilon: 0.050031, episode:  192\n"
     ]
    },
    {
     "name": "stderr",
     "output_type": "stream",
     "text": [
      " 32%|█████████████████████▊                                              | 320002/1000000 [9:40:21<23:57:21,  7.88it/s]"
     ]
    },
    {
     "name": "stdout",
     "output_type": "stream",
     "text": [
      "frames: 320000, reward: -3.300000, loss: 0.003172, epsilon: 0.050022, episode:  196\n"
     ]
    },
    {
     "name": "stderr",
     "output_type": "stream",
     "text": [
      " 33%|██████████████████████▍                                             | 330002/1000000 [9:59:53<22:49:14,  8.16it/s]"
     ]
    },
    {
     "name": "stdout",
     "output_type": "stream",
     "text": [
      "frames: 330000, reward: -4.000000, loss: 0.007399, epsilon: 0.050016, episode:  200\n"
     ]
    },
    {
     "name": "stderr",
     "output_type": "stream",
     "text": [
      " 34%|██████████████████████▊                                            | 340001/1000000 [10:19:23<22:33:56,  8.12it/s]"
     ]
    },
    {
     "name": "stdout",
     "output_type": "stream",
     "text": [
      "frames: 340000, reward: -4.700000, loss: 0.008584, epsilon: 0.050011, episode:  204\n"
     ]
    },
    {
     "name": "stderr",
     "output_type": "stream",
     "text": [
      " 35%|███████████████████████▍                                           | 350001/1000000 [10:38:53<21:50:43,  8.27it/s]"
     ]
    },
    {
     "name": "stdout",
     "output_type": "stream",
     "text": [
      "frames: 350000, reward: -4.700000, loss: 0.002459, epsilon: 0.050008, episode:  208\n"
     ]
    },
    {
     "name": "stderr",
     "output_type": "stream",
     "text": [
      " 36%|████████████████████████                                           | 360001/1000000 [10:58:26<21:48:45,  8.15it/s]"
     ]
    },
    {
     "name": "stdout",
     "output_type": "stream",
     "text": [
      "frames: 360000, reward: -3.000000, loss: 0.002060, epsilon: 0.050006, episode:  211\n"
     ]
    },
    {
     "name": "stderr",
     "output_type": "stream",
     "text": [
      " 37%|████████████████████████▊                                          | 370001/1000000 [11:17:58<21:14:17,  8.24it/s]"
     ]
    },
    {
     "name": "stdout",
     "output_type": "stream",
     "text": [
      "frames: 370000, reward: -1.200000, loss: 0.032746, epsilon: 0.050004, episode:  215\n"
     ]
    },
    {
     "name": "stderr",
     "output_type": "stream",
     "text": [
      " 38%|█████████████████████████▍                                         | 380002/1000000 [11:37:31<21:46:08,  7.91it/s]"
     ]
    },
    {
     "name": "stdout",
     "output_type": "stream",
     "text": [
      "frames: 380000, reward: -1.700000, loss: 0.004575, epsilon: 0.050003, episode:  218\n"
     ]
    },
    {
     "name": "stderr",
     "output_type": "stream",
     "text": [
      " 39%|██████████████████████████▏                                        | 390001/1000000 [11:57:02<20:46:13,  8.16it/s]"
     ]
    },
    {
     "name": "stdout",
     "output_type": "stream",
     "text": [
      "frames: 390000, reward: -1.500000, loss: 0.008850, epsilon: 0.050002, episode:  223\n"
     ]
    },
    {
     "name": "stderr",
     "output_type": "stream",
     "text": [
      " 40%|██████████████████████████▊                                        | 400002/1000000 [12:16:33<28:44:43,  5.80it/s]"
     ]
    },
    {
     "name": "stdout",
     "output_type": "stream",
     "text": [
      "frames: 400000, reward: 0.200000, loss: 0.003211, epsilon: 0.050002, episode:  226\n"
     ]
    },
    {
     "name": "stderr",
     "output_type": "stream",
     "text": [
      " 41%|███████████████████████████▍                                       | 410002/1000000 [12:35:39<19:05:30,  8.58it/s]"
     ]
    },
    {
     "name": "stdout",
     "output_type": "stream",
     "text": [
      "frames: 410000, reward: 1.700000, loss: 0.005731, epsilon: 0.050001, episode:  230\n"
     ]
    },
    {
     "name": "stderr",
     "output_type": "stream",
     "text": [
      " 42%|████████████████████████████▏                                      | 420002/1000000 [12:54:46<20:08:03,  8.00it/s]"
     ]
    },
    {
     "name": "stdout",
     "output_type": "stream",
     "text": [
      "frames: 420000, reward: 3.600000, loss: 0.003032, epsilon: 0.050001, episode:  234\n"
     ]
    },
    {
     "name": "stderr",
     "output_type": "stream",
     "text": [
      " 43%|████████████████████████████▊                                      | 430002/1000000 [13:12:44<18:10:35,  8.71it/s]"
     ]
    },
    {
     "name": "stdout",
     "output_type": "stream",
     "text": [
      "frames: 430000, reward: 4.200000, loss: 0.003348, epsilon: 0.050001, episode:  238\n"
     ]
    },
    {
     "name": "stderr",
     "output_type": "stream",
     "text": [
      " 44%|█████████████████████████████▍                                     | 440002/1000000 [13:30:29<16:48:38,  9.25it/s]"
     ]
    },
    {
     "name": "stdout",
     "output_type": "stream",
     "text": [
      "frames: 440000, reward: 3.200000, loss: 0.003639, epsilon: 0.050000, episode:  241\n"
     ]
    },
    {
     "name": "stderr",
     "output_type": "stream",
     "text": [
      " 45%|██████████████████████████████▏                                    | 450001/1000000 [13:47:54<13:18:24, 11.48it/s]"
     ]
    },
    {
     "name": "stdout",
     "output_type": "stream",
     "text": [
      "frames: 450000, reward: 2.800000, loss: 0.002341, epsilon: 0.050000, episode:  245\n"
     ]
    },
    {
     "name": "stderr",
     "output_type": "stream",
     "text": [
      " 46%|██████████████████████████████▊                                    | 460002/1000000 [14:01:26<11:53:22, 12.62it/s]"
     ]
    },
    {
     "name": "stdout",
     "output_type": "stream",
     "text": [
      "frames: 460000, reward: 2.100000, loss: 0.002422, epsilon: 0.050000, episode:  249\n"
     ]
    },
    {
     "name": "stderr",
     "output_type": "stream",
     "text": [
      " 47%|███████████████████████████████▍                                   | 470002/1000000 [14:14:58<12:07:46, 12.14it/s]"
     ]
    },
    {
     "name": "stdout",
     "output_type": "stream",
     "text": [
      "frames: 470000, reward: 3.200000, loss: 0.005731, epsilon: 0.050000, episode:  253\n"
     ]
    },
    {
     "name": "stderr",
     "output_type": "stream",
     "text": [
      " 48%|████████████████████████████████▏                                  | 480003/1000000 [14:28:44<11:59:53, 12.04it/s]"
     ]
    },
    {
     "name": "stdout",
     "output_type": "stream",
     "text": [
      "frames: 480000, reward: 5.000000, loss: 0.002328, epsilon: 0.050000, episode:  256\n"
     ]
    },
    {
     "name": "stderr",
     "output_type": "stream",
     "text": [
      " 49%|████████████████████████████████▊                                  | 490002/1000000 [14:44:05<13:02:00, 10.87it/s]"
     ]
    },
    {
     "name": "stdout",
     "output_type": "stream",
     "text": [
      "frames: 490000, reward: 5.800000, loss: 0.004397, epsilon: 0.050000, episode:  260\n"
     ]
    },
    {
     "name": "stderr",
     "output_type": "stream",
     "text": [
      " 50%|█████████████████████████████████▌                                 | 500002/1000000 [14:59:11<13:02:45, 10.65it/s]"
     ]
    },
    {
     "name": "stdout",
     "output_type": "stream",
     "text": [
      "frames: 500000, reward: 7.100000, loss: 0.006313, epsilon: 0.050000, episode:  264\n"
     ]
    },
    {
     "name": "stderr",
     "output_type": "stream",
     "text": [
      " 51%|██████████████████████████████████▏                                | 510003/1000000 [15:14:50<11:11:31, 12.16it/s]"
     ]
    },
    {
     "name": "stdout",
     "output_type": "stream",
     "text": [
      "frames: 510000, reward: 5.500000, loss: 0.006468, epsilon: 0.050000, episode:  268\n"
     ]
    },
    {
     "name": "stderr",
     "output_type": "stream",
     "text": [
      " 52%|██████████████████████████████████▊                                | 520003/1000000 [15:28:28<10:33:01, 12.64it/s]"
     ]
    },
    {
     "name": "stdout",
     "output_type": "stream",
     "text": [
      "frames: 520000, reward: 6.600000, loss: 0.001433, epsilon: 0.050000, episode:  272\n"
     ]
    },
    {
     "name": "stderr",
     "output_type": "stream",
     "text": [
      " 53%|███████████████████████████████████▌                               | 530001/1000000 [15:41:49<10:16:13, 12.71it/s]"
     ]
    },
    {
     "name": "stdout",
     "output_type": "stream",
     "text": [
      "frames: 530000, reward: 6.900000, loss: 0.001936, epsilon: 0.050000, episode:  276\n"
     ]
    },
    {
     "name": "stderr",
     "output_type": "stream",
     "text": [
      " 54%|████████████████████████████████████▏                              | 540001/1000000 [15:56:39<11:57:54, 10.68it/s]"
     ]
    },
    {
     "name": "stdout",
     "output_type": "stream",
     "text": [
      "frames: 540000, reward: 9.300000, loss: 0.006640, epsilon: 0.050000, episode:  279\n"
     ]
    },
    {
     "name": "stderr",
     "output_type": "stream",
     "text": [
      " 55%|████████████████████████████████████▊                              | 550002/1000000 [16:12:29<11:39:21, 10.72it/s]"
     ]
    },
    {
     "name": "stdout",
     "output_type": "stream",
     "text": [
      "frames: 550000, reward: 7.800000, loss: 0.002247, epsilon: 0.050000, episode:  283\n"
     ]
    },
    {
     "name": "stderr",
     "output_type": "stream",
     "text": [
      " 56%|█████████████████████████████████████▌                             | 560002/1000000 [16:28:00<11:11:23, 10.92it/s]"
     ]
    },
    {
     "name": "stdout",
     "output_type": "stream",
     "text": [
      "frames: 560000, reward: 8.000000, loss: 0.006688, epsilon: 0.050000, episode:  287\n"
     ]
    },
    {
     "name": "stderr",
     "output_type": "stream",
     "text": [
      " 57%|██████████████████████████████████████▏                            | 570003/1000000 [16:43:59<11:09:37, 10.70it/s]"
     ]
    },
    {
     "name": "stdout",
     "output_type": "stream",
     "text": [
      "frames: 570000, reward: 7.700000, loss: 0.001371, epsilon: 0.050000, episode:  291\n"
     ]
    },
    {
     "name": "stderr",
     "output_type": "stream",
     "text": [
      " 58%|██████████████████████████████████████▊                            | 580002/1000000 [16:59:54<11:27:54, 10.18it/s]"
     ]
    },
    {
     "name": "stdout",
     "output_type": "stream",
     "text": [
      "frames: 580000, reward: 7.400000, loss: 0.006533, epsilon: 0.050000, episode:  294\n"
     ]
    },
    {
     "name": "stderr",
     "output_type": "stream",
     "text": [
      " 59%|███████████████████████████████████████▌                           | 590003/1000000 [17:15:50<10:30:30, 10.84it/s]"
     ]
    },
    {
     "name": "stdout",
     "output_type": "stream",
     "text": [
      "frames: 590000, reward: 6.700000, loss: 0.002003, epsilon: 0.050000, episode:  298\n"
     ]
    },
    {
     "name": "stderr",
     "output_type": "stream",
     "text": [
      " 60%|████████████████████████████████████████▏                          | 600003/1000000 [17:31:48<10:17:09, 10.80it/s]"
     ]
    },
    {
     "name": "stdout",
     "output_type": "stream",
     "text": [
      "frames: 600000, reward: 7.000000, loss: 0.001666, epsilon: 0.050000, episode:  302\n"
     ]
    },
    {
     "name": "stderr",
     "output_type": "stream",
     "text": [
      " 61%|█████████████████████████████████████████▍                          | 610001/1000000 [17:47:19<9:57:39, 10.88it/s]"
     ]
    },
    {
     "name": "stdout",
     "output_type": "stream",
     "text": [
      "frames: 610000, reward: 7.500000, loss: 0.001481, epsilon: 0.050000, episode:  306\n"
     ]
    },
    {
     "name": "stderr",
     "output_type": "stream",
     "text": [
      " 62%|██████████████████████████████████████████▏                         | 620003/1000000 [18:02:50<9:53:51, 10.66it/s]"
     ]
    },
    {
     "name": "stdout",
     "output_type": "stream",
     "text": [
      "frames: 620000, reward: 8.900000, loss: 0.003486, epsilon: 0.050000, episode:  310\n"
     ]
    },
    {
     "name": "stderr",
     "output_type": "stream",
     "text": [
      " 63%|██████████████████████████████████████████▊                         | 630003/1000000 [18:17:59<9:11:30, 11.18it/s]"
     ]
    },
    {
     "name": "stdout",
     "output_type": "stream",
     "text": [
      "frames: 630000, reward: 8.600000, loss: 0.006496, epsilon: 0.050000, episode:  314\n"
     ]
    },
    {
     "name": "stderr",
     "output_type": "stream",
     "text": [
      " 64%|███████████████████████████████████████████▌                        | 640002/1000000 [18:33:50<9:44:51, 10.26it/s]"
     ]
    },
    {
     "name": "stdout",
     "output_type": "stream",
     "text": [
      "frames: 640000, reward: 11.000000, loss: 0.002622, epsilon: 0.050000, episode:  319\n"
     ]
    },
    {
     "name": "stderr",
     "output_type": "stream",
     "text": [
      " 65%|████████████████████████████████████████████▏                       | 650001/1000000 [18:49:04<9:01:08, 10.78it/s]"
     ]
    },
    {
     "name": "stdout",
     "output_type": "stream",
     "text": [
      "frames: 650000, reward: 8.800000, loss: 0.002366, epsilon: 0.050000, episode:  323\n"
     ]
    },
    {
     "name": "stderr",
     "output_type": "stream",
     "text": [
      " 66%|████████████████████████████████████████████▉                       | 660001/1000000 [19:04:58<9:12:32, 10.26it/s]"
     ]
    },
    {
     "name": "stdout",
     "output_type": "stream",
     "text": [
      "frames: 660000, reward: 9.000000, loss: 0.006109, epsilon: 0.050000, episode:  327\n"
     ]
    },
    {
     "name": "stderr",
     "output_type": "stream",
     "text": [
      " 67%|█████████████████████████████████████████████▌                      | 670002/1000000 [19:21:02<9:07:10, 10.05it/s]"
     ]
    },
    {
     "name": "stdout",
     "output_type": "stream",
     "text": [
      "frames: 670000, reward: 9.500000, loss: 0.003099, epsilon: 0.050000, episode:  331\n"
     ]
    },
    {
     "name": "stderr",
     "output_type": "stream",
     "text": [
      " 68%|██████████████████████████████████████████████▏                     | 680002/1000000 [19:37:05<8:56:29,  9.94it/s]"
     ]
    },
    {
     "name": "stdout",
     "output_type": "stream",
     "text": [
      "frames: 680000, reward: 10.500000, loss: 0.001961, epsilon: 0.050000, episode:  335\n"
     ]
    },
    {
     "name": "stderr",
     "output_type": "stream",
     "text": [
      " 69%|██████████████████████████████████████████████▉                     | 690003/1000000 [19:53:08<8:11:07, 10.52it/s]"
     ]
    },
    {
     "name": "stdout",
     "output_type": "stream",
     "text": [
      "frames: 690000, reward: 12.200000, loss: 0.001963, epsilon: 0.050000, episode:  340\n"
     ]
    },
    {
     "name": "stderr",
     "output_type": "stream",
     "text": [
      " 70%|███████████████████████████████████████████████▌                    | 700002/1000000 [20:08:39<7:15:13, 11.49it/s]"
     ]
    },
    {
     "name": "stdout",
     "output_type": "stream",
     "text": [
      "frames: 700000, reward: 12.200000, loss: 0.003273, epsilon: 0.050000, episode:  345\n"
     ]
    },
    {
     "name": "stderr",
     "output_type": "stream",
     "text": [
      " 71%|████████████████████████████████████████████████▎                   | 710001/1000000 [20:25:24<8:00:25, 10.06it/s]"
     ]
    },
    {
     "name": "stdout",
     "output_type": "stream",
     "text": [
      "frames: 710000, reward: 11.400000, loss: 0.001625, epsilon: 0.050000, episode:  349\n"
     ]
    },
    {
     "name": "stderr",
     "output_type": "stream",
     "text": [
      " 72%|████████████████████████████████████████████████▉                   | 720003/1000000 [20:41:07<6:43:21, 11.57it/s]"
     ]
    },
    {
     "name": "stdout",
     "output_type": "stream",
     "text": [
      "frames: 720000, reward: 12.100000, loss: 0.001024, epsilon: 0.050000, episode:  353\n"
     ]
    },
    {
     "name": "stderr",
     "output_type": "stream",
     "text": [
      " 73%|█████████████████████████████████████████████████▋                  | 730002/1000000 [20:56:29<7:18:29, 10.26it/s]"
     ]
    },
    {
     "name": "stdout",
     "output_type": "stream",
     "text": [
      "frames: 730000, reward: 13.400000, loss: 0.006984, epsilon: 0.050000, episode:  358\n"
     ]
    },
    {
     "name": "stderr",
     "output_type": "stream",
     "text": [
      " 74%|██████████████████████████████████████████████████▎                 | 740002/1000000 [21:12:50<7:31:26,  9.60it/s]"
     ]
    },
    {
     "name": "stdout",
     "output_type": "stream",
     "text": [
      "frames: 740000, reward: 12.600000, loss: 0.000796, epsilon: 0.050000, episode:  362\n"
     ]
    },
    {
     "name": "stderr",
     "output_type": "stream",
     "text": [
      " 75%|███████████████████████████████████████████████████                 | 750002/1000000 [21:29:30<7:01:44,  9.88it/s]"
     ]
    },
    {
     "name": "stdout",
     "output_type": "stream",
     "text": [
      "frames: 750000, reward: 11.200000, loss: 0.000956, epsilon: 0.050000, episode:  366\n"
     ]
    },
    {
     "name": "stderr",
     "output_type": "stream",
     "text": [
      " 76%|███████████████████████████████████████████████████▋                | 760001/1000000 [21:45:16<6:02:26, 11.04it/s]"
     ]
    },
    {
     "name": "stdout",
     "output_type": "stream",
     "text": [
      "frames: 760000, reward: 12.800000, loss: 0.005883, epsilon: 0.050000, episode:  371\n"
     ]
    },
    {
     "name": "stderr",
     "output_type": "stream",
     "text": [
      " 77%|████████████████████████████████████████████████████▎               | 770002/1000000 [22:01:21<5:57:16, 10.73it/s]"
     ]
    },
    {
     "name": "stdout",
     "output_type": "stream",
     "text": [
      "frames: 770000, reward: 13.800000, loss: 0.000708, epsilon: 0.050000, episode:  376\n"
     ]
    },
    {
     "name": "stderr",
     "output_type": "stream",
     "text": [
      " 78%|█████████████████████████████████████████████████████               | 780002/1000000 [22:17:06<6:04:51, 10.05it/s]"
     ]
    },
    {
     "name": "stdout",
     "output_type": "stream",
     "text": [
      "frames: 780000, reward: 13.200000, loss: 0.003977, epsilon: 0.050000, episode:  380\n"
     ]
    },
    {
     "name": "stderr",
     "output_type": "stream",
     "text": [
      " 79%|█████████████████████████████████████████████████████▋              | 790001/1000000 [22:33:03<5:33:54, 10.48it/s]"
     ]
    },
    {
     "name": "stdout",
     "output_type": "stream",
     "text": [
      "frames: 790000, reward: 13.100000, loss: 0.000748, epsilon: 0.050000, episode:  385\n"
     ]
    },
    {
     "name": "stderr",
     "output_type": "stream",
     "text": [
      " 80%|██████████████████████████████████████████████████████▍             | 800002/1000000 [22:49:52<6:38:56,  8.36it/s]"
     ]
    },
    {
     "name": "stdout",
     "output_type": "stream",
     "text": [
      "frames: 800000, reward: 12.900000, loss: 0.005172, epsilon: 0.050000, episode:  389\n"
     ]
    },
    {
     "name": "stderr",
     "output_type": "stream",
     "text": [
      " 81%|███████████████████████████████████████████████████████             | 810003/1000000 [23:05:06<4:49:49, 10.93it/s]"
     ]
    },
    {
     "name": "stdout",
     "output_type": "stream",
     "text": [
      "frames: 810000, reward: 14.400000, loss: 0.001151, epsilon: 0.050000, episode:  394\n"
     ]
    },
    {
     "name": "stderr",
     "output_type": "stream",
     "text": [
      " 82%|███████████████████████████████████████████████████████▊            | 820001/1000000 [23:19:29<4:09:49, 12.01it/s]"
     ]
    },
    {
     "name": "stdout",
     "output_type": "stream",
     "text": [
      "frames: 820000, reward: 12.900000, loss: 0.002082, epsilon: 0.050000, episode:  398\n"
     ]
    },
    {
     "name": "stderr",
     "output_type": "stream",
     "text": [
      " 83%|████████████████████████████████████████████████████████▍           | 830001/1000000 [23:33:59<3:57:55, 11.91it/s]"
     ]
    },
    {
     "name": "stdout",
     "output_type": "stream",
     "text": [
      "frames: 830000, reward: 10.600000, loss: 0.001507, epsilon: 0.050000, episode:  403\n"
     ]
    },
    {
     "name": "stderr",
     "output_type": "stream",
     "text": [
      " 84%|█████████████████████████████████████████████████████████           | 840002/1000000 [23:48:33<3:57:34, 11.22it/s]"
     ]
    },
    {
     "name": "stdout",
     "output_type": "stream",
     "text": [
      "frames: 840000, reward: 11.400000, loss: 0.002483, epsilon: 0.050000, episode:  407\n"
     ]
    },
    {
     "name": "stderr",
     "output_type": "stream",
     "text": [
      " 85%|█████████████████████████████████████████████████████████▊          | 850002/1000000 [24:03:07<3:49:53, 10.87it/s]"
     ]
    },
    {
     "name": "stdout",
     "output_type": "stream",
     "text": [
      "frames: 850000, reward: 12.100000, loss: 0.000603, epsilon: 0.050000, episode:  412\n"
     ]
    },
    {
     "name": "stderr",
     "output_type": "stream",
     "text": [
      " 86%|██████████████████████████████████████████████████████████▍         | 860002/1000000 [24:16:10<2:55:54, 13.26it/s]"
     ]
    },
    {
     "name": "stdout",
     "output_type": "stream",
     "text": [
      "frames: 860000, reward: 13.500000, loss: 0.000356, epsilon: 0.050000, episode:  417\n"
     ]
    },
    {
     "name": "stderr",
     "output_type": "stream",
     "text": [
      " 87%|███████████████████████████████████████████████████████████▏        | 870002/1000000 [24:29:03<2:53:09, 12.51it/s]"
     ]
    },
    {
     "name": "stdout",
     "output_type": "stream",
     "text": [
      "frames: 870000, reward: 16.200000, loss: 0.002690, epsilon: 0.050000, episode:  422\n"
     ]
    },
    {
     "name": "stderr",
     "output_type": "stream",
     "text": [
      " 88%|███████████████████████████████████████████████████████████▊        | 880002/1000000 [24:41:53<2:32:23, 13.12it/s]"
     ]
    },
    {
     "name": "stdout",
     "output_type": "stream",
     "text": [
      "frames: 880000, reward: 15.400000, loss: 0.001409, epsilon: 0.050000, episode:  426\n"
     ]
    },
    {
     "name": "stderr",
     "output_type": "stream",
     "text": [
      " 89%|████████████████████████████████████████████████████████████▌       | 890002/1000000 [24:54:44<2:25:45, 12.58it/s]"
     ]
    },
    {
     "name": "stdout",
     "output_type": "stream",
     "text": [
      "frames: 890000, reward: 14.200000, loss: 0.001324, epsilon: 0.050000, episode:  431\n"
     ]
    },
    {
     "name": "stderr",
     "output_type": "stream",
     "text": [
      " 90%|█████████████████████████████████████████████████████████████▏      | 900002/1000000 [25:07:51<2:15:54, 12.26it/s]"
     ]
    },
    {
     "name": "stdout",
     "output_type": "stream",
     "text": [
      "frames: 900000, reward: 14.200000, loss: 0.000842, epsilon: 0.050000, episode:  436\n"
     ]
    },
    {
     "name": "stderr",
     "output_type": "stream",
     "text": [
      " 91%|█████████████████████████████████████████████████████████████▉      | 910002/1000000 [25:21:09<1:54:51, 13.06it/s]"
     ]
    },
    {
     "name": "stdout",
     "output_type": "stream",
     "text": [
      "frames: 910000, reward: 13.100000, loss: 0.000627, epsilon: 0.050000, episode:  440\n"
     ]
    },
    {
     "name": "stderr",
     "output_type": "stream",
     "text": [
      " 92%|██████████████████████████████████████████████████████████████▌     | 920002/1000000 [25:34:08<1:46:55, 12.47it/s]"
     ]
    },
    {
     "name": "stdout",
     "output_type": "stream",
     "text": [
      "frames: 920000, reward: 13.100000, loss: 0.000945, epsilon: 0.050000, episode:  445\n"
     ]
    },
    {
     "name": "stderr",
     "output_type": "stream",
     "text": [
      " 93%|███████████████████████████████████████████████████████████████▏    | 930002/1000000 [25:47:04<1:28:51, 13.13it/s]"
     ]
    },
    {
     "name": "stdout",
     "output_type": "stream",
     "text": [
      "frames: 930000, reward: 14.700000, loss: 0.001246, epsilon: 0.050000, episode:  450\n"
     ]
    },
    {
     "name": "stderr",
     "output_type": "stream",
     "text": [
      " 94%|███████████████████████████████████████████████████████████████▉    | 940002/1000000 [25:59:59<1:18:46, 12.70it/s]"
     ]
    },
    {
     "name": "stdout",
     "output_type": "stream",
     "text": [
      "frames: 940000, reward: 14.600000, loss: 0.001323, epsilon: 0.050000, episode:  455\n"
     ]
    },
    {
     "name": "stderr",
     "output_type": "stream",
     "text": [
      " 95%|████████████████████████████████████████████████████████████████▌   | 950002/1000000 [26:12:53<1:07:38, 12.32it/s]"
     ]
    },
    {
     "name": "stdout",
     "output_type": "stream",
     "text": [
      "frames: 950000, reward: 15.100000, loss: 0.002548, epsilon: 0.050000, episode:  460\n"
     ]
    },
    {
     "name": "stderr",
     "output_type": "stream",
     "text": [
      " 96%|███████████████████████████████████████████████████████████████████▏  | 960002/1000000 [26:25:47<53:55, 12.36it/s]"
     ]
    },
    {
     "name": "stdout",
     "output_type": "stream",
     "text": [
      "frames: 960000, reward: 13.200000, loss: 0.001755, epsilon: 0.050000, episode:  465\n"
     ]
    },
    {
     "name": "stderr",
     "output_type": "stream",
     "text": [
      " 97%|███████████████████████████████████████████████████████████████████▉  | 970002/1000000 [26:38:43<37:36, 13.29it/s]"
     ]
    },
    {
     "name": "stdout",
     "output_type": "stream",
     "text": [
      "frames: 970000, reward: 12.800000, loss: 0.000655, epsilon: 0.050000, episode:  469\n"
     ]
    },
    {
     "name": "stderr",
     "output_type": "stream",
     "text": [
      " 98%|████████████████████████████████████████████████████████████████████▌ | 980002/1000000 [26:51:37<25:53, 12.87it/s]"
     ]
    },
    {
     "name": "stdout",
     "output_type": "stream",
     "text": [
      "frames: 980000, reward: 12.500000, loss: 0.005259, epsilon: 0.050000, episode:  474\n"
     ]
    },
    {
     "name": "stderr",
     "output_type": "stream",
     "text": [
      " 99%|█████████████████████████████████████████████████████████████████████▎| 990002/1000000 [27:04:38<13:07, 12.69it/s]"
     ]
    },
    {
     "name": "stdout",
     "output_type": "stream",
     "text": [
      "frames: 990000, reward: 12.600000, loss: 0.000578, epsilon: 0.050000, episode:  478\n"
     ]
    },
    {
     "name": "stderr",
     "output_type": "stream",
     "text": [
      "100%|█████████████████████████████████████████████████████████████████████| 1000000/1000000 [27:17:36<00:00, 10.18it/s]\n"
     ]
    }
   ],
   "source": [
    "## HyperParameters\n",
    "gamma = 0.99\n",
    "epsilon_max = 1\n",
    "epsilon_min = 0.05\n",
    "eps_decay = 30000\n",
    "frames = 1000000\n",
    "USE_CUDA = torch.cuda.is_available()\n",
    "learning_rate = 2e-4\n",
    "max_buff = 100000\n",
    "update_tar_interval = 1000\n",
    "batch_size = 32\n",
    "print_interval = 10000\n",
    "\n",
    "action_space = env.action_space\n",
    "action_dim = env.action_space.n\n",
    "state_channel = env.observation_space.shape[2]\n",
    "hidden_dim = 6\n",
    "agent = DQNAgent(in_channels = state_channel, action_space = action_space, hidden_dim = hidden_dim, \n",
    "                 USE_CUDA = USE_CUDA, lr = learning_rate, memory_size = max_buff)\n",
    "\n",
    "for _ in tqdm(range(100)):\n",
    "    frame = env.reset()\n",
    "    done = False\n",
    "    while not done:\n",
    "        action = random.randrange(agent.action_space.n)\n",
    "        next_frame, reward, done, _ = env.step(action)\n",
    "        agent.memory.push(frame, action, reward, next_frame, done)\n",
    "        frame = next_frame\n",
    "frame = env.reset()\n",
    "\n",
    "episode_reward = 0\n",
    "all_rewards = []\n",
    "avg_rewards = []\n",
    "losses = []\n",
    "episode_num = 0\n",
    "save_flag = False\n",
    "\n",
    "# e-greedy decay\n",
    "epsilon_by_frame = lambda frame_idx: epsilon_min + (epsilon_max - epsilon_min) * math.exp(\n",
    "            -1. * frame_idx / eps_decay)\n",
    "\n",
    "for i in tqdm(range(frames)):\n",
    "    epsilon = epsilon_by_frame(i)\n",
    "    state_tensor = agent.observe(frame)\n",
    "    action = agent.act(state_tensor, epsilon)\n",
    "    \n",
    "    next_frame, reward, done, _ = env.step(action)\n",
    "    \n",
    "    episode_reward += reward\n",
    "    agent.memory.push(frame, action, reward, next_frame, done)\n",
    "    frame = next_frame\n",
    "    \n",
    "    loss = agent.learn_from_experience(batch_size)\n",
    "    losses.append(loss)\n",
    "\n",
    "    if i % print_interval == 0:\n",
    "        print(\"frames: %5d, reward: %5f, loss: %4f, epsilon: %5f, episode: %4d\" % (i, np.mean(all_rewards[-10:]), loss, epsilon, episode_num))\n",
    "\n",
    "    if i % update_tar_interval == 0:\n",
    "        agent.targetNet.load_state_dict(agent.behaviourNet.state_dict())\n",
    "    \n",
    "    if done:\n",
    "        frame = env.reset()\n",
    "        all_rewards.append(episode_reward)\n",
    "        episode_reward = 0\n",
    "        episode_num += 1\n",
    "        \n",
    "        avg_reward = np.mean(all_rewards[-50:])\n",
    "        avg_rewards.append(avg_reward)\n",
    "        \n",
    "        if avg_reward > 19:\n",
    "            if save_flag == False:\n",
    "                agent.save_model()\n",
    "                save_flag = True\n",
    "                max_reward = avg_reward\n",
    "                print(\"model saved, episode:\", episode_num, \",avg reward:\", avg_reward)\n",
    "            else:\n",
    "                if avg_reward >= max_reward:\n",
    "                    agent.save_model()\n",
    "                    max_reward = avg_reward\n",
    "                    print(\"model saved, episode:\", episode_num, \",avg reward:\", avg_reward)"
   ]
  },
  {
   "cell_type": "code",
   "execution_count": 8,
   "metadata": {},
   "outputs": [],
   "source": [
    "# save learning curve\n",
    "learning_curve = np.array(avg_rewards)\n",
    "np.save('curve\\DQN', learning_curve)"
   ]
  }
 ],
 "metadata": {
  "kernelspec": {
   "display_name": "Python 3",
   "language": "python",
   "name": "python3"
  },
  "language_info": {
   "codemirror_mode": {
    "name": "ipython",
    "version": 3
   },
   "file_extension": ".py",
   "mimetype": "text/x-python",
   "name": "python",
   "nbconvert_exporter": "python",
   "pygments_lexer": "ipython3",
   "version": "3.8.5"
  }
 },
 "nbformat": 4,
 "nbformat_minor": 4
}
