{
 "cells": [
  {
   "cell_type": "code",
   "execution_count": 1,
   "metadata": {},
   "outputs": [],
   "source": [
    "from atari_wrappers import make_atari, wrap_deepmind,LazyFrames\n",
    "import numpy as np\n",
    "import torch\n",
    "import torch.nn as nn\n",
    "import torch.nn.functional as F\n",
    "import random\n",
    "import matplotlib.pyplot as plt\n",
    "import os\n",
    "os.environ[\"KMP_DUPLICATE_LIB_OK\"] = \"TRUE\""
   ]
  },
  {
   "cell_type": "code",
   "execution_count": 2,
   "metadata": {},
   "outputs": [],
   "source": [
    "env = make_atari('PongNoFrameskip-v4')\n",
    "env = wrap_deepmind(env, scale = False, frame_stack=True )"
   ]
  },
  {
   "cell_type": "markdown",
   "metadata": {},
   "source": [
    "## DQN"
   ]
  },
  {
   "cell_type": "code",
   "execution_count": 3,
   "metadata": {},
   "outputs": [],
   "source": [
    "# DQN\n",
    "class QNetwork(nn.Module):\n",
    "    def __init__(self, in_channels, hidden_dim, num_actions):\n",
    "        super(QNetwork, self).__init__()\n",
    "        self.conv1 = nn.Conv2d(in_channels, 32, kernel_size=8, stride=4)\n",
    "        self.conv2 = nn.Conv2d(32, 64, kernel_size=3, stride=2)\n",
    "        self.conv3 = nn.Conv2d(64, 64, kernel_size=3, stride=1)\n",
    "        self.fc4 = nn.Linear(7 * 7 * 64, 512)\n",
    "        self.fc5 = nn.Linear(512, hidden_dim)\n",
    "        self.fc6 = nn.Linear(hidden_dim, num_actions)\n",
    "\n",
    "    def forward(self, x):\n",
    "        x = F.relu(self.conv1(x))\n",
    "        x = F.relu(self.conv2(x))\n",
    "        x = F.relu(self.conv3(x))\n",
    "        x = x.reshape(x.size(0),-1)    \n",
    "        x = F.relu(self.fc4(x))\n",
    "        x = F.relu(self.fc5(x))\n",
    "        return self.fc6(x)\n",
    "    \n",
    "class DQNAgent: \n",
    "    def __init__(self, in_channels = 1, action_space = [], hidden_dim = 6, USE_CUDA = False):\n",
    "        self.behaviourNet = QNetwork(in_channels = in_channels, hidden_dim = hidden_dim, num_actions = action_space.n)\n",
    "        self.USE_CUDA = USE_CUDA\n",
    "        if USE_CUDA:\n",
    "            self.behaviourNet = self.behaviourNet.cuda()\n",
    "        self.behaviourNet = torch.load('saved_model\\DQN')\n",
    "\n",
    "    def observe(self, lazyframe):\n",
    "        # from Lazy frame to tensor\n",
    "        state =  torch.from_numpy(lazyframe._force().transpose(2,0,1)[None]/255).float()\n",
    "        if self.USE_CUDA:\n",
    "            state = state.cuda()\n",
    "        return state\n",
    "\n",
    "    def value(self, state):\n",
    "        q_values = self.behaviourNet(state)\n",
    "        return q_values\n",
    "    \n",
    "    def act(self, state):\n",
    "        q_values = self.value(state).cpu().detach().numpy()\n",
    "        aciton = q_values.argmax(1)[0]\n",
    "        return aciton"
   ]
  },
  {
   "cell_type": "code",
   "execution_count": 4,
   "metadata": {},
   "outputs": [
    {
     "name": "stdout",
     "output_type": "stream",
     "text": [
      "episode: 0 ,reward: 19.0\n",
      "episode: 1 ,reward: 20.0\n",
      "episode: 2 ,reward: 19.0\n",
      "episode: 3 ,reward: 20.0\n",
      "episode: 4 ,reward: 20.0\n",
      "episode: 5 ,reward: 20.0\n",
      "episode: 6 ,reward: 19.0\n",
      "episode: 7 ,reward: 18.0\n",
      "episode: 8 ,reward: 19.0\n",
      "episode: 9 ,reward: 20.0\n"
     ]
    }
   ],
   "source": [
    "env.seed(2021)\n",
    "Agent = DQNAgent(4, env.action_space, 6, True)\n",
    "for e in range(10):\n",
    "    episode_reward = 0\n",
    "    state = env.reset()\n",
    "    env.render()\n",
    "    done = False\n",
    "    while not done:\n",
    "        action = Agent.act(Agent.observe(state))\n",
    "        next_state, reward, done,_ = env.step(action)\n",
    "        state = next_state\n",
    "        episode_reward += reward\n",
    "        env.render()\n",
    "    print(\"episode:\",e,\",reward:\",episode_reward)\n",
    "env.close()"
   ]
  },
  {
   "cell_type": "markdown",
   "metadata": {},
   "source": [
    "## DATQN"
   ]
  },
  {
   "cell_type": "code",
   "execution_count": 5,
   "metadata": {},
   "outputs": [],
   "source": [
    "class QNetwork(nn.Module):\n",
    "    def __init__(self, in_channels, hidden_dim, num_actions):\n",
    "        super(QNetwork, self).__init__()\n",
    "        self.encoder_conv = nn.Sequential(\n",
    "            nn.Conv2d(in_channels, 32, kernel_size=8, stride=4), # bs*32*19*19\n",
    "            nn.ReLU(),\n",
    "            nn.Conv2d(32, 64, kernel_size=3, stride=2), # bs*64*9*9\n",
    "            nn.ReLU(),\n",
    "            nn.Conv2d(64, 64, kernel_size=3, stride=1), # bs*64*7*7\n",
    "            nn.ReLU()\n",
    "        )\n",
    "        self.encoder_linear = nn.Sequential(\n",
    "            nn.Linear(7 * 7 * 64, 512), # bs*512\n",
    "            nn.ReLU(),\n",
    "            nn.Linear(512, hidden_dim), # bs*hid_dim\n",
    "            nn.ReLU()\n",
    "        )\n",
    "        self.DQN = nn.Linear(hidden_dim, num_actions) # bs*num_actions\n",
    "        self.decoder_linear = nn.Sequential(\n",
    "            nn.Linear(hidden_dim, 512), # bs*512\n",
    "            nn.ReLU(),\n",
    "            nn.Linear(512, 7 * 7 * 64), # bs*64*7*7\n",
    "            nn.ReLU()\n",
    "        )\n",
    "        self.decoder_conv = nn.Sequential(\n",
    "            nn.ConvTranspose2d(64, 64, kernel_size=3, stride=1), # bs*64*9*9\n",
    "            nn.ReLU(),\n",
    "            nn.ConvTranspose2d(64, 32, kernel_size=3, stride=2), # bs*32*19*19\n",
    "            nn.ReLU(),\n",
    "            nn.ConvTranspose2d(32, in_channels, kernel_size=8, stride=4) # bs*4*80*80\n",
    "        )\n",
    "\n",
    "\n",
    "    def forward(self, x):\n",
    "        ## encoder:input->hidden\n",
    "        hidden = self.encoder_conv(x)\n",
    "        hidden = hidden.reshape(hidden.size(0),-1)\n",
    "        hidden = self.encoder_linear(hidden)\n",
    "        ## DQN:hidden->qtable\n",
    "        qtable = self.DQN(hidden)\n",
    "        ## decoder:hidden->output\n",
    "        output = self.decoder_linear(hidden)\n",
    "        output = output.reshape(output.size(0),64,7,7)\n",
    "        output = self.decoder_conv(output)\n",
    "        \n",
    "        return qtable, output\n",
    "    \n",
    "class DATQNAgent: \n",
    "    def __init__(self, in_channels = 1, action_space = [], hidden_dim = 6, USE_CUDA = False, memory_size = 10000, epsilon  = 1, lr = 1e-4):\n",
    "        self.epsilon = epsilon\n",
    "        self.behaviourNet = QNetwork(in_channels = in_channels, hidden_dim = hidden_dim, num_actions = action_space.n)\n",
    "        self.USE_CUDA = USE_CUDA\n",
    "        if USE_CUDA:\n",
    "            self.behaviourNet = self.behaviourNet.cuda()\n",
    "        self.behaviourNet = torch.load('saved_model\\DATQN')\n",
    "\n",
    "    def observe(self, lazyframe):\n",
    "        # from Lazy frame to tensor\n",
    "        state =  torch.from_numpy(lazyframe._force().transpose(2,0,1)[None]/255).float()\n",
    "        if self.USE_CUDA:\n",
    "            state = state.cuda()\n",
    "        return state\n",
    "\n",
    "    def value(self, state):\n",
    "        q_values, _ = self.behaviourNet(state)\n",
    "        return q_values\n",
    "    \n",
    "    def act(self, state):\n",
    "        q_values = self.value(state).cpu().detach().numpy()\n",
    "        aciton = q_values.argmax(1)[0]\n",
    "        return aciton\n",
    "    \n",
    "    def reconstruct(self, state):\n",
    "        _, output = self.behaviourNet(state)\n",
    "        return output"
   ]
  },
  {
   "cell_type": "code",
   "execution_count": 6,
   "metadata": {},
   "outputs": [
    {
     "name": "stdout",
     "output_type": "stream",
     "text": [
      "episode: 0 ,reward: 21.0\n",
      "episode: 1 ,reward: 21.0\n",
      "episode: 2 ,reward: 21.0\n",
      "episode: 3 ,reward: 21.0\n",
      "episode: 4 ,reward: 21.0\n",
      "episode: 5 ,reward: 21.0\n",
      "episode: 6 ,reward: 21.0\n",
      "episode: 7 ,reward: 20.0\n",
      "episode: 8 ,reward: 21.0\n",
      "episode: 9 ,reward: 21.0\n"
     ]
    }
   ],
   "source": [
    "env.seed(2021)\n",
    "Agent = DATQNAgent(4, env.action_space, 6, True)\n",
    "for e in range(10):\n",
    "    episode_reward = 0\n",
    "    state = env.reset()\n",
    "    env.render()\n",
    "    done = False\n",
    "    while not done:\n",
    "        action = Agent.act(Agent.observe(state))\n",
    "        next_state, reward, done,_ = env.step(action)\n",
    "        state = next_state\n",
    "        episode_reward += reward\n",
    "        env.render()\n",
    "    print(\"episode:\",e,\",reward:\",episode_reward)\n",
    "env.close()"
   ]
  },
  {
   "cell_type": "code",
   "execution_count": 7,
   "metadata": {},
   "outputs": [],
   "source": [
    "random.seed(2021)\n",
    "num = random.randint(0,1000)\n",
    "\n",
    "frame = env.reset()\n",
    "for i in range(num):\n",
    "    action = Agent.act(Agent.observe(frame))\n",
    "    next_frame, reward, done,_ = env.step(action)\n",
    "    frame = next_frame\n",
    "    if done: frame = env.reset()\n",
    "    \n",
    "state = Agent.observe(frame)\n",
    "recon = Agent.reconstruct(state)\n",
    "state = state.cpu().numpy().squeeze(0)\n",
    "recon = recon.cpu().detach().numpy().squeeze(0)"
   ]
  },
  {
   "cell_type": "code",
   "execution_count": 8,
   "metadata": {},
   "outputs": [],
   "source": [
    "state = Agent.observe(frame)\n",
    "recon = Agent.reconstruct(state)\n",
    "state = state.cpu().numpy().squeeze(0)\n",
    "recon = recon.cpu().detach().numpy().squeeze(0)"
   ]
  },
  {
   "cell_type": "code",
   "execution_count": 9,
   "metadata": {},
   "outputs": [
    {
     "data": {
      "text/plain": [
       "<matplotlib.image.AxesImage at 0x1f737b82ca0>"
      ]
     },
     "execution_count": 9,
     "metadata": {},
     "output_type": "execute_result"
    },
    {
     "data": {
      "image/png": "[encoded data removed]",
      "text/plain": [
       "<Figure size 432x288 with 2 Axes>"
      ]
     },
     "metadata": {
      "needs_background": "light"
     },
     "output_type": "display_data"
    }
   ],
   "source": [
    "plt.subplot(1,2,1)\n",
    "plt.imshow(state[0,:,:])\n",
    "plt.subplot(1,2,2)\n",
    "plt.imshow(recon[0,:,:])"
   ]
  },
  {
   "cell_type": "code",
   "execution_count": 10,
   "metadata": {},
   "outputs": [
    {
     "data": {
      "text/plain": [
       "<matplotlib.image.AxesImage at 0x1f767eb5cd0>"
      ]
     },
     "execution_count": 10,
     "metadata": {},
     "output_type": "execute_result"
    },
    {
     "data": {
      "image/png": "[encoded data removed]",
      "text/plain": [
       "<Figure size 432x288 with 2 Axes>"
      ]
     },
     "metadata": {
      "needs_background": "light"
     },
     "output_type": "display_data"
    }
   ],
   "source": [
    "plt.subplot(1,2,1)\n",
    "plt.imshow(state[1,:,:])\n",
    "plt.subplot(1,2,2)\n",
    "plt.imshow(recon[1,:,:])"
   ]
  },
  {
   "cell_type": "code",
   "execution_count": 11,
   "metadata": {},
   "outputs": [
    {
     "data": {
      "text/plain": [
       "<matplotlib.image.AxesImage at 0x1f7792004f0>"
      ]
     },
     "execution_count": 11,
     "metadata": {},
     "output_type": "execute_result"
    },
    {
     "data": {
      "image/png": "[encoded data removed]",
      "text/plain": [
       "<Figure size 432x288 with 2 Axes>"
      ]
     },
     "metadata": {
      "needs_background": "light"
     },
     "output_type": "display_data"
    }
   ],
   "source": [
    "plt.subplot(1,2,1)\n",
    "plt.imshow(state[2,:,:])\n",
    "plt.subplot(1,2,2)\n",
    "plt.imshow(recon[2,:,:])"
   ]
  },
  {
   "cell_type": "code",
   "execution_count": 12,
   "metadata": {},
   "outputs": [
    {
     "data": {
      "text/plain": [
       "<matplotlib.image.AxesImage at 0x1f77d8eed60>"
      ]
     },
     "execution_count": 12,
     "metadata": {},
     "output_type": "execute_result"
    },
    {
     "data": {
      "image/png": "[encoded data removed]",
      "text/plain": [
       "<Figure size 432x288 with 2 Axes>"
      ]
     },
     "metadata": {
      "needs_background": "light"
     },
     "output_type": "display_data"
    }
   ],
   "source": [
    "plt.subplot(1,2,1)\n",
    "plt.imshow(state[3,:,:])\n",
    "plt.subplot(1,2,2)\n",
    "plt.imshow(recon[3,:,:])"
   ]
  }
 ],
 "metadata": {
  "kernelspec": {
   "display_name": "Python 3",
   "language": "python",
   "name": "python3"
  },
  "language_info": {
   "codemirror_mode": {
    "name": "ipython",
    "version": 3
   },
   "file_extension": ".py",
   "mimetype": "text/x-python",
   "name": "python",
   "nbconvert_exporter": "python",
   "pygments_lexer": "ipython3",
   "version": "3.8.5"
  }
 },
 "nbformat": 4,
 "nbformat_minor": 4
}
