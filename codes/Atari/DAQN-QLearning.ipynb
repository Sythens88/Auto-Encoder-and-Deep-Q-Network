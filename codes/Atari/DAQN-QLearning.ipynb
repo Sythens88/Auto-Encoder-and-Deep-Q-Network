{
 "cells": [
  {
   "cell_type": "code",
   "execution_count": 1,
   "metadata": {},
   "outputs": [],
   "source": [
    "import gym, random, os, math\n",
    "import numpy as np\n",
    "import matplotlib.pyplot as plt\n",
    "import torch\n",
    "import torch.nn as nn\n",
    "import torch.nn.functional as F\n",
    "from atari_wrappers import make_atari, wrap_deepmind,LazyFrames\n",
    "from tqdm import tqdm\n",
    "os.environ[\"KMP_DUPLICATE_LIB_OK\"] = \"TRUE\""
   ]
  },
  {
   "cell_type": "code",
   "execution_count": 2,
   "metadata": {},
   "outputs": [],
   "source": [
    "# Create and wrap the environment\n",
    "env = make_atari('PongNoFrameskip-v4')\n",
    "env = wrap_deepmind(env, scale = False, frame_stack=True )"
   ]
  },
  {
   "cell_type": "code",
   "execution_count": 3,
   "metadata": {},
   "outputs": [],
   "source": [
    "## set seed\n",
    "seed = 123\n",
    "np.random.seed(seed)\n",
    "torch.manual_seed(seed)\n",
    "torch.cuda.manual_seed(seed)\n",
    "random.seed(seed)\n",
    "env.seed(seed)\n",
    "torch.backends.cudnn.deterministic = True\n",
    "torch.backends.cudnn.enabled = False\n",
    "torch.backends.cudnn.benchmark = False"
   ]
  },
  {
   "cell_type": "code",
   "execution_count": 4,
   "metadata": {},
   "outputs": [],
   "source": [
    "class QNetwork(nn.Module):\n",
    "    def __init__(self, in_channels, hidden_dim, num_actions):\n",
    "        super(QNetwork, self).__init__()\n",
    "        self.encoder_conv = nn.Sequential(\n",
    "            nn.Conv2d(in_channels, 32, kernel_size=8, stride=4), # bs*32*19*19\n",
    "            nn.ReLU(),\n",
    "            nn.Conv2d(32, 64, kernel_size=3, stride=2), # bs*64*9*9\n",
    "            nn.ReLU(),\n",
    "            nn.Conv2d(64, 64, kernel_size=3, stride=1), # bs*64*7*7\n",
    "            nn.ReLU()\n",
    "        )\n",
    "        self.encoder_linear = nn.Sequential(\n",
    "            nn.Linear(7 * 7 * 64, 512), # bs*512\n",
    "            nn.ReLU(),\n",
    "            nn.Linear(512, hidden_dim), # bs*hid_dim\n",
    "            nn.ReLU()\n",
    "        )\n",
    "        self.DQN = nn.Linear(hidden_dim, num_actions) # bs*num_actions\n",
    "        self.encoder_conv = torch.load('saved_model/daqn_pre_conv')\n",
    "        self.encoder_linear = torch.load('saved_model/daqn_pre_linear')\n",
    "\n",
    "    def forward(self, x):\n",
    "        ## encoder:input->hidden\n",
    "        hidden = self.encoder_conv(x)\n",
    "        hidden = hidden.reshape(hidden.size(0),-1)\n",
    "        hidden = self.encoder_linear(hidden)\n",
    "        ## DQN:hidden->qtable\n",
    "        qtable = self.DQN(hidden)\n",
    "        \n",
    "        return qtable"
   ]
  },
  {
   "cell_type": "code",
   "execution_count": 5,
   "metadata": {},
   "outputs": [],
   "source": [
    "class Memory(object):\n",
    "    def __init__(self, memory_size=100000):\n",
    "        self.buffer = []\n",
    "        self.memory_size = memory_size\n",
    "        self.next_idx = 0\n",
    "        \n",
    "    def push(self, state, action, reward, next_state, done):\n",
    "        data = (state, action, reward, next_state, done)\n",
    "        if len(self.buffer) <= self.memory_size: \n",
    "            self.buffer.append(data)\n",
    "        else: # buffer is full\n",
    "            self.buffer[self.next_idx] = data\n",
    "        self.next_idx = (self.next_idx + 1) % self.memory_size\n",
    "\n",
    "    def size(self):\n",
    "        return len(self.buffer)"
   ]
  },
  {
   "cell_type": "code",
   "execution_count": 6,
   "metadata": {},
   "outputs": [],
   "source": [
    "class DAQNAgent: \n",
    "    def __init__(self, in_channels = 1, action_space = [], hidden_dim = 6, USE_CUDA = False, memory_size = 10000, epsilon  = 1, lr = 1e-4):\n",
    "        self.epsilon = epsilon\n",
    "        self.action_space = action_space\n",
    "        self.memory = Memory(memory_size)\n",
    "        self.behaviourNet = QNetwork(in_channels = in_channels, hidden_dim = hidden_dim, num_actions = action_space.n)\n",
    "        self.targetNet = QNetwork(in_channels = in_channels, hidden_dim = hidden_dim, num_actions = action_space.n)\n",
    "        self.targetNet.load_state_dict(self.behaviourNet.state_dict())\n",
    "\n",
    "        self.USE_CUDA = USE_CUDA\n",
    "        if USE_CUDA:\n",
    "            self.behaviourNet = self.behaviourNet.cuda()\n",
    "            self.targetNet = self.targetNet.cuda()\n",
    "        self.optimizer = torch.optim.Adam(self.behaviourNet.parameters(),lr=lr)\n",
    "\n",
    "    def observe(self, lazyframe):\n",
    "        # from Lazy frame to tensor\n",
    "        state =  torch.from_numpy(lazyframe._force().transpose(2,0,1)[None]/255).float()\n",
    "        if self.USE_CUDA:\n",
    "            state = state.cuda()\n",
    "        return state\n",
    "\n",
    "    def value(self, state):\n",
    "        q_values = self.behaviourNet(state)\n",
    "        return q_values\n",
    "    \n",
    "    def act(self, state, epsilon = None):\n",
    "        if epsilon is None: epsilon = self.epsilon\n",
    "        q_values = self.value(state).cpu().detach().numpy()\n",
    "        if random.random() < epsilon:\n",
    "            aciton = random.randrange(self.action_space.n)\n",
    "        else:\n",
    "            aciton = q_values.argmax(1)[0]\n",
    "        return aciton\n",
    "    \n",
    "    def compute_td_loss(self, states, actions, rewards, next_states, is_done, gamma = 0.99):\n",
    "        actions = torch.tensor(actions).long()    # shape: [batch_size]\n",
    "        rewards = torch.tensor(rewards, dtype =torch.float)  # shape: [batch_size]\n",
    "        is_done = torch.tensor(is_done).bool()  # shape: [batch_size]\n",
    "        if self.USE_CUDA:\n",
    "            actions = actions.cuda()\n",
    "            rewards = rewards.cuda()\n",
    "            is_done = is_done.cuda()\n",
    "            \n",
    "        # get q-values for all actions in current states\n",
    "        predicted_qvalues = self.behaviourNet(states)\n",
    "        # select q-values for chosen actions:Q(s_t,a_t)\n",
    "        predicted_qvalues_for_actions = predicted_qvalues[range(states.shape[0]), actions]\n",
    "        # compute q-values for all actions in next states:Q(s_t+1,a*)\n",
    "        predicted_next_qvalues = self.targetNet(next_states)\n",
    "        # compute V*(next_states) using predicted next q-values:max Q(s_t+1,a*)\n",
    "        next_state_values =  predicted_next_qvalues.max(-1)[0] \n",
    "        # compute \"target q-values\" for loss \n",
    "        target_qvalues_for_actions = rewards + gamma *next_state_values\n",
    "        # at the last state we shall use simplified formula: done or not\n",
    "        target_qvalues_for_actions = torch.where(is_done, rewards, target_qvalues_for_actions)\n",
    "\n",
    "        # loss\n",
    "        loss = F.smooth_l1_loss(predicted_qvalues_for_actions, target_qvalues_for_actions.detach())\n",
    "\n",
    "        return loss\n",
    "    \n",
    "    def sample_from_buffer(self, batch_size):\n",
    "        states, actions, rewards, next_states, dones = [], [], [], [], []\n",
    "        for i in range(batch_size):\n",
    "            idx = random.randint(0, self.memory.size() - 1)\n",
    "            data = self.memory.buffer[idx]\n",
    "            frame, action, reward, next_frame, done = data\n",
    "            states.append(self.observe(frame))\n",
    "            actions.append(action)\n",
    "            rewards.append(reward)\n",
    "            next_states.append(self.observe(next_frame))\n",
    "            dones.append(done)\n",
    "        return torch.cat(states), actions, rewards, torch.cat(next_states), dones\n",
    "\n",
    "    def learn_from_experience(self, batch_size):\n",
    "        states, actions, rewards, next_states, dones = self.sample_from_buffer(batch_size)\n",
    "        td_loss = self.compute_td_loss(states, actions, rewards, next_states, dones)\n",
    "        self.optimizer.zero_grad()\n",
    "        td_loss.backward()\n",
    "        for param in self.behaviourNet.parameters():\n",
    "            param.grad.data.clamp_(-1, 1)\n",
    "        self.optimizer.step()\n",
    "        return(td_loss.item())\n",
    "    \n",
    "    def save_model(self):\n",
    "        torch.save(self.behaviourNet, 'saved_model\\DAQN')"
   ]
  },
  {
   "cell_type": "code",
   "execution_count": 7,
   "metadata": {},
   "outputs": [
    {
     "name": "stderr",
     "output_type": "stream",
     "text": [
      "100%|████████████████████████████████████████████████████████████████████████████████| 100/100 [01:21<00:00,  1.23it/s]\n",
      "  0%|                                                                                      | 0/1000000 [00:00<?, ?it/s]D:\\anaconda3\\lib\\site-packages\\numpy\\core\\fromnumeric.py:3372: RuntimeWarning: Mean of empty slice.\n",
      "  return _methods._mean(a, axis=axis, dtype=dtype,\n",
      "D:\\anaconda3\\lib\\site-packages\\numpy\\core\\_methods.py:170: RuntimeWarning: invalid value encountered in double_scalars\n",
      "  ret = ret.dtype.type(ret / rcount)\n",
      "  0%|                                                                           | 4/1000000 [00:00<92:31:11,  3.00it/s]"
     ]
    },
    {
     "name": "stdout",
     "output_type": "stream",
     "text": [
      "frames:     0, reward:   nan, loss: 0.097387, epsilon: 1.000000, episode:    0\n"
     ]
    },
    {
     "name": "stderr",
     "output_type": "stream",
     "text": [
      "  1%|▋                                                                      | 10003/1000000 [07:54<12:27:25, 22.08it/s]"
     ]
    },
    {
     "name": "stdout",
     "output_type": "stream",
     "text": [
      "frames: 10000, reward: -20.700000, loss: 0.019101, epsilon: 0.730705, episode:   11\n"
     ]
    },
    {
     "name": "stderr",
     "output_type": "stream",
     "text": [
      "  2%|█▍                                                                     | 20002/1000000 [18:02<13:38:14, 19.96it/s]"
     ]
    },
    {
     "name": "stdout",
     "output_type": "stream",
     "text": [
      "frames: 20000, reward: -20.900000, loss: 0.002593, epsilon: 0.537746, episode:   24\n"
     ]
    },
    {
     "name": "stderr",
     "output_type": "stream",
     "text": [
      "  3%|██▏                                                                    | 30002/1000000 [38:07<43:53:15,  6.14it/s]"
     ]
    },
    {
     "name": "stdout",
     "output_type": "stream",
     "text": [
      "frames: 30000, reward: -20.100000, loss: 0.007817, epsilon: 0.399485, episode:   35\n"
     ]
    },
    {
     "name": "stderr",
     "output_type": "stream",
     "text": [
      "  4%|██▊                                                                  | 40002/1000000 [1:05:01<43:02:32,  6.20it/s]"
     ]
    },
    {
     "name": "stdout",
     "output_type": "stream",
     "text": [
      "frames: 40000, reward: -20.200000, loss: 0.001165, epsilon: 0.300417, episode:   46\n"
     ]
    },
    {
     "name": "stderr",
     "output_type": "stream",
     "text": [
      "  5%|███▍                                                                 | 50002/1000000 [1:31:56<43:41:28,  6.04it/s]"
     ]
    },
    {
     "name": "stdout",
     "output_type": "stream",
     "text": [
      "frames: 50000, reward: -20.700000, loss: 0.000899, epsilon: 0.229432, episode:   58\n"
     ]
    },
    {
     "name": "stderr",
     "output_type": "stream",
     "text": [
      "  6%|████▏                                                                | 60002/1000000 [1:57:52<42:14:54,  6.18it/s]"
     ]
    },
    {
     "name": "stdout",
     "output_type": "stream",
     "text": [
      "frames: 60000, reward: -20.200000, loss: 0.001981, epsilon: 0.178569, episode:   69\n"
     ]
    },
    {
     "name": "stderr",
     "output_type": "stream",
     "text": [
      "  7%|████▊                                                                | 70003/1000000 [2:17:43<24:06:33, 10.72it/s]"
     ]
    },
    {
     "name": "stdout",
     "output_type": "stream",
     "text": [
      "frames: 70000, reward: -20.500000, loss: 0.000543, epsilon: 0.142123, episode:   80\n"
     ]
    },
    {
     "name": "stderr",
     "output_type": "stream",
     "text": [
      "  8%|█████▌                                                               | 80001/1000000 [2:34:22<22:58:35, 11.12it/s]"
     ]
    },
    {
     "name": "stdout",
     "output_type": "stream",
     "text": [
      "frames: 80000, reward: -20.700000, loss: 0.001709, epsilon: 0.116009, episode:   92\n"
     ]
    },
    {
     "name": "stderr",
     "output_type": "stream",
     "text": [
      "  9%|██████▏                                                              | 90002/1000000 [2:49:40<23:11:28, 10.90it/s]"
     ]
    },
    {
     "name": "stdout",
     "output_type": "stream",
     "text": [
      "frames: 90000, reward: -20.700000, loss: 0.003297, epsilon: 0.097298, episode:  103\n"
     ]
    },
    {
     "name": "stderr",
     "output_type": "stream",
     "text": [
      " 10%|██████▊                                                             | 100001/1000000 [3:04:49<23:21:35, 10.70it/s]"
     ]
    },
    {
     "name": "stdout",
     "output_type": "stream",
     "text": [
      "frames: 100000, reward: -18.200000, loss: 0.005958, epsilon: 0.083890, episode:  111\n"
     ]
    },
    {
     "name": "stderr",
     "output_type": "stream",
     "text": [
      " 11%|███████▍                                                            | 110002/1000000 [3:19:58<22:41:47, 10.89it/s]"
     ]
    },
    {
     "name": "stdout",
     "output_type": "stream",
     "text": [
      "frames: 110000, reward: -15.500000, loss: 0.003530, epsilon: 0.074283, episode:  117\n"
     ]
    },
    {
     "name": "stderr",
     "output_type": "stream",
     "text": [
      " 12%|████████▏                                                           | 120002/1000000 [3:35:12<22:25:21, 10.90it/s]"
     ]
    },
    {
     "name": "stdout",
     "output_type": "stream",
     "text": [
      "frames: 120000, reward: -15.700000, loss: 0.001592, epsilon: 0.067400, episode:  123\n"
     ]
    },
    {
     "name": "stderr",
     "output_type": "stream",
     "text": [
      " 13%|████████▊                                                           | 130001/1000000 [3:50:31<22:29:52, 10.74it/s]"
     ]
    },
    {
     "name": "stdout",
     "output_type": "stream",
     "text": [
      "frames: 130000, reward: -16.400000, loss: 0.001396, epsilon: 0.062468, episode:  127\n"
     ]
    },
    {
     "name": "stderr",
     "output_type": "stream",
     "text": [
      " 14%|█████████▌                                                          | 140002/1000000 [4:05:45<21:38:28, 11.04it/s]"
     ]
    },
    {
     "name": "stdout",
     "output_type": "stream",
     "text": [
      "frames: 140000, reward: -16.800000, loss: 0.003767, epsilon: 0.058933, episode:  132\n"
     ]
    },
    {
     "name": "stderr",
     "output_type": "stream",
     "text": [
      " 15%|██████████▏                                                         | 150002/1000000 [4:20:55<21:42:30, 10.88it/s]"
     ]
    },
    {
     "name": "stdout",
     "output_type": "stream",
     "text": [
      "frames: 150000, reward: -15.900000, loss: 0.001668, epsilon: 0.056401, episode:  137\n"
     ]
    },
    {
     "name": "stderr",
     "output_type": "stream",
     "text": [
      " 16%|██████████▉                                                         | 160003/1000000 [4:35:51<18:54:28, 12.34it/s]"
     ]
    },
    {
     "name": "stdout",
     "output_type": "stream",
     "text": [
      "frames: 160000, reward: -13.700000, loss: 0.000804, epsilon: 0.054587, episode:  142\n"
     ]
    },
    {
     "name": "stderr",
     "output_type": "stream",
     "text": [
      " 17%|███████████▌                                                        | 170005/1000000 [4:53:03<10:01:27, 23.00it/s]"
     ]
    },
    {
     "name": "stdout",
     "output_type": "stream",
     "text": [
      "frames: 170000, reward: -12.500000, loss: 0.005728, epsilon: 0.053286, episode:  147\n"
     ]
    },
    {
     "name": "stderr",
     "output_type": "stream",
     "text": [
      " 18%|████████████▏                                                       | 180001/1000000 [5:10:05<20:53:22, 10.90it/s]"
     ]
    },
    {
     "name": "stdout",
     "output_type": "stream",
     "text": [
      "frames: 180000, reward: -11.900000, loss: 0.005178, epsilon: 0.052355, episode:  151\n"
     ]
    },
    {
     "name": "stderr",
     "output_type": "stream",
     "text": [
      " 19%|████████████▉                                                       | 190002/1000000 [5:25:40<20:05:19, 11.20it/s]"
     ]
    },
    {
     "name": "stdout",
     "output_type": "stream",
     "text": [
      "frames: 190000, reward: -11.100000, loss: 0.005104, epsilon: 0.051687, episode:  157\n"
     ]
    },
    {
     "name": "stderr",
     "output_type": "stream",
     "text": [
      " 20%|█████████████▊                                                       | 200004/1000000 [5:41:33<9:39:57, 22.99it/s]"
     ]
    },
    {
     "name": "stdout",
     "output_type": "stream",
     "text": [
      "frames: 200000, reward: -11.100000, loss: 0.001514, epsilon: 0.051209, episode:  162\n"
     ]
    },
    {
     "name": "stderr",
     "output_type": "stream",
     "text": [
      " 21%|██████████████▎                                                     | 210002/1000000 [5:56:05<10:17:16, 21.33it/s]"
     ]
    },
    {
     "name": "stdout",
     "output_type": "stream",
     "text": [
      "frames: 210000, reward: -10.700000, loss: 0.002511, epsilon: 0.050866, episode:  166\n"
     ]
    },
    {
     "name": "stderr",
     "output_type": "stream",
     "text": [
      " 22%|███████████████▏                                                     | 220005/1000000 [6:08:41<9:52:31, 21.94it/s]"
     ]
    },
    {
     "name": "stdout",
     "output_type": "stream",
     "text": [
      "frames: 220000, reward: -11.600000, loss: 0.006441, epsilon: 0.050621, episode:  171\n"
     ]
    },
    {
     "name": "stderr",
     "output_type": "stream",
     "text": [
      " 23%|███████████████▋                                                    | 230002/1000000 [6:20:07<10:12:27, 20.95it/s]"
     ]
    },
    {
     "name": "stdout",
     "output_type": "stream",
     "text": [
      "frames: 230000, reward: -11.500000, loss: 0.001657, epsilon: 0.050445, episode:  177\n"
     ]
    },
    {
     "name": "stderr",
     "output_type": "stream",
     "text": [
      " 24%|████████████████▎                                                   | 240004/1000000 [6:33:15<10:08:17, 20.82it/s]"
     ]
    },
    {
     "name": "stdout",
     "output_type": "stream",
     "text": [
      "frames: 240000, reward: -11.200000, loss: 0.002020, epsilon: 0.050319, episode:  182\n"
     ]
    },
    {
     "name": "stderr",
     "output_type": "stream",
     "text": [
      " 25%|█████████████████                                                   | 250003/1000000 [6:47:17<10:22:09, 20.09it/s]"
     ]
    },
    {
     "name": "stdout",
     "output_type": "stream",
     "text": [
      "frames: 250000, reward: -11.100000, loss: 0.004374, epsilon: 0.050228, episode:  187\n"
     ]
    },
    {
     "name": "stderr",
     "output_type": "stream",
     "text": [
      " 26%|█████████████████▋                                                  | 260002/1000000 [7:01:55<18:52:30, 10.89it/s]"
     ]
    },
    {
     "name": "stdout",
     "output_type": "stream",
     "text": [
      "frames: 260000, reward: -10.800000, loss: 0.010196, epsilon: 0.050164, episode:  192\n"
     ]
    },
    {
     "name": "stderr",
     "output_type": "stream",
     "text": [
      " 27%|██████████████████▎                                                 | 270002/1000000 [7:16:53<33:19:52,  6.08it/s]"
     ]
    },
    {
     "name": "stdout",
     "output_type": "stream",
     "text": [
      "frames: 270000, reward: -11.000000, loss: 0.001438, epsilon: 0.050117, episode:  197\n"
     ]
    },
    {
     "name": "stderr",
     "output_type": "stream",
     "text": [
      " 28%|███████████████████                                                 | 280001/1000000 [7:31:30<18:33:08, 10.78it/s]"
     ]
    },
    {
     "name": "stdout",
     "output_type": "stream",
     "text": [
      "frames: 280000, reward: -11.900000, loss: 0.002253, epsilon: 0.050084, episode:  202\n"
     ]
    },
    {
     "name": "stderr",
     "output_type": "stream",
     "text": [
      " 29%|███████████████████▋                                                | 290002/1000000 [7:46:29<18:45:21, 10.52it/s]"
     ]
    },
    {
     "name": "stdout",
     "output_type": "stream",
     "text": [
      "frames: 290000, reward: -10.300000, loss: 0.002854, epsilon: 0.050060, episode:  206\n"
     ]
    },
    {
     "name": "stderr",
     "output_type": "stream",
     "text": [
      " 30%|████████████████████▋                                                | 300003/1000000 [8:01:03<9:47:12, 19.87it/s]"
     ]
    },
    {
     "name": "stdout",
     "output_type": "stream",
     "text": [
      "frames: 300000, reward: -8.900000, loss: 0.002972, epsilon: 0.050043, episode:  210\n"
     ]
    },
    {
     "name": "stderr",
     "output_type": "stream",
     "text": [
      " 31%|█████████████████████                                               | 310001/1000000 [8:14:38<17:43:00, 10.82it/s]"
     ]
    },
    {
     "name": "stdout",
     "output_type": "stream",
     "text": [
      "frames: 310000, reward: -8.100000, loss: 0.012110, epsilon: 0.050031, episode:  215\n"
     ]
    },
    {
     "name": "stderr",
     "output_type": "stream",
     "text": [
      " 32%|██████████████████████                                               | 320003/1000000 [8:28:45<9:37:30, 19.62it/s]"
     ]
    },
    {
     "name": "stdout",
     "output_type": "stream",
     "text": [
      "frames: 320000, reward: -8.300000, loss: 0.002915, epsilon: 0.050022, episode:  219\n"
     ]
    },
    {
     "name": "stderr",
     "output_type": "stream",
     "text": [
      " 33%|██████████████████████▍                                             | 330002/1000000 [8:42:33<30:28:39,  6.11it/s]"
     ]
    },
    {
     "name": "stdout",
     "output_type": "stream",
     "text": [
      "frames: 330000, reward: -7.900000, loss: 0.002519, epsilon: 0.050016, episode:  223\n"
     ]
    },
    {
     "name": "stderr",
     "output_type": "stream",
     "text": [
      " 34%|███████████████████████                                             | 340003/1000000 [8:57:25<16:50:16, 10.89it/s]"
     ]
    },
    {
     "name": "stdout",
     "output_type": "stream",
     "text": [
      "frames: 340000, reward: -7.500000, loss: 0.001850, epsilon: 0.050011, episode:  228\n"
     ]
    },
    {
     "name": "stderr",
     "output_type": "stream",
     "text": [
      " 35%|███████████████████████▊                                            | 350001/1000000 [9:11:43<16:59:53, 10.62it/s]"
     ]
    },
    {
     "name": "stdout",
     "output_type": "stream",
     "text": [
      "frames: 350000, reward: -9.200000, loss: 0.003639, epsilon: 0.050008, episode:  232\n"
     ]
    },
    {
     "name": "stderr",
     "output_type": "stream",
     "text": [
      " 36%|████████████████████████▍                                           | 360002/1000000 [9:25:49<12:30:32, 14.21it/s]"
     ]
    },
    {
     "name": "stdout",
     "output_type": "stream",
     "text": [
      "frames: 360000, reward: -8.000000, loss: 0.003206, epsilon: 0.050006, episode:  236\n"
     ]
    },
    {
     "name": "stderr",
     "output_type": "stream",
     "text": [
      " 37%|█████████████████████████▌                                           | 370003/1000000 [9:33:52<6:52:14, 25.47it/s]"
     ]
    },
    {
     "name": "stdout",
     "output_type": "stream",
     "text": [
      "frames: 370000, reward: -6.700000, loss: 0.022232, epsilon: 0.050004, episode:  241\n"
     ]
    },
    {
     "name": "stderr",
     "output_type": "stream",
     "text": [
      " 38%|██████████████████████████▏                                          | 380005/1000000 [9:40:38<6:47:29, 25.36it/s]"
     ]
    },
    {
     "name": "stdout",
     "output_type": "stream",
     "text": [
      "frames: 380000, reward: -6.200000, loss: 0.011503, epsilon: 0.050003, episode:  245\n"
     ]
    },
    {
     "name": "stderr",
     "output_type": "stream",
     "text": [
      " 39%|██████████████████████████▉                                          | 390005/1000000 [9:47:26<7:15:22, 23.35it/s]"
     ]
    },
    {
     "name": "stdout",
     "output_type": "stream",
     "text": [
      "frames: 390000, reward: -6.200000, loss: 0.002231, epsilon: 0.050002, episode:  249\n"
     ]
    },
    {
     "name": "stderr",
     "output_type": "stream",
     "text": [
      " 40%|███████████████████████████▏                                        | 400001/1000000 [9:58:24<15:27:13, 10.78it/s]"
     ]
    },
    {
     "name": "stdout",
     "output_type": "stream",
     "text": [
      "frames: 400000, reward: -6.700000, loss: 0.002724, epsilon: 0.050002, episode:  253\n"
     ]
    },
    {
     "name": "stderr",
     "output_type": "stream",
     "text": [
      " 41%|███████████████████████████▍                                       | 410002/1000000 [10:23:29<26:49:03,  6.11it/s]"
     ]
    },
    {
     "name": "stdout",
     "output_type": "stream",
     "text": [
      "frames: 410000, reward: -6.600000, loss: 0.002072, epsilon: 0.050001, episode:  257\n"
     ]
    },
    {
     "name": "stderr",
     "output_type": "stream",
     "text": [
      " 42%|████████████████████████████▌                                       | 420001/1000000 [10:47:18<6:53:35, 23.37it/s]"
     ]
    },
    {
     "name": "stdout",
     "output_type": "stream",
     "text": [
      "frames: 420000, reward: -5.400000, loss: 0.003176, epsilon: 0.050001, episode:  261\n"
     ]
    },
    {
     "name": "stderr",
     "output_type": "stream",
     "text": [
      " 43%|█████████████████████████████▏                                      | 430005/1000000 [10:55:20<6:40:39, 23.71it/s]"
     ]
    },
    {
     "name": "stdout",
     "output_type": "stream",
     "text": [
      "frames: 430000, reward: -6.400000, loss: 0.002813, epsilon: 0.050001, episode:  266\n"
     ]
    },
    {
     "name": "stderr",
     "output_type": "stream",
     "text": [
      " 44%|█████████████████████████████▉                                      | 440005/1000000 [11:02:07<6:05:13, 25.55it/s]"
     ]
    },
    {
     "name": "stdout",
     "output_type": "stream",
     "text": [
      "frames: 440000, reward: -6.800000, loss: 0.004981, epsilon: 0.050000, episode:  270\n"
     ]
    },
    {
     "name": "stderr",
     "output_type": "stream",
     "text": [
      " 45%|██████████████████████████████▌                                     | 450003/1000000 [11:08:54<6:11:32, 24.67it/s]"
     ]
    },
    {
     "name": "stdout",
     "output_type": "stream",
     "text": [
      "frames: 450000, reward: -6.600000, loss: 0.000813, epsilon: 0.050000, episode:  274\n"
     ]
    },
    {
     "name": "stderr",
     "output_type": "stream",
     "text": [
      " 46%|███████████████████████████████▎                                    | 460003/1000000 [11:15:41<6:07:17, 24.50it/s]"
     ]
    },
    {
     "name": "stdout",
     "output_type": "stream",
     "text": [
      "frames: 460000, reward: -5.700000, loss: 0.002731, epsilon: 0.050000, episode:  278\n"
     ]
    },
    {
     "name": "stderr",
     "output_type": "stream",
     "text": [
      " 47%|███████████████████████████████▉                                    | 470003/1000000 [11:22:35<5:47:55, 25.39it/s]"
     ]
    },
    {
     "name": "stdout",
     "output_type": "stream",
     "text": [
      "frames: 470000, reward: -6.200000, loss: 0.002830, epsilon: 0.050000, episode:  282\n"
     ]
    },
    {
     "name": "stderr",
     "output_type": "stream",
     "text": [
      " 48%|████████████████████████████████▏                                  | 480003/1000000 [11:34:08<13:16:12, 10.88it/s]"
     ]
    },
    {
     "name": "stdout",
     "output_type": "stream",
     "text": [
      "frames: 480000, reward: -6.100000, loss: 0.001322, epsilon: 0.050000, episode:  286\n"
     ]
    },
    {
     "name": "stderr",
     "output_type": "stream",
     "text": [
      " 49%|█████████████████████████████████▎                                  | 490003/1000000 [11:50:47<5:49:57, 24.29it/s]"
     ]
    },
    {
     "name": "stdout",
     "output_type": "stream",
     "text": [
      "frames: 490000, reward: -5.800000, loss: 0.003098, epsilon: 0.050000, episode:  290\n"
     ]
    },
    {
     "name": "stderr",
     "output_type": "stream",
     "text": [
      " 50%|██████████████████████████████████                                  | 500003/1000000 [11:57:28<5:30:35, 25.21it/s]"
     ]
    },
    {
     "name": "stdout",
     "output_type": "stream",
     "text": [
      "frames: 500000, reward: -5.700000, loss: 0.008738, epsilon: 0.050000, episode:  293\n"
     ]
    },
    {
     "name": "stderr",
     "output_type": "stream",
     "text": [
      " 51%|██████████████████████████████████▋                                 | 510003/1000000 [12:04:07<5:19:16, 25.58it/s]"
     ]
    },
    {
     "name": "stdout",
     "output_type": "stream",
     "text": [
      "frames: 510000, reward: -6.500000, loss: 0.002718, epsilon: 0.050000, episode:  298\n"
     ]
    },
    {
     "name": "stderr",
     "output_type": "stream",
     "text": [
      " 52%|███████████████████████████████████▎                                | 520003/1000000 [12:11:10<5:25:41, 24.56it/s]"
     ]
    },
    {
     "name": "stdout",
     "output_type": "stream",
     "text": [
      "frames: 520000, reward: -7.300000, loss: 0.002719, epsilon: 0.050000, episode:  302\n"
     ]
    },
    {
     "name": "stderr",
     "output_type": "stream",
     "text": [
      " 53%|███████████████████████████████████▌                               | 530002/1000000 [12:20:51<12:07:01, 10.77it/s]"
     ]
    },
    {
     "name": "stdout",
     "output_type": "stream",
     "text": [
      "frames: 530000, reward: -7.800000, loss: 0.001851, epsilon: 0.050000, episode:  306\n"
     ]
    },
    {
     "name": "stderr",
     "output_type": "stream",
     "text": [
      " 54%|████████████████████████████████████▋                               | 540004/1000000 [12:36:03<7:04:20, 18.07it/s]"
     ]
    },
    {
     "name": "stdout",
     "output_type": "stream",
     "text": [
      "frames: 540000, reward: -8.300000, loss: 0.001632, epsilon: 0.050000, episode:  311\n"
     ]
    },
    {
     "name": "stderr",
     "output_type": "stream",
     "text": [
      " 55%|████████████████████████████████████▊                              | 550002/1000000 [12:51:19<11:28:02, 10.90it/s]"
     ]
    },
    {
     "name": "stdout",
     "output_type": "stream",
     "text": [
      "frames: 550000, reward: -9.000000, loss: 0.004886, epsilon: 0.050000, episode:  315\n"
     ]
    },
    {
     "name": "stderr",
     "output_type": "stream",
     "text": [
      " 56%|█████████████████████████████████████▌                             | 560001/1000000 [13:06:42<11:14:38, 10.87it/s]"
     ]
    },
    {
     "name": "stdout",
     "output_type": "stream",
     "text": [
      "frames: 560000, reward: -7.200000, loss: 0.003819, epsilon: 0.050000, episode:  319\n"
     ]
    },
    {
     "name": "stderr",
     "output_type": "stream",
     "text": [
      " 57%|██████████████████████████████████████▏                            | 570002/1000000 [13:23:30<11:07:16, 10.74it/s]"
     ]
    },
    {
     "name": "stdout",
     "output_type": "stream",
     "text": [
      "frames: 570000, reward: -6.000000, loss: 0.002368, epsilon: 0.050000, episode:  323\n"
     ]
    },
    {
     "name": "stderr",
     "output_type": "stream",
     "text": [
      " 58%|██████████████████████████████████████▊                            | 580001/1000000 [13:39:14<10:41:54, 10.91it/s]"
     ]
    },
    {
     "name": "stdout",
     "output_type": "stream",
     "text": [
      "frames: 580000, reward: -5.400000, loss: 0.004162, epsilon: 0.050000, episode:  326\n"
     ]
    },
    {
     "name": "stderr",
     "output_type": "stream",
     "text": [
      " 59%|████████████████████████████████████████                            | 590001/1000000 [13:55:51<9:37:33, 11.83it/s]"
     ]
    },
    {
     "name": "stdout",
     "output_type": "stream",
     "text": [
      "frames: 590000, reward: -5.800000, loss: 0.001181, epsilon: 0.050000, episode:  330\n"
     ]
    },
    {
     "name": "stderr",
     "output_type": "stream",
     "text": [
      " 60%|████████████████████████████████████████▏                          | 600002/1000000 [14:11:47<10:22:19, 10.71it/s]"
     ]
    },
    {
     "name": "stdout",
     "output_type": "stream",
     "text": [
      "frames: 600000, reward: -5.700000, loss: 0.002022, epsilon: 0.050000, episode:  334\n"
     ]
    },
    {
     "name": "stderr",
     "output_type": "stream",
     "text": [
      " 61%|████████████████████████████████████████▊                          | 610001/1000000 [14:28:13<10:12:04, 10.62it/s]"
     ]
    },
    {
     "name": "stdout",
     "output_type": "stream",
     "text": [
      "frames: 610000, reward: -4.900000, loss: 0.004306, epsilon: 0.050000, episode:  338\n"
     ]
    },
    {
     "name": "stderr",
     "output_type": "stream",
     "text": [
      " 62%|██████████████████████████████████████████▏                         | 620002/1000000 [14:43:30<9:55:43, 10.63it/s]"
     ]
    },
    {
     "name": "stdout",
     "output_type": "stream",
     "text": [
      "frames: 620000, reward: -4.700000, loss: 0.003355, epsilon: 0.050000, episode:  341\n"
     ]
    },
    {
     "name": "stderr",
     "output_type": "stream",
     "text": [
      " 63%|██████████████████████████████████████████▊                         | 630002/1000000 [14:59:10<9:21:40, 10.98it/s]"
     ]
    },
    {
     "name": "stdout",
     "output_type": "stream",
     "text": [
      "frames: 630000, reward: -4.300000, loss: 0.001217, epsilon: 0.050000, episode:  345\n"
     ]
    },
    {
     "name": "stderr",
     "output_type": "stream",
     "text": [
      " 64%|███████████████████████████████████████████▌                        | 640002/1000000 [15:15:15<9:30:31, 10.52it/s]"
     ]
    },
    {
     "name": "stdout",
     "output_type": "stream",
     "text": [
      "frames: 640000, reward: -6.000000, loss: 0.004457, epsilon: 0.050000, episode:  350\n"
     ]
    },
    {
     "name": "stderr",
     "output_type": "stream",
     "text": [
      " 65%|████████████████████████████████████████████▏                       | 650002/1000000 [15:30:37<9:04:56, 10.70it/s]"
     ]
    },
    {
     "name": "stdout",
     "output_type": "stream",
     "text": [
      "frames: 650000, reward: -5.700000, loss: 0.004073, epsilon: 0.050000, episode:  353\n"
     ]
    },
    {
     "name": "stderr",
     "output_type": "stream",
     "text": [
      " 66%|████████████████████████████████████████████▉                       | 660003/1000000 [15:46:15<8:54:49, 10.60it/s]"
     ]
    },
    {
     "name": "stdout",
     "output_type": "stream",
     "text": [
      "frames: 660000, reward: -5.600000, loss: 0.002282, epsilon: 0.050000, episode:  357\n"
     ]
    },
    {
     "name": "stderr",
     "output_type": "stream",
     "text": [
      " 67%|█████████████████████████████████████████████▌                      | 670002/1000000 [16:01:34<8:27:28, 10.84it/s]"
     ]
    },
    {
     "name": "stdout",
     "output_type": "stream",
     "text": [
      "frames: 670000, reward: -3.800000, loss: 0.007415, epsilon: 0.050000, episode:  361\n"
     ]
    },
    {
     "name": "stderr",
     "output_type": "stream",
     "text": [
      " 68%|██████████████████████████████████████████████▏                     | 680003/1000000 [16:17:20<8:11:09, 10.86it/s]"
     ]
    },
    {
     "name": "stdout",
     "output_type": "stream",
     "text": [
      "frames: 680000, reward: -4.600000, loss: 0.005081, epsilon: 0.050000, episode:  365\n"
     ]
    },
    {
     "name": "stderr",
     "output_type": "stream",
     "text": [
      " 69%|██████████████████████████████████████████████▉                     | 690001/1000000 [16:32:32<7:55:57, 10.86it/s]"
     ]
    },
    {
     "name": "stdout",
     "output_type": "stream",
     "text": [
      "frames: 690000, reward: -5.100000, loss: 0.006558, epsilon: 0.050000, episode:  369\n"
     ]
    },
    {
     "name": "stderr",
     "output_type": "stream",
     "text": [
      " 70%|███████████████████████████████████████████████▌                    | 700001/1000000 [16:47:47<7:49:00, 10.66it/s]"
     ]
    },
    {
     "name": "stdout",
     "output_type": "stream",
     "text": [
      "frames: 700000, reward: -6.200000, loss: 0.002112, epsilon: 0.050000, episode:  373\n"
     ]
    },
    {
     "name": "stderr",
     "output_type": "stream",
     "text": [
      " 71%|███████████████████████████████████████████████▌                   | 710002/1000000 [17:03:07<12:52:36,  6.26it/s]"
     ]
    },
    {
     "name": "stdout",
     "output_type": "stream",
     "text": [
      "frames: 710000, reward: -5.800000, loss: 0.002707, epsilon: 0.050000, episode:  377\n"
     ]
    },
    {
     "name": "stderr",
     "output_type": "stream",
     "text": [
      " 72%|████████████████████████████████████████████████▉                   | 720002/1000000 [17:18:59<4:43:13, 16.48it/s]"
     ]
    },
    {
     "name": "stdout",
     "output_type": "stream",
     "text": [
      "frames: 720000, reward: -5.800000, loss: 0.003268, epsilon: 0.050000, episode:  381\n"
     ]
    },
    {
     "name": "stderr",
     "output_type": "stream",
     "text": [
      " 73%|█████████████████████████████████████████████████▋                  | 730001/1000000 [17:35:24<6:56:10, 10.81it/s]"
     ]
    },
    {
     "name": "stdout",
     "output_type": "stream",
     "text": [
      "frames: 730000, reward: -5.600000, loss: 0.003596, epsilon: 0.050000, episode:  385\n"
     ]
    },
    {
     "name": "stderr",
     "output_type": "stream",
     "text": [
      " 74%|██████████████████████████████████████████████████▎                 | 740002/1000000 [17:51:37<6:48:06, 10.62it/s]"
     ]
    },
    {
     "name": "stdout",
     "output_type": "stream",
     "text": [
      "frames: 740000, reward: -6.100000, loss: 0.001405, epsilon: 0.050000, episode:  389\n"
     ]
    },
    {
     "name": "stderr",
     "output_type": "stream",
     "text": [
      " 75%|███████████████████████████████████████████████████                 | 750002/1000000 [18:06:53<6:23:52, 10.85it/s]"
     ]
    },
    {
     "name": "stdout",
     "output_type": "stream",
     "text": [
      "frames: 750000, reward: -6.200000, loss: 0.004842, epsilon: 0.050000, episode:  392\n"
     ]
    },
    {
     "name": "stderr",
     "output_type": "stream",
     "text": [
      " 76%|███████████████████████████████████████████████████▋                | 760002/1000000 [18:22:42<6:16:23, 10.63it/s]"
     ]
    },
    {
     "name": "stdout",
     "output_type": "stream",
     "text": [
      "frames: 760000, reward: -5.300000, loss: 0.003402, epsilon: 0.050000, episode:  396\n"
     ]
    },
    {
     "name": "stderr",
     "output_type": "stream",
     "text": [
      " 77%|████████████████████████████████████████████████████▎               | 770001/1000000 [18:38:00<5:59:10, 10.67it/s]"
     ]
    },
    {
     "name": "stdout",
     "output_type": "stream",
     "text": [
      "frames: 770000, reward: -6.000000, loss: 0.002450, epsilon: 0.050000, episode:  401\n"
     ]
    },
    {
     "name": "stderr",
     "output_type": "stream",
     "text": [
      " 78%|█████████████████████████████████████████████████████               | 780002/1000000 [18:53:19<5:36:49, 10.89it/s]"
     ]
    },
    {
     "name": "stdout",
     "output_type": "stream",
     "text": [
      "frames: 780000, reward: -5.700000, loss: 0.008048, epsilon: 0.050000, episode:  404\n"
     ]
    },
    {
     "name": "stderr",
     "output_type": "stream",
     "text": [
      " 79%|█████████████████████████████████████████████████████▋              | 790002/1000000 [19:08:34<5:28:02, 10.67it/s]"
     ]
    },
    {
     "name": "stdout",
     "output_type": "stream",
     "text": [
      "frames: 790000, reward: -4.900000, loss: 0.006403, epsilon: 0.050000, episode:  408\n"
     ]
    },
    {
     "name": "stderr",
     "output_type": "stream",
     "text": [
      " 80%|██████████████████████████████████████████████████████▍             | 800001/1000000 [19:24:49<5:12:22, 10.67it/s]"
     ]
    },
    {
     "name": "stdout",
     "output_type": "stream",
     "text": [
      "frames: 800000, reward: -4.000000, loss: 0.006348, epsilon: 0.050000, episode:  412\n"
     ]
    },
    {
     "name": "stderr",
     "output_type": "stream",
     "text": [
      " 81%|███████████████████████████████████████████████████████             | 810001/1000000 [19:39:59<4:51:48, 10.85it/s]"
     ]
    },
    {
     "name": "stdout",
     "output_type": "stream",
     "text": [
      "frames: 810000, reward: -3.300000, loss: 0.004077, epsilon: 0.050000, episode:  416\n"
     ]
    },
    {
     "name": "stderr",
     "output_type": "stream",
     "text": [
      " 82%|███████████████████████████████████████████████████████▊            | 820003/1000000 [19:55:11<4:40:43, 10.69it/s]"
     ]
    },
    {
     "name": "stdout",
     "output_type": "stream",
     "text": [
      "frames: 820000, reward: -3.400000, loss: 0.003796, epsilon: 0.050000, episode:  420\n"
     ]
    },
    {
     "name": "stderr",
     "output_type": "stream",
     "text": [
      " 83%|████████████████████████████████████████████████████████▍           | 830001/1000000 [20:10:23<4:19:03, 10.94it/s]"
     ]
    },
    {
     "name": "stdout",
     "output_type": "stream",
     "text": [
      "frames: 830000, reward: -3.100000, loss: 0.002512, epsilon: 0.050000, episode:  424\n"
     ]
    },
    {
     "name": "stderr",
     "output_type": "stream",
     "text": [
      " 84%|█████████████████████████████████████████████████████████           | 840002/1000000 [20:25:35<4:07:51, 10.76it/s]"
     ]
    },
    {
     "name": "stdout",
     "output_type": "stream",
     "text": [
      "frames: 840000, reward: -2.900000, loss: 0.001982, epsilon: 0.050000, episode:  428\n"
     ]
    },
    {
     "name": "stderr",
     "output_type": "stream",
     "text": [
      " 85%|█████████████████████████████████████████████████████████▊          | 850002/1000000 [20:40:46<3:52:29, 10.75it/s]"
     ]
    },
    {
     "name": "stdout",
     "output_type": "stream",
     "text": [
      "frames: 850000, reward: -2.500000, loss: 0.005464, epsilon: 0.050000, episode:  432\n"
     ]
    },
    {
     "name": "stderr",
     "output_type": "stream",
     "text": [
      " 86%|██████████████████████████████████████████████████████████▍         | 860001/1000000 [20:56:04<3:37:21, 10.74it/s]"
     ]
    },
    {
     "name": "stdout",
     "output_type": "stream",
     "text": [
      "frames: 860000, reward: 0.400000, loss: 0.001406, epsilon: 0.050000, episode:  436\n"
     ]
    },
    {
     "name": "stderr",
     "output_type": "stream",
     "text": [
      " 87%|███████████████████████████████████████████████████████████▏        | 870003/1000000 [21:13:04<3:19:06, 10.88it/s]"
     ]
    },
    {
     "name": "stdout",
     "output_type": "stream",
     "text": [
      "frames: 870000, reward: -0.200000, loss: 0.004513, epsilon: 0.050000, episode:  439\n"
     ]
    },
    {
     "name": "stderr",
     "output_type": "stream",
     "text": [
      " 88%|███████████████████████████████████████████████████████████▊        | 880001/1000000 [21:28:22<3:03:26, 10.90it/s]"
     ]
    },
    {
     "name": "stdout",
     "output_type": "stream",
     "text": [
      "frames: 880000, reward: 0.000000, loss: 0.001911, epsilon: 0.050000, episode:  443\n"
     ]
    },
    {
     "name": "stderr",
     "output_type": "stream",
     "text": [
      " 89%|████████████████████████████████████████████████████████████▌       | 890002/1000000 [21:43:38<2:50:23, 10.76it/s]"
     ]
    },
    {
     "name": "stdout",
     "output_type": "stream",
     "text": [
      "frames: 890000, reward: 1.000000, loss: 0.001604, epsilon: 0.050000, episode:  447\n"
     ]
    },
    {
     "name": "stderr",
     "output_type": "stream",
     "text": [
      " 90%|█████████████████████████████████████████████████████████████▏      | 900001/1000000 [21:58:58<2:32:50, 10.90it/s]"
     ]
    },
    {
     "name": "stdout",
     "output_type": "stream",
     "text": [
      "frames: 900000, reward: 1.300000, loss: 0.003234, epsilon: 0.050000, episode:  451\n"
     ]
    },
    {
     "name": "stderr",
     "output_type": "stream",
     "text": [
      " 91%|█████████████████████████████████████████████████████████████▉      | 910002/1000000 [22:14:08<2:20:57, 10.64it/s]"
     ]
    },
    {
     "name": "stdout",
     "output_type": "stream",
     "text": [
      "frames: 910000, reward: -0.100000, loss: 0.005665, epsilon: 0.050000, episode:  455\n"
     ]
    },
    {
     "name": "stderr",
     "output_type": "stream",
     "text": [
      " 92%|██████████████████████████████████████████████████████████████▌     | 920004/1000000 [22:29:24<1:17:14, 17.26it/s]"
     ]
    },
    {
     "name": "stdout",
     "output_type": "stream",
     "text": [
      "frames: 920000, reward: -0.600000, loss: 0.002239, epsilon: 0.050000, episode:  459\n"
     ]
    },
    {
     "name": "stderr",
     "output_type": "stream",
     "text": [
      " 93%|███████████████████████████████████████████████████████████████▏    | 930002/1000000 [22:44:28<1:47:41, 10.83it/s]"
     ]
    },
    {
     "name": "stdout",
     "output_type": "stream",
     "text": [
      "frames: 930000, reward: -1.700000, loss: 0.002739, epsilon: 0.050000, episode:  462\n"
     ]
    },
    {
     "name": "stderr",
     "output_type": "stream",
     "text": [
      " 94%|███████████████████████████████████████████████████████████████▉    | 940002/1000000 [22:59:45<1:32:04, 10.86it/s]"
     ]
    },
    {
     "name": "stdout",
     "output_type": "stream",
     "text": [
      "frames: 940000, reward: -0.400000, loss: 0.002717, epsilon: 0.050000, episode:  466\n"
     ]
    },
    {
     "name": "stderr",
     "output_type": "stream",
     "text": [
      " 95%|████████████████████████████████████████████████████████████████▌   | 950002/1000000 [23:15:00<1:16:52, 10.84it/s]"
     ]
    },
    {
     "name": "stdout",
     "output_type": "stream",
     "text": [
      "frames: 950000, reward: -0.700000, loss: 0.004072, epsilon: 0.050000, episode:  470\n"
     ]
    },
    {
     "name": "stderr",
     "output_type": "stream",
     "text": [
      " 96%|█████████████████████████████████████████████████████████████████▎  | 960002/1000000 [23:30:20<1:02:39, 10.64it/s]"
     ]
    },
    {
     "name": "stdout",
     "output_type": "stream",
     "text": [
      "frames: 960000, reward: -1.400000, loss: 0.001378, epsilon: 0.050000, episode:  474\n"
     ]
    },
    {
     "name": "stderr",
     "output_type": "stream",
     "text": [
      " 97%|███████████████████████████████████████████████████████████████████▉  | 970002/1000000 [23:45:38<45:56, 10.88it/s]"
     ]
    },
    {
     "name": "stdout",
     "output_type": "stream",
     "text": [
      "frames: 970000, reward: -0.800000, loss: 0.004967, epsilon: 0.050000, episode:  478\n"
     ]
    },
    {
     "name": "stderr",
     "output_type": "stream",
     "text": [
      " 98%|████████████████████████████████████████████████████████████████████▌ | 980002/1000000 [24:00:51<30:59, 10.75it/s]"
     ]
    },
    {
     "name": "stdout",
     "output_type": "stream",
     "text": [
      "frames: 980000, reward: -1.400000, loss: 0.002121, epsilon: 0.050000, episode:  482\n"
     ]
    },
    {
     "name": "stderr",
     "output_type": "stream",
     "text": [
      " 99%|█████████████████████████████████████████████████████████████████████▎| 990005/1000000 [24:12:11<06:59, 23.85it/s]"
     ]
    },
    {
     "name": "stdout",
     "output_type": "stream",
     "text": [
      "frames: 990000, reward: -1.100000, loss: 0.007173, epsilon: 0.050000, episode:  485\n"
     ]
    },
    {
     "name": "stderr",
     "output_type": "stream",
     "text": [
      "100%|█████████████████████████████████████████████████████████████████████| 1000000/1000000 [24:19:14<00:00, 11.42it/s]\n"
     ]
    }
   ],
   "source": [
    "## HyperParameters\n",
    "gamma = 0.99\n",
    "epsilon_max = 1\n",
    "epsilon_min = 0.05\n",
    "eps_decay = 30000\n",
    "frames = 1000000\n",
    "USE_CUDA = torch.cuda.is_available()\n",
    "learning_rate = 2e-4\n",
    "max_buff = 100000\n",
    "update_tar_interval = 1000\n",
    "batch_size = 32\n",
    "print_interval = 10000\n",
    "\n",
    "action_space = env.action_space\n",
    "action_dim = env.action_space.n\n",
    "state_channel = env.observation_space.shape[2]\n",
    "hidden_dim = 6\n",
    "agent = DAQNAgent(in_channels = state_channel, action_space = action_space, hidden_dim = hidden_dim, \n",
    "                 USE_CUDA = USE_CUDA, lr = learning_rate, memory_size = max_buff)\n",
    "\n",
    "for _ in tqdm(range(100)):\n",
    "    frame = env.reset()\n",
    "    done = False\n",
    "    while not done:\n",
    "        action = random.randrange(agent.action_space.n)\n",
    "        next_frame, reward, done, _ = env.step(action)\n",
    "        agent.memory.push(frame, action, reward, next_frame, done)\n",
    "        frame = next_frame\n",
    "frame = env.reset()\n",
    "\n",
    "episode_reward = 0\n",
    "all_rewards = []\n",
    "avg_rewards = []\n",
    "losses = []\n",
    "episode_num = 0\n",
    "save_flag = False\n",
    "\n",
    "# e-greedy decay\n",
    "epsilon_by_frame = lambda frame_idx: epsilon_min + (epsilon_max - epsilon_min) * math.exp(\n",
    "            -1. * frame_idx / eps_decay)\n",
    "\n",
    "for i in tqdm(range(frames)):\n",
    "    epsilon = epsilon_by_frame(i)\n",
    "    state_tensor = agent.observe(frame)\n",
    "    action = agent.act(state_tensor, epsilon)\n",
    "    \n",
    "    next_frame, reward, done, _ = env.step(action)\n",
    "    \n",
    "    episode_reward += reward\n",
    "    agent.memory.push(frame, action, reward, next_frame, done)\n",
    "    frame = next_frame\n",
    "    \n",
    "    loss = agent.learn_from_experience(batch_size)\n",
    "    losses.append(loss)\n",
    "\n",
    "    if i % print_interval == 0:\n",
    "        print(\"frames: %5d, reward: %5f, loss: %4f, epsilon: %5f, episode: %4d\" % (i, np.mean(all_rewards[-10:]), loss, epsilon, episode_num))\n",
    "\n",
    "    if i % update_tar_interval == 0:\n",
    "        agent.targetNet.load_state_dict(agent.behaviourNet.state_dict())\n",
    "    \n",
    "    if done:\n",
    "        frame = env.reset()\n",
    "        all_rewards.append(episode_reward)        \n",
    "        episode_reward = 0\n",
    "        episode_num += 1\n",
    "        \n",
    "        avg_reward = np.mean(all_rewards[-50:])\n",
    "        avg_rewards.append(avg_reward)\n",
    "        \n",
    "        if avg_reward > 19:\n",
    "            if save_flag == False:\n",
    "                agent.save_model()\n",
    "                save_flag = True\n",
    "                max_reward = avg_reward\n",
    "                print(\"model saved, episode:\", episode_num, \",avg reward:\", avg_reward)\n",
    "            else:\n",
    "                if avg_reward >= max_reward:\n",
    "                    agent.save_model()\n",
    "                    max_reward = avg_reward\n",
    "                    print(\"model saved, episode:\", episode_num, \",avg reward:\", avg_reward)"
   ]
  },
  {
   "cell_type": "code",
   "execution_count": 8,
   "metadata": {},
   "outputs": [],
   "source": [
    "# save learning curve\n",
    "learning_curve = np.array(avg_rewards)\n",
    "np.save('curve\\DAQN', learning_curve)"
   ]
  }
 ],
 "metadata": {
  "kernelspec": {
   "display_name": "Python 3",
   "language": "python",
   "name": "python3"
  },
  "language_info": {
   "codemirror_mode": {
    "name": "ipython",
    "version": 3
   },
   "file_extension": ".py",
   "mimetype": "text/x-python",
   "name": "python",
   "nbconvert_exporter": "python",
   "pygments_lexer": "ipython3",
   "version": "3.8.5"
  }
 },
 "nbformat": 4,
 "nbformat_minor": 4
}
