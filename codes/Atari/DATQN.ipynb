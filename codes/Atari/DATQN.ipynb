{
 "cells": [
  {
   "cell_type": "code",
   "execution_count": 1,
   "metadata": {},
   "outputs": [],
   "source": [
    "import gym, random, os, math\n",
    "import numpy as np\n",
    "import matplotlib.pyplot as plt\n",
    "import torch\n",
    "import torch.nn as nn\n",
    "import torch.nn.functional as F\n",
    "from atari_wrappers import make_atari, wrap_deepmind,LazyFrames\n",
    "from tqdm import tqdm\n",
    "os.environ[\"KMP_DUPLICATE_LIB_OK\"] = \"TRUE\""
   ]
  },
  {
   "cell_type": "code",
   "execution_count": 2,
   "metadata": {},
   "outputs": [],
   "source": [
    "# Create and wrap the environment\n",
    "env = make_atari('PongNoFrameskip-v4')\n",
    "env = wrap_deepmind(env, scale = False, frame_stack=True )"
   ]
  },
  {
   "cell_type": "code",
   "execution_count": 3,
   "metadata": {},
   "outputs": [],
   "source": [
    "## set seed\n",
    "seed = 123\n",
    "np.random.seed(seed)\n",
    "torch.manual_seed(seed)\n",
    "torch.cuda.manual_seed(seed)\n",
    "random.seed(seed)\n",
    "env.seed(seed)\n",
    "torch.backends.cudnn.deterministic = True\n",
    "torch.backends.cudnn.enabled = False\n",
    "torch.backends.cudnn.benchmark = False"
   ]
  },
  {
   "cell_type": "code",
   "execution_count": 4,
   "metadata": {},
   "outputs": [],
   "source": [
    "class QNetwork(nn.Module):\n",
    "    def __init__(self, in_channels, hidden_dim, num_actions):\n",
    "        super(QNetwork, self).__init__()\n",
    "        self.encoder_conv = nn.Sequential(\n",
    "            nn.Conv2d(in_channels, 32, kernel_size=8, stride=4), # bs*32*19*19\n",
    "            nn.ReLU(),\n",
    "            nn.Conv2d(32, 64, kernel_size=3, stride=2), # bs*64*9*9\n",
    "            nn.ReLU(),\n",
    "            nn.Conv2d(64, 64, kernel_size=3, stride=1), # bs*64*7*7\n",
    "            nn.ReLU()\n",
    "        )\n",
    "        self.encoder_linear = nn.Sequential(\n",
    "            nn.Linear(7 * 7 * 64, 512), # bs*512\n",
    "            nn.ReLU(),\n",
    "            nn.Linear(512, hidden_dim), # bs*hid_dim\n",
    "            nn.ReLU()\n",
    "        )\n",
    "        self.DQN = nn.Linear(hidden_dim, num_actions) # bs*num_actions\n",
    "        self.decoder_linear = nn.Sequential(\n",
    "            nn.Linear(hidden_dim, 512), # bs*512\n",
    "            nn.ReLU(),\n",
    "            nn.Linear(512, 7 * 7 * 64), # bs*64*7*7\n",
    "            nn.ReLU()\n",
    "        )\n",
    "        self.decoder_conv = nn.Sequential(\n",
    "            nn.ConvTranspose2d(64, 64, kernel_size=3, stride=1), # bs*64*9*9\n",
    "            nn.ReLU(),\n",
    "            nn.ConvTranspose2d(64, 32, kernel_size=3, stride=2), # bs*32*19*19\n",
    "            nn.ReLU(),\n",
    "            nn.ConvTranspose2d(32, in_channels, kernel_size=8, stride=4) # bs*4*80*80\n",
    "        )\n",
    "\n",
    "\n",
    "    def forward(self, x):\n",
    "        ## encoder:input->hidden\n",
    "        hidden = self.encoder_conv(x)\n",
    "        hidden = hidden.reshape(hidden.size(0),-1)\n",
    "        hidden = self.encoder_linear(hidden)\n",
    "        ## DQN:hidden->qtable\n",
    "        qtable = self.DQN(hidden)\n",
    "        ## decoder:hidden->output\n",
    "        output = self.decoder_linear(hidden)\n",
    "        output = output.reshape(output.size(0),64,7,7)\n",
    "        output = self.decoder_conv(output)\n",
    "        \n",
    "        return qtable, output"
   ]
  },
  {
   "cell_type": "code",
   "execution_count": 5,
   "metadata": {},
   "outputs": [],
   "source": [
    "class Memory(object):\n",
    "    def __init__(self, memory_size=100000):\n",
    "        self.buffer = []\n",
    "        self.memory_size = memory_size\n",
    "        self.next_idx = 0\n",
    "        \n",
    "    def push(self, state, action, reward, next_state, done):\n",
    "        data = (state, action, reward, next_state, done)\n",
    "        if len(self.buffer) <= self.memory_size: \n",
    "            self.buffer.append(data)\n",
    "        else: # buffer is full\n",
    "            self.buffer[self.next_idx] = data\n",
    "        self.next_idx = (self.next_idx + 1) % self.memory_size\n",
    "\n",
    "    def size(self):\n",
    "        return len(self.buffer)"
   ]
  },
  {
   "cell_type": "code",
   "execution_count": 6,
   "metadata": {},
   "outputs": [],
   "source": [
    "class DATQNAgent: \n",
    "    def __init__(self, in_channels = 1, action_space = [], hidden_dim = 6, USE_CUDA = False, memory_size = 10000, epsilon  = 1, lr = 1e-4):\n",
    "        self.epsilon = epsilon\n",
    "        self.action_space = action_space\n",
    "        self.memory = Memory(memory_size)\n",
    "        self.behaviourNet = QNetwork(in_channels = in_channels, hidden_dim = hidden_dim, num_actions = action_space.n)\n",
    "        self.targetNet = QNetwork(in_channels = in_channels, hidden_dim = hidden_dim, num_actions = action_space.n)\n",
    "        self.targetNet.load_state_dict(self.behaviourNet.state_dict())\n",
    "\n",
    "        self.USE_CUDA = USE_CUDA\n",
    "        if USE_CUDA:\n",
    "            self.behaviourNet = self.behaviourNet.cuda()\n",
    "            self.targetNet = self.targetNet.cuda()\n",
    "        self.optimizer = torch.optim.Adam(self.behaviourNet.parameters(),lr=lr)\n",
    "\n",
    "    def observe(self, lazyframe):\n",
    "        # from Lazy frame to tensor\n",
    "        state =  torch.from_numpy(lazyframe._force().transpose(2,0,1)[None]/255).float()\n",
    "        if self.USE_CUDA:\n",
    "            state = state.cuda()\n",
    "        return state\n",
    "\n",
    "    def value(self, state):\n",
    "        q_values,_ = self.behaviourNet(state)\n",
    "        return q_values\n",
    "    \n",
    "    def act(self, state, epsilon = None):\n",
    "        if epsilon is None: epsilon = self.epsilon\n",
    "        q_values = self.value(state).cpu().detach().numpy()\n",
    "        if random.random() < epsilon:\n",
    "            aciton = random.randrange(self.action_space.n)\n",
    "        else:\n",
    "            aciton = q_values.argmax(1)[0]\n",
    "        return aciton\n",
    "    \n",
    "    def compute_loss(self, states, actions, rewards, next_states, is_done, gamma = 0.99):\n",
    "        actions = torch.tensor(actions).long()    # shape: [batch_size]\n",
    "        rewards = torch.tensor(rewards, dtype =torch.float)  # shape: [batch_size]\n",
    "        is_done = torch.tensor(is_done).bool()  # shape: [batch_size]\n",
    "        if self.USE_CUDA:\n",
    "            actions = actions.cuda()\n",
    "            rewards = rewards.cuda()\n",
    "            is_done = is_done.cuda()\n",
    "            \n",
    "        # get q-values for all actions in current states\n",
    "        predicted_qvalues, predicted_states = self.behaviourNet(states)\n",
    "        # loss for DQN\n",
    "        predicted_qvalues_for_actions = predicted_qvalues[range(states.shape[0]), actions]\n",
    "        predicted_next_qvalues,_ = self.targetNet(next_states)\n",
    "        next_state_values =  predicted_next_qvalues.max(-1)[0] \n",
    "        target_qvalues_for_actions = rewards + gamma *next_state_values\n",
    "        target_qvalues_for_actions = torch.where(is_done, rewards, target_qvalues_for_actions)\n",
    "        dqn_loss = F.smooth_l1_loss(predicted_qvalues_for_actions, target_qvalues_for_actions.detach())\n",
    "        # loss for auto-encoders\n",
    "        ae_loss = F.smooth_l1_loss(states, predicted_states)\n",
    "        # loss\n",
    "        loss = dqn_loss + ae_loss\n",
    "\n",
    "        return loss\n",
    "    \n",
    "    def sample_from_buffer(self, batch_size):\n",
    "        states, actions, rewards, next_states, dones = [], [], [], [], []\n",
    "        for i in range(batch_size):\n",
    "            idx = random.randint(0, self.memory.size() - 1)\n",
    "            data = self.memory.buffer[idx]\n",
    "            frame, action, reward, next_frame, done = data\n",
    "            states.append(self.observe(frame))\n",
    "            actions.append(action)\n",
    "            rewards.append(reward)\n",
    "            next_states.append(self.observe(next_frame))\n",
    "            dones.append(done)\n",
    "        return torch.cat(states), actions, rewards, torch.cat(next_states), dones\n",
    "\n",
    "    def learn_from_experience(self, batch_size):\n",
    "        states, actions, rewards, next_states, dones = self.sample_from_buffer(batch_size)\n",
    "        loss = self.compute_loss(states, actions, rewards, next_states, dones)\n",
    "        self.optimizer.zero_grad()\n",
    "        loss.backward()\n",
    "        for param in self.behaviourNet.parameters():\n",
    "            param.grad.data.clamp_(-1, 1)\n",
    "        self.optimizer.step()\n",
    "        return(loss.item())\n",
    "    \n",
    "    def save_model(self):\n",
    "        torch.save(self.behaviourNet, 'saved_model\\DATQN')"
   ]
  },
  {
   "cell_type": "code",
   "execution_count": 7,
   "metadata": {
    "scrolled": true
   },
   "outputs": [
    {
     "name": "stderr",
     "output_type": "stream",
     "text": [
      "100%|████████████████████████████████████████████████████████████████████████████████| 100/100 [01:41<00:00,  1.02s/it]\n",
      "  0%|                                                                                      | 0/1000000 [00:00<?, ?it/s]D:\\anaconda3\\lib\\site-packages\\numpy\\core\\fromnumeric.py:3372: RuntimeWarning: Mean of empty slice.\n",
      "  return _methods._mean(a, axis=axis, dtype=dtype,\n",
      "D:\\anaconda3\\lib\\site-packages\\numpy\\core\\_methods.py:170: RuntimeWarning: invalid value encountered in double_scalars\n",
      "  ret = ret.dtype.type(ret / rcount)\n",
      "  0%|                                                                          | 1/1000000 [00:01<365:15:17,  1.31s/it]"
     ]
    },
    {
     "name": "stdout",
     "output_type": "stream",
     "text": [
      "frames:     0, reward:   nan, loss: 0.136611, epsilon: 1.000000, episode:    0\n"
     ]
    },
    {
     "name": "stderr",
     "output_type": "stream",
     "text": [
      "  1%|▋                                                                      | 10001/1000000 [20:06<31:11:20,  8.82it/s]"
     ]
    },
    {
     "name": "stdout",
     "output_type": "stream",
     "text": [
      "frames: 10000, reward: -20.700000, loss: 0.015413, epsilon: 0.730705, episode:   11\n"
     ]
    },
    {
     "name": "stderr",
     "output_type": "stream",
     "text": [
      "  2%|█▍                                                                     | 20002/1000000 [38:54<30:21:08,  8.97it/s]"
     ]
    },
    {
     "name": "stdout",
     "output_type": "stream",
     "text": [
      "frames: 20000, reward: -20.400000, loss: 0.000955, epsilon: 0.537746, episode:   23\n"
     ]
    },
    {
     "name": "stderr",
     "output_type": "stream",
     "text": [
      "  3%|██▏                                                                    | 30002/1000000 [57:28<30:51:54,  8.73it/s]"
     ]
    },
    {
     "name": "stdout",
     "output_type": "stream",
     "text": [
      "frames: 30000, reward: -20.700000, loss: 0.001642, epsilon: 0.399485, episode:   33\n"
     ]
    },
    {
     "name": "stderr",
     "output_type": "stream",
     "text": [
      "  4%|██▊                                                                  | 40002/1000000 [1:18:09<34:00:12,  7.84it/s]"
     ]
    },
    {
     "name": "stdout",
     "output_type": "stream",
     "text": [
      "frames: 40000, reward: -20.600000, loss: 0.004431, epsilon: 0.300417, episode:   45\n"
     ]
    },
    {
     "name": "stderr",
     "output_type": "stream",
     "text": [
      "  5%|███▍                                                                 | 50002/1000000 [1:40:19<39:14:27,  6.72it/s]"
     ]
    },
    {
     "name": "stdout",
     "output_type": "stream",
     "text": [
      "frames: 50000, reward: -20.300000, loss: 0.000976, epsilon: 0.229432, episode:   56\n"
     ]
    },
    {
     "name": "stderr",
     "output_type": "stream",
     "text": [
      "  6%|████▏                                                                | 60002/1000000 [2:03:17<35:33:35,  7.34it/s]"
     ]
    },
    {
     "name": "stdout",
     "output_type": "stream",
     "text": [
      "frames: 60000, reward: -20.300000, loss: 0.001195, epsilon: 0.178569, episode:   67\n"
     ]
    },
    {
     "name": "stderr",
     "output_type": "stream",
     "text": [
      "  7%|████▊                                                                | 70002/1000000 [2:27:26<36:19:56,  7.11it/s]"
     ]
    },
    {
     "name": "stdout",
     "output_type": "stream",
     "text": [
      "frames: 70000, reward: -20.200000, loss: 0.002002, epsilon: 0.142123, episode:   78\n"
     ]
    },
    {
     "name": "stderr",
     "output_type": "stream",
     "text": [
      "  8%|█████▌                                                               | 80002/1000000 [2:51:25<37:30:55,  6.81it/s]"
     ]
    },
    {
     "name": "stdout",
     "output_type": "stream",
     "text": [
      "frames: 80000, reward: -20.000000, loss: 0.001699, epsilon: 0.116009, episode:   89\n"
     ]
    },
    {
     "name": "stderr",
     "output_type": "stream",
     "text": [
      "  9%|██████▏                                                              | 90002/1000000 [3:15:24<35:30:15,  7.12it/s]"
     ]
    },
    {
     "name": "stdout",
     "output_type": "stream",
     "text": [
      "frames: 90000, reward: -20.300000, loss: 0.002940, epsilon: 0.097298, episode:  100\n"
     ]
    },
    {
     "name": "stderr",
     "output_type": "stream",
     "text": [
      " 10%|██████▊                                                             | 100002/1000000 [3:39:48<35:47:50,  6.98it/s]"
     ]
    },
    {
     "name": "stdout",
     "output_type": "stream",
     "text": [
      "frames: 100000, reward: -18.400000, loss: 0.003284, epsilon: 0.083890, episode:  108\n"
     ]
    },
    {
     "name": "stderr",
     "output_type": "stream",
     "text": [
      " 11%|███████▍                                                            | 110002/1000000 [4:06:08<37:27:46,  6.60it/s]"
     ]
    },
    {
     "name": "stdout",
     "output_type": "stream",
     "text": [
      "frames: 110000, reward: -17.700000, loss: 0.002231, epsilon: 0.074283, episode:  114\n"
     ]
    },
    {
     "name": "stderr",
     "output_type": "stream",
     "text": [
      " 12%|████████▏                                                           | 120002/1000000 [4:33:47<31:33:28,  7.75it/s]"
     ]
    },
    {
     "name": "stdout",
     "output_type": "stream",
     "text": [
      "frames: 120000, reward: -16.000000, loss: 0.001359, epsilon: 0.067400, episode:  119\n"
     ]
    },
    {
     "name": "stderr",
     "output_type": "stream",
     "text": [
      " 13%|████████▊                                                           | 130002/1000000 [5:00:30<37:44:52,  6.40it/s]"
     ]
    },
    {
     "name": "stdout",
     "output_type": "stream",
     "text": [
      "frames: 130000, reward: -14.200000, loss: 0.004165, epsilon: 0.062468, episode:  124\n"
     ]
    },
    {
     "name": "stderr",
     "output_type": "stream",
     "text": [
      " 14%|█████████▌                                                          | 140002/1000000 [5:26:34<36:24:59,  6.56it/s]"
     ]
    },
    {
     "name": "stdout",
     "output_type": "stream",
     "text": [
      "frames: 140000, reward: -12.400000, loss: 0.001645, epsilon: 0.058933, episode:  128\n"
     ]
    },
    {
     "name": "stderr",
     "output_type": "stream",
     "text": [
      " 15%|██████████▏                                                         | 150002/1000000 [5:52:37<36:43:44,  6.43it/s]"
     ]
    },
    {
     "name": "stdout",
     "output_type": "stream",
     "text": [
      "frames: 150000, reward: -11.500000, loss: 0.003614, epsilon: 0.056401, episode:  131\n"
     ]
    },
    {
     "name": "stderr",
     "output_type": "stream",
     "text": [
      " 16%|██████████▉                                                         | 160002/1000000 [6:18:43<36:12:15,  6.44it/s]"
     ]
    },
    {
     "name": "stdout",
     "output_type": "stream",
     "text": [
      "frames: 160000, reward: -8.400000, loss: 0.003711, epsilon: 0.054587, episode:  134\n"
     ]
    },
    {
     "name": "stderr",
     "output_type": "stream",
     "text": [
      " 17%|███████████▌                                                        | 170002/1000000 [6:44:50<35:54:15,  6.42it/s]"
     ]
    },
    {
     "name": "stdout",
     "output_type": "stream",
     "text": [
      "frames: 170000, reward: -5.000000, loss: 0.000885, epsilon: 0.053286, episode:  137\n"
     ]
    },
    {
     "name": "stderr",
     "output_type": "stream",
     "text": [
      " 18%|████████████▏                                                       | 180002/1000000 [7:10:52<34:21:20,  6.63it/s]"
     ]
    },
    {
     "name": "stdout",
     "output_type": "stream",
     "text": [
      "frames: 180000, reward: -4.000000, loss: 0.001271, epsilon: 0.052355, episode:  140\n"
     ]
    },
    {
     "name": "stderr",
     "output_type": "stream",
     "text": [
      " 19%|████████████▉                                                       | 190002/1000000 [7:36:54<34:48:14,  6.46it/s]"
     ]
    },
    {
     "name": "stdout",
     "output_type": "stream",
     "text": [
      "frames: 190000, reward: 0.600000, loss: 0.001291, epsilon: 0.051687, episode:  143\n"
     ]
    },
    {
     "name": "stderr",
     "output_type": "stream",
     "text": [
      " 20%|█████████████▌                                                      | 200002/1000000 [8:02:57<34:10:27,  6.50it/s]"
     ]
    },
    {
     "name": "stdout",
     "output_type": "stream",
     "text": [
      "frames: 200000, reward: -0.400000, loss: 0.001776, epsilon: 0.051209, episode:  146\n"
     ]
    },
    {
     "name": "stderr",
     "output_type": "stream",
     "text": [
      " 21%|██████████████▎                                                     | 210002/1000000 [8:28:59<34:30:08,  6.36it/s]"
     ]
    },
    {
     "name": "stdout",
     "output_type": "stream",
     "text": [
      "frames: 210000, reward: 1.300000, loss: 0.001452, epsilon: 0.050866, episode:  149\n"
     ]
    },
    {
     "name": "stderr",
     "output_type": "stream",
     "text": [
      " 22%|██████████████▉                                                     | 220002/1000000 [8:55:01<33:57:33,  6.38it/s]"
     ]
    },
    {
     "name": "stdout",
     "output_type": "stream",
     "text": [
      "frames: 220000, reward: 2.800000, loss: 0.001499, epsilon: 0.050621, episode:  153\n"
     ]
    },
    {
     "name": "stderr",
     "output_type": "stream",
     "text": [
      " 23%|███████████████▋                                                    | 230002/1000000 [9:21:02<33:52:22,  6.31it/s]"
     ]
    },
    {
     "name": "stdout",
     "output_type": "stream",
     "text": [
      "frames: 230000, reward: 8.400000, loss: 0.004548, epsilon: 0.050445, episode:  157\n"
     ]
    },
    {
     "name": "stderr",
     "output_type": "stream",
     "text": [
      " 24%|████████████████▎                                                   | 240002/1000000 [9:47:02<33:28:10,  6.31it/s]"
     ]
    },
    {
     "name": "stdout",
     "output_type": "stream",
     "text": [
      "frames: 240000, reward: 10.900000, loss: 0.001519, epsilon: 0.050319, episode:  160\n"
     ]
    },
    {
     "name": "stderr",
     "output_type": "stream",
     "text": [
      " 25%|████████████████▊                                                  | 250002/1000000 [10:13:05<32:42:18,  6.37it/s]"
     ]
    },
    {
     "name": "stdout",
     "output_type": "stream",
     "text": [
      "frames: 250000, reward: 9.100000, loss: 0.000791, epsilon: 0.050228, episode:  164\n"
     ]
    },
    {
     "name": "stderr",
     "output_type": "stream",
     "text": [
      " 26%|█████████████████▍                                                 | 260002/1000000 [10:39:08<32:08:29,  6.40it/s]"
     ]
    },
    {
     "name": "stdout",
     "output_type": "stream",
     "text": [
      "frames: 260000, reward: 9.700000, loss: 0.001169, epsilon: 0.050164, episode:  168\n"
     ]
    },
    {
     "name": "stderr",
     "output_type": "stream",
     "text": [
      " 27%|██████████████████                                                 | 270002/1000000 [11:05:09<32:08:33,  6.31it/s]"
     ]
    },
    {
     "name": "stdout",
     "output_type": "stream",
     "text": [
      "frames: 270000, reward: 12.400000, loss: 0.000709, epsilon: 0.050117, episode:  173\n"
     ]
    },
    {
     "name": "stderr",
     "output_type": "stream",
     "text": [
      " 28%|██████████████████▊                                                | 280002/1000000 [11:31:10<31:00:12,  6.45it/s]"
     ]
    },
    {
     "name": "stdout",
     "output_type": "stream",
     "text": [
      "frames: 280000, reward: 14.700000, loss: 0.000891, epsilon: 0.050084, episode:  177\n"
     ]
    },
    {
     "name": "stderr",
     "output_type": "stream",
     "text": [
      " 29%|███████████████████▍                                               | 290002/1000000 [11:57:11<30:54:30,  6.38it/s]"
     ]
    },
    {
     "name": "stdout",
     "output_type": "stream",
     "text": [
      "frames: 290000, reward: 13.800000, loss: 0.001921, epsilon: 0.050060, episode:  181\n"
     ]
    },
    {
     "name": "stderr",
     "output_type": "stream",
     "text": [
      " 30%|████████████████████                                               | 300002/1000000 [12:23:03<30:11:44,  6.44it/s]"
     ]
    },
    {
     "name": "stdout",
     "output_type": "stream",
     "text": [
      "frames: 300000, reward: 10.100000, loss: 0.000956, epsilon: 0.050043, episode:  185\n"
     ]
    },
    {
     "name": "stderr",
     "output_type": "stream",
     "text": [
      " 31%|████████████████████▊                                              | 310002/1000000 [12:48:31<28:38:15,  6.69it/s]"
     ]
    },
    {
     "name": "stdout",
     "output_type": "stream",
     "text": [
      "frames: 310000, reward: 7.500000, loss: 0.000804, epsilon: 0.050031, episode:  189\n"
     ]
    },
    {
     "name": "stderr",
     "output_type": "stream",
     "text": [
      " 32%|█████████████████████▍                                             | 320002/1000000 [13:12:59<26:46:08,  7.06it/s]"
     ]
    },
    {
     "name": "stdout",
     "output_type": "stream",
     "text": [
      "frames: 320000, reward: 9.200000, loss: 0.001718, epsilon: 0.050022, episode:  193\n"
     ]
    },
    {
     "name": "stderr",
     "output_type": "stream",
     "text": [
      " 33%|██████████████████████                                             | 330002/1000000 [13:36:39<26:38:35,  6.99it/s]"
     ]
    },
    {
     "name": "stdout",
     "output_type": "stream",
     "text": [
      "frames: 330000, reward: 9.600000, loss: 0.002032, epsilon: 0.050016, episode:  196\n"
     ]
    },
    {
     "name": "stderr",
     "output_type": "stream",
     "text": [
      " 34%|██████████████████████▊                                            | 340001/1000000 [13:57:28<20:42:36,  8.85it/s]"
     ]
    },
    {
     "name": "stdout",
     "output_type": "stream",
     "text": [
      "frames: 340000, reward: 8.300000, loss: 0.000903, epsilon: 0.050011, episode:  200\n"
     ]
    },
    {
     "name": "stderr",
     "output_type": "stream",
     "text": [
      " 35%|███████████████████████▍                                           | 350002/1000000 [14:15:59<19:01:19,  9.49it/s]"
     ]
    },
    {
     "name": "stdout",
     "output_type": "stream",
     "text": [
      "frames: 350000, reward: 7.700000, loss: 0.001301, epsilon: 0.050008, episode:  204\n"
     ]
    },
    {
     "name": "stderr",
     "output_type": "stream",
     "text": [
      " 36%|████████████████████████                                           | 360002/1000000 [14:35:19<23:01:17,  7.72it/s]"
     ]
    },
    {
     "name": "stdout",
     "output_type": "stream",
     "text": [
      "frames: 360000, reward: 10.300000, loss: 0.002558, epsilon: 0.050006, episode:  207\n"
     ]
    },
    {
     "name": "stderr",
     "output_type": "stream",
     "text": [
      " 37%|████████████████████████▊                                          | 370002/1000000 [14:55:59<20:58:59,  8.34it/s]"
     ]
    },
    {
     "name": "stdout",
     "output_type": "stream",
     "text": [
      "frames: 370000, reward: 9.000000, loss: 0.001003, epsilon: 0.050004, episode:  211\n"
     ]
    },
    {
     "name": "stderr",
     "output_type": "stream",
     "text": [
      " 38%|█████████████████████████▍                                         | 380002/1000000 [15:17:02<19:39:26,  8.76it/s]"
     ]
    },
    {
     "name": "stdout",
     "output_type": "stream",
     "text": [
      "frames: 380000, reward: 10.400000, loss: 0.002728, epsilon: 0.050003, episode:  215\n"
     ]
    },
    {
     "name": "stderr",
     "output_type": "stream",
     "text": [
      " 39%|██████████████████████████▏                                        | 390002/1000000 [15:35:34<18:30:51,  9.15it/s]"
     ]
    },
    {
     "name": "stdout",
     "output_type": "stream",
     "text": [
      "frames: 390000, reward: 9.900000, loss: 0.001769, epsilon: 0.050002, episode:  219\n"
     ]
    },
    {
     "name": "stderr",
     "output_type": "stream",
     "text": [
      " 40%|██████████████████████████▊                                        | 400002/1000000 [15:55:03<22:21:04,  7.46it/s]"
     ]
    },
    {
     "name": "stdout",
     "output_type": "stream",
     "text": [
      "frames: 400000, reward: 6.800000, loss: 0.002181, epsilon: 0.050002, episode:  222\n"
     ]
    },
    {
     "name": "stderr",
     "output_type": "stream",
     "text": [
      " 41%|███████████████████████████▍                                       | 410002/1000000 [16:16:27<21:14:22,  7.72it/s]"
     ]
    },
    {
     "name": "stdout",
     "output_type": "stream",
     "text": [
      "frames: 410000, reward: 6.800000, loss: 0.003780, epsilon: 0.050001, episode:  225\n"
     ]
    },
    {
     "name": "stderr",
     "output_type": "stream",
     "text": [
      " 42%|████████████████████████████▏                                      | 420002/1000000 [16:37:51<20:42:03,  7.78it/s]"
     ]
    },
    {
     "name": "stdout",
     "output_type": "stream",
     "text": [
      "frames: 420000, reward: 7.200000, loss: 0.002604, epsilon: 0.050001, episode:  229\n"
     ]
    },
    {
     "name": "stderr",
     "output_type": "stream",
     "text": [
      " 43%|████████████████████████████▊                                      | 430002/1000000 [16:59:28<21:01:03,  7.53it/s]"
     ]
    },
    {
     "name": "stdout",
     "output_type": "stream",
     "text": [
      "frames: 430000, reward: 11.400000, loss: 0.001640, epsilon: 0.050001, episode:  234\n"
     ]
    },
    {
     "name": "stderr",
     "output_type": "stream",
     "text": [
      " 44%|█████████████████████████████▍                                     | 440002/1000000 [17:21:03<20:20:56,  7.64it/s]"
     ]
    },
    {
     "name": "stdout",
     "output_type": "stream",
     "text": [
      "frames: 440000, reward: 13.800000, loss: 0.000986, epsilon: 0.050000, episode:  237\n"
     ]
    },
    {
     "name": "stderr",
     "output_type": "stream",
     "text": [
      " 45%|██████████████████████████████▏                                    | 450002/1000000 [17:42:28<19:38:03,  7.78it/s]"
     ]
    },
    {
     "name": "stdout",
     "output_type": "stream",
     "text": [
      "frames: 450000, reward: 13.400000, loss: 0.001519, epsilon: 0.050000, episode:  241\n"
     ]
    },
    {
     "name": "stderr",
     "output_type": "stream",
     "text": [
      " 46%|██████████████████████████████▊                                    | 460002/1000000 [18:03:36<18:59:30,  7.90it/s]"
     ]
    },
    {
     "name": "stdout",
     "output_type": "stream",
     "text": [
      "frames: 460000, reward: 10.900000, loss: 0.004308, epsilon: 0.050000, episode:  245\n"
     ]
    },
    {
     "name": "stderr",
     "output_type": "stream",
     "text": [
      " 47%|███████████████████████████████▍                                   | 470002/1000000 [18:24:21<18:28:51,  7.97it/s]"
     ]
    },
    {
     "name": "stdout",
     "output_type": "stream",
     "text": [
      "frames: 470000, reward: 12.000000, loss: 0.001037, epsilon: 0.050000, episode:  249\n"
     ]
    },
    {
     "name": "stderr",
     "output_type": "stream",
     "text": [
      " 48%|████████████████████████████████▏                                  | 480002/1000000 [18:45:36<18:19:45,  7.88it/s]"
     ]
    },
    {
     "name": "stdout",
     "output_type": "stream",
     "text": [
      "frames: 480000, reward: 11.600000, loss: 0.002429, epsilon: 0.050000, episode:  253\n"
     ]
    },
    {
     "name": "stderr",
     "output_type": "stream",
     "text": [
      " 49%|████████████████████████████████▊                                  | 490002/1000000 [19:07:06<18:50:51,  7.52it/s]"
     ]
    },
    {
     "name": "stdout",
     "output_type": "stream",
     "text": [
      "frames: 490000, reward: 13.300000, loss: 0.001097, epsilon: 0.050000, episode:  257\n"
     ]
    },
    {
     "name": "stderr",
     "output_type": "stream",
     "text": [
      " 50%|█████████████████████████████████▌                                 | 500002/1000000 [19:28:56<17:52:10,  7.77it/s]"
     ]
    },
    {
     "name": "stdout",
     "output_type": "stream",
     "text": [
      "frames: 500000, reward: 13.300000, loss: 0.000992, epsilon: 0.050000, episode:  261\n"
     ]
    },
    {
     "name": "stderr",
     "output_type": "stream",
     "text": [
      " 51%|██████████████████████████████████▏                                | 510002/1000000 [19:50:49<18:06:03,  7.52it/s]"
     ]
    },
    {
     "name": "stdout",
     "output_type": "stream",
     "text": [
      "frames: 510000, reward: 13.500000, loss: 0.002825, epsilon: 0.050000, episode:  265\n"
     ]
    },
    {
     "name": "stderr",
     "output_type": "stream",
     "text": [
      " 52%|██████████████████████████████████▊                                | 520002/1000000 [20:12:12<16:02:26,  8.31it/s]"
     ]
    },
    {
     "name": "stdout",
     "output_type": "stream",
     "text": [
      "frames: 520000, reward: 11.800000, loss: 0.000933, epsilon: 0.050000, episode:  269\n"
     ]
    },
    {
     "name": "stderr",
     "output_type": "stream",
     "text": [
      " 53%|███████████████████████████████████▌                               | 530002/1000000 [20:34:30<16:10:18,  8.07it/s]"
     ]
    },
    {
     "name": "stdout",
     "output_type": "stream",
     "text": [
      "frames: 530000, reward: 13.000000, loss: 0.000536, epsilon: 0.050000, episode:  273\n"
     ]
    },
    {
     "name": "stderr",
     "output_type": "stream",
     "text": [
      " 54%|████████████████████████████████████▏                              | 540002/1000000 [20:55:24<16:25:38,  7.78it/s]"
     ]
    },
    {
     "name": "stdout",
     "output_type": "stream",
     "text": [
      "frames: 540000, reward: 13.200000, loss: 0.000720, epsilon: 0.050000, episode:  276\n"
     ]
    },
    {
     "name": "stderr",
     "output_type": "stream",
     "text": [
      " 55%|████████████████████████████████████▊                              | 550002/1000000 [21:17:36<17:04:03,  7.32it/s]"
     ]
    },
    {
     "name": "stdout",
     "output_type": "stream",
     "text": [
      "frames: 550000, reward: 12.700000, loss: 0.001240, epsilon: 0.050000, episode:  280\n"
     ]
    },
    {
     "name": "stderr",
     "output_type": "stream",
     "text": [
      " 56%|█████████████████████████████████████▌                             | 560002/1000000 [21:39:44<15:56:35,  7.67it/s]"
     ]
    },
    {
     "name": "stdout",
     "output_type": "stream",
     "text": [
      "frames: 560000, reward: 11.000000, loss: 0.002683, epsilon: 0.050000, episode:  284\n"
     ]
    },
    {
     "name": "stderr",
     "output_type": "stream",
     "text": [
      " 57%|██████████████████████████████████████▏                            | 570002/1000000 [22:01:18<15:38:30,  7.64it/s]"
     ]
    },
    {
     "name": "stdout",
     "output_type": "stream",
     "text": [
      "frames: 570000, reward: 10.600000, loss: 0.002582, epsilon: 0.050000, episode:  288\n"
     ]
    },
    {
     "name": "stderr",
     "output_type": "stream",
     "text": [
      " 58%|██████████████████████████████████████▊                            | 580002/1000000 [22:22:41<15:09:14,  7.70it/s]"
     ]
    },
    {
     "name": "stdout",
     "output_type": "stream",
     "text": [
      "frames: 580000, reward: 12.500000, loss: 0.001491, epsilon: 0.050000, episode:  292\n"
     ]
    },
    {
     "name": "stderr",
     "output_type": "stream",
     "text": [
      " 59%|███████████████████████████████████████▌                           | 590002/1000000 [22:44:48<16:13:10,  7.02it/s]"
     ]
    },
    {
     "name": "stdout",
     "output_type": "stream",
     "text": [
      "frames: 590000, reward: 13.700000, loss: 0.000804, epsilon: 0.050000, episode:  296\n"
     ]
    },
    {
     "name": "stderr",
     "output_type": "stream",
     "text": [
      " 60%|████████████████████████████████████████▏                          | 600002/1000000 [23:06:13<13:56:43,  7.97it/s]"
     ]
    },
    {
     "name": "stdout",
     "output_type": "stream",
     "text": [
      "frames: 600000, reward: 12.800000, loss: 0.000862, epsilon: 0.050000, episode:  300\n"
     ]
    },
    {
     "name": "stderr",
     "output_type": "stream",
     "text": [
      " 61%|████████████████████████████████████████▊                          | 610002/1000000 [23:25:57<12:48:27,  8.46it/s]"
     ]
    },
    {
     "name": "stdout",
     "output_type": "stream",
     "text": [
      "frames: 610000, reward: 12.800000, loss: 0.000882, epsilon: 0.050000, episode:  304\n"
     ]
    },
    {
     "name": "stderr",
     "output_type": "stream",
     "text": [
      " 62%|█████████████████████████████████████████▌                         | 620002/1000000 [23:46:00<13:08:28,  8.03it/s]"
     ]
    },
    {
     "name": "stdout",
     "output_type": "stream",
     "text": [
      "frames: 620000, reward: 14.400000, loss: 0.001806, epsilon: 0.050000, episode:  308\n"
     ]
    },
    {
     "name": "stderr",
     "output_type": "stream",
     "text": [
      " 63%|██████████████████████████████████████████▏                        | 630002/1000000 [24:05:51<11:07:25,  9.24it/s]"
     ]
    },
    {
     "name": "stdout",
     "output_type": "stream",
     "text": [
      "frames: 630000, reward: 12.600000, loss: 0.001050, epsilon: 0.050000, episode:  312\n"
     ]
    },
    {
     "name": "stderr",
     "output_type": "stream",
     "text": [
      " 64%|██████████████████████████████████████████▉                        | 640001/1000000 [24:23:35<10:41:12,  9.36it/s]"
     ]
    },
    {
     "name": "stdout",
     "output_type": "stream",
     "text": [
      "frames: 640000, reward: 12.200000, loss: 0.000621, epsilon: 0.050000, episode:  316\n"
     ]
    },
    {
     "name": "stderr",
     "output_type": "stream",
     "text": [
      " 65%|███████████████████████████████████████████▌                       | 650002/1000000 [24:41:06<10:25:35,  9.32it/s]"
     ]
    },
    {
     "name": "stdout",
     "output_type": "stream",
     "text": [
      "frames: 650000, reward: 12.100000, loss: 0.001141, epsilon: 0.050000, episode:  320\n"
     ]
    },
    {
     "name": "stderr",
     "output_type": "stream",
     "text": [
      " 66%|████████████████████████████████████████████▏                      | 660001/1000000 [24:58:36<10:00:32,  9.44it/s]"
     ]
    },
    {
     "name": "stdout",
     "output_type": "stream",
     "text": [
      "frames: 660000, reward: 12.200000, loss: 0.001853, epsilon: 0.050000, episode:  324\n"
     ]
    },
    {
     "name": "stderr",
     "output_type": "stream",
     "text": [
      " 67%|█████████████████████████████████████████████▌                      | 670002/1000000 [25:16:50<9:57:40,  9.20it/s]"
     ]
    },
    {
     "name": "stdout",
     "output_type": "stream",
     "text": [
      "frames: 670000, reward: 13.000000, loss: 0.001017, epsilon: 0.050000, episode:  328\n"
     ]
    },
    {
     "name": "stderr",
     "output_type": "stream",
     "text": [
      " 68%|██████████████████████████████████████████████▏                     | 680002/1000000 [25:34:36<9:29:17,  9.37it/s]"
     ]
    },
    {
     "name": "stdout",
     "output_type": "stream",
     "text": [
      "frames: 680000, reward: 14.000000, loss: 0.003775, epsilon: 0.050000, episode:  332\n"
     ]
    },
    {
     "name": "stderr",
     "output_type": "stream",
     "text": [
      " 69%|██████████████████████████████████████████████▉                     | 690002/1000000 [25:52:18<9:15:17,  9.30it/s]"
     ]
    },
    {
     "name": "stdout",
     "output_type": "stream",
     "text": [
      "frames: 690000, reward: 13.600000, loss: 0.002589, epsilon: 0.050000, episode:  336\n"
     ]
    },
    {
     "name": "stderr",
     "output_type": "stream",
     "text": [
      " 70%|███████████████████████████████████████████████▌                    | 700002/1000000 [26:09:56<9:06:03,  9.16it/s]"
     ]
    },
    {
     "name": "stdout",
     "output_type": "stream",
     "text": [
      "frames: 700000, reward: 11.700000, loss: 0.000757, epsilon: 0.050000, episode:  339\n"
     ]
    },
    {
     "name": "stderr",
     "output_type": "stream",
     "text": [
      " 71%|████████████████████████████████████████████████▎                   | 710002/1000000 [26:27:38<8:40:38,  9.28it/s]"
     ]
    },
    {
     "name": "stdout",
     "output_type": "stream",
     "text": [
      "frames: 710000, reward: 11.100000, loss: 0.001545, epsilon: 0.050000, episode:  342\n"
     ]
    },
    {
     "name": "stderr",
     "output_type": "stream",
     "text": [
      " 72%|████████████████████████████████████████████████▉                   | 720002/1000000 [26:45:17<8:29:49,  9.15it/s]"
     ]
    },
    {
     "name": "stdout",
     "output_type": "stream",
     "text": [
      "frames: 720000, reward: 11.300000, loss: 0.003274, epsilon: 0.050000, episode:  346\n"
     ]
    },
    {
     "name": "stderr",
     "output_type": "stream",
     "text": [
      " 73%|█████████████████████████████████████████████████▋                  | 730002/1000000 [27:03:04<7:56:06,  9.45it/s]"
     ]
    },
    {
     "name": "stdout",
     "output_type": "stream",
     "text": [
      "frames: 730000, reward: 12.300000, loss: 0.002075, epsilon: 0.050000, episode:  350\n"
     ]
    },
    {
     "name": "stderr",
     "output_type": "stream",
     "text": [
      " 74%|██████████████████████████████████████████████████▎                 | 740003/1000000 [27:19:38<4:56:48, 14.60it/s]"
     ]
    },
    {
     "name": "stdout",
     "output_type": "stream",
     "text": [
      "frames: 740000, reward: 13.000000, loss: 0.000417, epsilon: 0.050000, episode:  353\n"
     ]
    },
    {
     "name": "stderr",
     "output_type": "stream",
     "text": [
      " 75%|███████████████████████████████████████████████████                 | 750003/1000000 [27:31:47<4:48:17, 14.45it/s]"
     ]
    },
    {
     "name": "stdout",
     "output_type": "stream",
     "text": [
      "frames: 750000, reward: 13.100000, loss: 0.000928, epsilon: 0.050000, episode:  356\n"
     ]
    },
    {
     "name": "stderr",
     "output_type": "stream",
     "text": [
      " 76%|███████████████████████████████████████████████████▋                | 760003/1000000 [27:44:21<5:07:31, 13.01it/s]"
     ]
    },
    {
     "name": "stdout",
     "output_type": "stream",
     "text": [
      "frames: 760000, reward: 12.600000, loss: 0.001026, epsilon: 0.050000, episode:  360\n"
     ]
    },
    {
     "name": "stderr",
     "output_type": "stream",
     "text": [
      " 77%|████████████████████████████████████████████████████▎               | 770003/1000000 [27:57:44<5:17:25, 12.08it/s]"
     ]
    },
    {
     "name": "stdout",
     "output_type": "stream",
     "text": [
      "frames: 770000, reward: 14.900000, loss: 0.002001, epsilon: 0.050000, episode:  365\n"
     ]
    },
    {
     "name": "stderr",
     "output_type": "stream",
     "text": [
      " 78%|█████████████████████████████████████████████████████               | 780003/1000000 [28:10:19<4:25:21, 13.82it/s]"
     ]
    },
    {
     "name": "stdout",
     "output_type": "stream",
     "text": [
      "frames: 780000, reward: 15.200000, loss: 0.000885, epsilon: 0.050000, episode:  369\n"
     ]
    },
    {
     "name": "stderr",
     "output_type": "stream",
     "text": [
      " 79%|█████████████████████████████████████████████████████▋              | 790003/1000000 [28:22:16<4:09:26, 14.03it/s]"
     ]
    },
    {
     "name": "stdout",
     "output_type": "stream",
     "text": [
      "frames: 790000, reward: 14.400000, loss: 0.001071, epsilon: 0.050000, episode:  372\n"
     ]
    },
    {
     "name": "stderr",
     "output_type": "stream",
     "text": [
      " 80%|██████████████████████████████████████████████████████▍             | 800003/1000000 [28:34:32<3:57:22, 14.04it/s]"
     ]
    },
    {
     "name": "stdout",
     "output_type": "stream",
     "text": [
      "frames: 800000, reward: 10.700000, loss: 0.000811, epsilon: 0.050000, episode:  376\n"
     ]
    },
    {
     "name": "stderr",
     "output_type": "stream",
     "text": [
      " 81%|███████████████████████████████████████████████████████             | 810003/1000000 [28:46:46<3:53:13, 13.58it/s]"
     ]
    },
    {
     "name": "stdout",
     "output_type": "stream",
     "text": [
      "frames: 810000, reward: 12.400000, loss: 0.004784, epsilon: 0.050000, episode:  380\n"
     ]
    },
    {
     "name": "stderr",
     "output_type": "stream",
     "text": [
      " 82%|███████████████████████████████████████████████████████▊            | 820003/1000000 [28:58:56<3:34:40, 13.97it/s]"
     ]
    },
    {
     "name": "stdout",
     "output_type": "stream",
     "text": [
      "frames: 820000, reward: 13.700000, loss: 0.000509, epsilon: 0.050000, episode:  384\n"
     ]
    },
    {
     "name": "stderr",
     "output_type": "stream",
     "text": [
      " 83%|████████████████████████████████████████████████████████▍           | 830003/1000000 [29:11:07<3:23:30, 13.92it/s]"
     ]
    },
    {
     "name": "stdout",
     "output_type": "stream",
     "text": [
      "frames: 830000, reward: 15.300000, loss: 0.001300, epsilon: 0.050000, episode:  388\n"
     ]
    },
    {
     "name": "stderr",
     "output_type": "stream",
     "text": [
      " 84%|█████████████████████████████████████████████████████████           | 840003/1000000 [29:23:20<3:12:51, 13.83it/s]"
     ]
    },
    {
     "name": "stdout",
     "output_type": "stream",
     "text": [
      "frames: 840000, reward: 14.600000, loss: 0.000602, epsilon: 0.050000, episode:  391\n"
     ]
    },
    {
     "name": "stderr",
     "output_type": "stream",
     "text": [
      " 85%|█████████████████████████████████████████████████████████▊          | 850003/1000000 [29:35:30<3:02:03, 13.73it/s]"
     ]
    },
    {
     "name": "stdout",
     "output_type": "stream",
     "text": [
      "frames: 850000, reward: 13.600000, loss: 0.000515, epsilon: 0.050000, episode:  395\n"
     ]
    },
    {
     "name": "stderr",
     "output_type": "stream",
     "text": [
      " 86%|██████████████████████████████████████████████████████████▍         | 860003/1000000 [29:47:41<2:46:29, 14.01it/s]"
     ]
    },
    {
     "name": "stdout",
     "output_type": "stream",
     "text": [
      "frames: 860000, reward: 14.500000, loss: 0.000911, epsilon: 0.050000, episode:  399\n"
     ]
    },
    {
     "name": "stderr",
     "output_type": "stream",
     "text": [
      " 87%|███████████████████████████████████████████████████████████▏        | 870003/1000000 [29:59:52<2:34:43, 14.00it/s]"
     ]
    },
    {
     "name": "stdout",
     "output_type": "stream",
     "text": [
      "frames: 870000, reward: 16.100000, loss: 0.000465, epsilon: 0.050000, episode:  403\n"
     ]
    },
    {
     "name": "stderr",
     "output_type": "stream",
     "text": [
      " 88%|███████████████████████████████████████████████████████████▊        | 880003/1000000 [30:12:03<2:23:05, 13.98it/s]"
     ]
    },
    {
     "name": "stdout",
     "output_type": "stream",
     "text": [
      "frames: 880000, reward: 15.000000, loss: 0.000703, epsilon: 0.050000, episode:  407\n"
     ]
    },
    {
     "name": "stderr",
     "output_type": "stream",
     "text": [
      " 89%|████████████████████████████████████████████████████████████▌       | 890003/1000000 [30:24:14<2:12:54, 13.79it/s]"
     ]
    },
    {
     "name": "stdout",
     "output_type": "stream",
     "text": [
      "frames: 890000, reward: 14.400000, loss: 0.004451, epsilon: 0.050000, episode:  411\n"
     ]
    },
    {
     "name": "stderr",
     "output_type": "stream",
     "text": [
      " 90%|█████████████████████████████████████████████████████████████▏      | 900003/1000000 [30:36:24<2:02:44, 13.58it/s]"
     ]
    },
    {
     "name": "stdout",
     "output_type": "stream",
     "text": [
      "frames: 900000, reward: 14.700000, loss: 0.000879, epsilon: 0.050000, episode:  414\n"
     ]
    },
    {
     "name": "stderr",
     "output_type": "stream",
     "text": [
      " 91%|█████████████████████████████████████████████████████████████▉      | 910003/1000000 [30:48:35<1:46:39, 14.06it/s]"
     ]
    },
    {
     "name": "stdout",
     "output_type": "stream",
     "text": [
      "frames: 910000, reward: 13.200000, loss: 0.000472, epsilon: 0.050000, episode:  418\n"
     ]
    },
    {
     "name": "stderr",
     "output_type": "stream",
     "text": [
      " 92%|██████████████████████████████████████████████████████████████▌     | 920003/1000000 [31:00:45<1:37:55, 13.62it/s]"
     ]
    },
    {
     "name": "stdout",
     "output_type": "stream",
     "text": [
      "frames: 920000, reward: 13.700000, loss: 0.000538, epsilon: 0.050000, episode:  422\n"
     ]
    },
    {
     "name": "stderr",
     "output_type": "stream",
     "text": [
      " 93%|███████████████████████████████████████████████████████████████▏    | 930003/1000000 [31:12:55<1:23:17, 14.01it/s]"
     ]
    },
    {
     "name": "stdout",
     "output_type": "stream",
     "text": [
      "frames: 930000, reward: 14.900000, loss: 0.001974, epsilon: 0.050000, episode:  426\n"
     ]
    },
    {
     "name": "stderr",
     "output_type": "stream",
     "text": [
      " 94%|███████████████████████████████████████████████████████████████▉    | 940003/1000000 [31:25:05<1:14:37, 13.40it/s]"
     ]
    },
    {
     "name": "stdout",
     "output_type": "stream",
     "text": [
      "frames: 940000, reward: 15.200000, loss: 0.001099, epsilon: 0.050000, episode:  429\n"
     ]
    },
    {
     "name": "stderr",
     "output_type": "stream",
     "text": [
      " 95%|██████████████████████████████████████████████████████████████████▌   | 950003/1000000 [31:37:15<59:30, 14.00it/s]"
     ]
    },
    {
     "name": "stdout",
     "output_type": "stream",
     "text": [
      "frames: 950000, reward: 15.800000, loss: 0.001282, epsilon: 0.050000, episode:  433\n"
     ]
    },
    {
     "name": "stderr",
     "output_type": "stream",
     "text": [
      " 96%|███████████████████████████████████████████████████████████████████▏  | 960003/1000000 [31:49:25<47:32, 14.02it/s]"
     ]
    },
    {
     "name": "stdout",
     "output_type": "stream",
     "text": [
      "frames: 960000, reward: 16.200000, loss: 0.001047, epsilon: 0.050000, episode:  437\n"
     ]
    },
    {
     "name": "stderr",
     "output_type": "stream",
     "text": [
      " 97%|███████████████████████████████████████████████████████████████████▉  | 970003/1000000 [32:01:35<36:55, 13.54it/s]"
     ]
    },
    {
     "name": "stdout",
     "output_type": "stream",
     "text": [
      "frames: 970000, reward: 13.600000, loss: 0.001651, epsilon: 0.050000, episode:  441\n"
     ]
    },
    {
     "name": "stderr",
     "output_type": "stream",
     "text": [
      " 98%|████████████████████████████████████████████████████████████████████▌ | 980003/1000000 [32:13:46<24:31, 13.59it/s]"
     ]
    },
    {
     "name": "stdout",
     "output_type": "stream",
     "text": [
      "frames: 980000, reward: 12.200000, loss: 0.000886, epsilon: 0.050000, episode:  444\n"
     ]
    },
    {
     "name": "stderr",
     "output_type": "stream",
     "text": [
      " 99%|█████████████████████████████████████████████████████████████████████▎| 990003/1000000 [32:25:56<11:57, 13.93it/s]"
     ]
    },
    {
     "name": "stdout",
     "output_type": "stream",
     "text": [
      "frames: 990000, reward: 12.200000, loss: 0.001152, epsilon: 0.050000, episode:  449\n"
     ]
    },
    {
     "name": "stderr",
     "output_type": "stream",
     "text": [
      "100%|█████████████████████████████████████████████████████████████████████| 1000000/1000000 [32:38:05<00:00,  8.51it/s]\n"
     ]
    }
   ],
   "source": [
    "## HyperParameters\n",
    "gamma = 0.99\n",
    "epsilon_max = 1\n",
    "epsilon_min = 0.05\n",
    "eps_decay = 30000\n",
    "frames = 1000000\n",
    "USE_CUDA = torch.cuda.is_available()\n",
    "learning_rate = 2e-4\n",
    "max_buff = 100000\n",
    "update_tar_interval = 1000\n",
    "batch_size = 32\n",
    "print_interval = 10000\n",
    "\n",
    "action_space = env.action_space\n",
    "action_dim = env.action_space.n\n",
    "state_channel = env.observation_space.shape[2]\n",
    "hidden_dim = 6\n",
    "agent = DATQNAgent(in_channels = state_channel, action_space = action_space, hidden_dim = hidden_dim, \n",
    "                 USE_CUDA = USE_CUDA, lr = learning_rate, memory_size = max_buff)\n",
    "\n",
    "for _ in tqdm(range(100)):\n",
    "    frame = env.reset()\n",
    "    done = False\n",
    "    while not done:\n",
    "        action = random.randrange(agent.action_space.n)\n",
    "        next_frame, reward, done, _ = env.step(action)\n",
    "        agent.memory.push(frame, action, reward, next_frame, done)\n",
    "        frame = next_frame\n",
    "frame = env.reset()\n",
    "\n",
    "episode_reward = 0\n",
    "all_rewards = []\n",
    "avg_rewards = []\n",
    "losses = []\n",
    "episode_num = 0\n",
    "save_flag = False\n",
    "\n",
    "# e-greedy decay\n",
    "epsilon_by_frame = lambda frame_idx: epsilon_min + (epsilon_max - epsilon_min) * math.exp(\n",
    "            -1. * frame_idx / eps_decay)\n",
    "\n",
    "for i in tqdm(range(frames)):\n",
    "    epsilon = epsilon_by_frame(i)\n",
    "    state_tensor = agent.observe(frame)\n",
    "    action = agent.act(state_tensor, epsilon)\n",
    "    \n",
    "    next_frame, reward, done, _ = env.step(action)\n",
    "    \n",
    "    episode_reward += reward\n",
    "    agent.memory.push(frame, action, reward, next_frame, done)\n",
    "    frame = next_frame\n",
    "    \n",
    "    loss = agent.learn_from_experience(batch_size)\n",
    "    losses.append(loss)\n",
    "\n",
    "    if i % print_interval == 0:\n",
    "        print(\"frames: %5d, reward: %5f, loss: %4f, epsilon: %5f, episode: %4d\" % (i, np.mean(all_rewards[-10:]), loss, epsilon, episode_num))\n",
    "\n",
    "    if i % update_tar_interval == 0:\n",
    "        agent.targetNet.load_state_dict(agent.behaviourNet.state_dict())\n",
    "    \n",
    "    if done:\n",
    "        frame = env.reset()\n",
    "        all_rewards.append(episode_reward)\n",
    "        episode_reward = 0\n",
    "        episode_num += 1\n",
    "        \n",
    "        avg_reward = np.mean(all_rewards[-50:])\n",
    "        avg_rewards.append(avg_reward)\n",
    "        \n",
    "        if avg_reward > 19:\n",
    "            if save_flag == False:\n",
    "                agent.save_model()\n",
    "                save_flag = True\n",
    "                max_reward = avg_reward\n",
    "                print(\"model saved, episode:\", episode_num, \",avg reward:\", avg_reward)\n",
    "            else:\n",
    "                if avg_reward >= max_reward:\n",
    "                    agent.save_model()\n",
    "                    max_reward = avg_reward\n",
    "                    print(\"model saved, episode:\", episode_num, \",avg reward:\", avg_reward)"
   ]
  },
  {
   "cell_type": "code",
   "execution_count": 8,
   "metadata": {},
   "outputs": [],
   "source": [
    "# save learning curve\n",
    "learning_curve = np.array(avg_rewards)\n",
    "np.save('curve\\DATQN', learning_curve)"
   ]
  }
 ],
 "metadata": {
  "kernelspec": {
   "display_name": "Python 3",
   "language": "python",
   "name": "python3"
  },
  "language_info": {
   "codemirror_mode": {
    "name": "ipython",
    "version": 3
   },
   "file_extension": ".py",
   "mimetype": "text/x-python",
   "name": "python",
   "nbconvert_exporter": "python",
   "pygments_lexer": "ipython3",
   "version": "3.8.5"
  }
 },
 "nbformat": 4,
 "nbformat_minor": 4
}
