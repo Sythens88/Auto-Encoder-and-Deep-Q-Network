{
 "cells": [
  {
   "cell_type": "markdown",
   "metadata": {},
   "source": [
    "## CartPole"
   ]
  },
  {
   "cell_type": "code",
   "execution_count": 20,
   "metadata": {},
   "outputs": [],
   "source": [
    "import gym\n",
    "import numpy as np\n",
    "import torch\n",
    "import torch.nn as nn\n",
    "import torch.utils.data as tud\n",
    "import random\n",
    "from tqdm import tqdm\n",
    "import matplotlib.pyplot as plt\n",
    "import os\n",
    "os.environ[\"KMP_DUPLICATE_LIB_OK\"] = \"TRUE\""
   ]
  },
  {
   "cell_type": "code",
   "execution_count": 2,
   "metadata": {},
   "outputs": [],
   "source": [
    "env = gym.make('CartPole-v0')"
   ]
  },
  {
   "cell_type": "markdown",
   "metadata": {},
   "source": [
    "### Method 2. DAQN"
   ]
  },
  {
   "cell_type": "markdown",
   "metadata": {},
   "source": [
    "### Step 1.fill the experience set and train an auto-encoeder"
   ]
  },
  {
   "cell_type": "code",
   "execution_count": 3,
   "metadata": {},
   "outputs": [],
   "source": [
    "## experience set\n",
    "\n",
    "class Experience():\n",
    "    def __init__(self, capacity = 20000):\n",
    "        self.experience = []  ## store （s,a,r,s'）\n",
    "        self.capacity = capacity  ## max capacity\n",
    "        self.volume = 0  ## current capacity\n",
    "        self.iter = 0\n",
    "        \n",
    "    def insert(self, transition):\n",
    "        if self.volume < self.capacity:\n",
    "            ## insert directly\n",
    "            self.experience.append(transition)\n",
    "            self.volume += 1\n",
    "        else:\n",
    "            ## random choose a transition to cover\n",
    "            self.experience[self.iter] = transition\n",
    "            self.iter = (self.iter + 1) % self.capacity\n",
    "    \n",
    "    def sample(self, batch_size):\n",
    "        ## random sample a batch including batch_size transitions\n",
    "        return random.sample(self.experience, k = batch_size)"
   ]
  },
  {
   "cell_type": "code",
   "execution_count": 4,
   "metadata": {},
   "outputs": [],
   "source": [
    "experience = Experience(capacity = 20000)\n",
    "\n",
    "while True:\n",
    "    s0 = env.reset()\n",
    "    is_end = False\n",
    "    while not is_end:\n",
    "        action = env.action_space.sample()\n",
    "        s1, reward, is_end, _ = env.step(action)\n",
    "        experience.insert([s0,action,reward,s1])\n",
    "        s0 = s1\n",
    "    if experience.volume == experience.capacity:\n",
    "        break"
   ]
  },
  {
   "cell_type": "code",
   "execution_count": 5,
   "metadata": {},
   "outputs": [],
   "source": [
    "## Auto Encoder\n",
    "\n",
    "class AutoEncoder(nn.Module):\n",
    "    def __init__(self, input_dim, hidden_dim, output_dim):\n",
    "        super(AutoEncoder, self).__init__()\n",
    "        self.input_dim = input_dim\n",
    "        self.hidden_dim = hidden_dim\n",
    "        self.output_dim = output_dim\n",
    "        self.encoder = nn.Sequential(\n",
    "            nn.Linear(input_dim, hidden_dim),\n",
    "            nn.ReLU(),\n",
    "            nn.Linear(hidden_dim, hidden_dim // 2),\n",
    "            nn.ReLU(),\n",
    "            nn.Linear(hidden_dim // 2, hidden_dim // 4),\n",
    "            nn.ReLU(),\n",
    "            nn.Linear(hidden_dim // 4, output_dim)\n",
    "        )\n",
    "        self.decoder = nn.Sequential(\n",
    "            nn.Linear(output_dim, hidden_dim // 4),\n",
    "            nn.ReLU(),\n",
    "            nn.Linear(hidden_dim // 4, hidden_dim // 2),\n",
    "            nn.ReLU(),\n",
    "            nn.Linear(hidden_dim // 2, hidden_dim),\n",
    "            nn.ReLU(),\n",
    "            nn.Linear(hidden_dim, input_dim)\n",
    "        )\n",
    "        \n",
    "    def forward(self, x):\n",
    "        hidden = self.encoder(x)\n",
    "        output = self.decoder(hidden)\n",
    "        return hidden, output"
   ]
  },
  {
   "cell_type": "code",
   "execution_count": 6,
   "metadata": {},
   "outputs": [],
   "source": [
    "# Dataset and DataLoader\n",
    "\n",
    "class AEDataset(tud.Dataset):\n",
    "    def __init__(self, experience):\n",
    "        state = []\n",
    "        for s in experience.experience:\n",
    "            state.append(s[0])\n",
    "        self.states = torch.Tensor(state)\n",
    "        \n",
    "    def __len__(self):\n",
    "        return len(self.states)\n",
    "            \n",
    "    def __getitem__(self, idx):\n",
    "        return self.states[idx]\n",
    "    \n",
    "aedataset = AEDataset(experience)\n",
    "dataloader = tud.DataLoader(aedataset, batch_size = 64, shuffle = True)"
   ]
  },
  {
   "cell_type": "code",
   "execution_count": 7,
   "metadata": {},
   "outputs": [
    {
     "name": "stdout",
     "output_type": "stream",
     "text": [
      "epoch: 0 loss: 0.1225\n",
      "epoch: 1 loss: 0.0118\n",
      "epoch: 2 loss: 0.0099\n",
      "epoch: 3 loss: 0.0098\n",
      "epoch: 4 loss: 0.0098\n",
      "epoch: 5 loss: 0.0098\n",
      "epoch: 6 loss: 0.0097\n",
      "epoch: 7 loss: 0.0098\n",
      "epoch: 8 loss: 0.0097\n",
      "epoch: 9 loss: 0.0097\n"
     ]
    }
   ],
   "source": [
    "# Pre-train\n",
    "\n",
    "device = 'cuda' if torch.cuda.is_available() else 'cpu'\n",
    "model = AutoEncoder(4, 16, 3).to(device)\n",
    "loss_fn = nn.MSELoss()\n",
    "optimizer = torch.optim.Adam(model.parameters(), lr = 1e-3)\n",
    "\n",
    "for e in range(10):\n",
    "    losses = []\n",
    "    for batch in dataloader:\n",
    "        batch = batch.to(device)\n",
    "        _, output = model(batch)\n",
    "        loss = loss_fn(batch, output)\n",
    "        \n",
    "        optimizer.zero_grad()\n",
    "        loss.backward()\n",
    "        optimizer.step()\n",
    "        \n",
    "        losses.append(loss.item())\n",
    "    \n",
    "    print(\"epoch:\", e, \"loss:\", round(np.mean(losses),4))"
   ]
  },
  {
   "cell_type": "markdown",
   "metadata": {},
   "source": [
    "### Step 2. Use the hidden layer to do DQN"
   ]
  },
  {
   "cell_type": "code",
   "execution_count": 8,
   "metadata": {},
   "outputs": [],
   "source": [
    "## DQN Approximator\n",
    "\n",
    "class QNetwork(nn.Module):\n",
    "    def __init__(self, action_space, model):\n",
    "        super(QNetwork, self).__init__()\n",
    "        self.encoder = nn.Sequential(\n",
    "            nn.Linear(model.input_dim, model.hidden_dim),\n",
    "            nn.ReLU(),\n",
    "            nn.Linear(model.hidden_dim, model.hidden_dim // 2),\n",
    "            nn.ReLU(),\n",
    "            nn.Linear(model.hidden_dim // 2, model.hidden_dim // 4),\n",
    "            nn.ReLU(),\n",
    "            nn.Linear(model.hidden_dim // 4, model.output_dim)\n",
    "        )\n",
    "        self.encoder.load_state_dict(model.encoder.state_dict())\n",
    "        self.Network = nn.Linear(model.output_dim, action_space)\n",
    "        \n",
    "    def forward(self, x):\n",
    "        return self.Network(self.encoder(x))"
   ]
  },
  {
   "cell_type": "code",
   "execution_count": 16,
   "metadata": {},
   "outputs": [],
   "source": [
    "## Agent\n",
    "\n",
    "class DAQNAgent():\n",
    "    def __init__(self, env, experience, model, hidden_dim, gamma = 0.9, epsilon = 0.1, decay_rate = 1, learning_rate = 1e-4):\n",
    "        self.env = env\n",
    "        self.action_space = env.action_space  \n",
    "        self.obs_space = env.observation_space.shape[0]\n",
    "        self.action_len = len([i for i in range(self.action_space.n)])\n",
    "        self.experience = experience\n",
    "        self.model = model\n",
    "        \n",
    "        self.device = 'cuda' if torch.cuda.is_available() else 'cpu'\n",
    "        self.behaviour_QNetwork = QNetwork(self.action_len, self.model).to(self.device)\n",
    "        self.target_QNetwork = QNetwork(self.action_len, self.model).to(self.device)\n",
    "        self.loss_fn = nn.MSELoss()\n",
    "        self.optimizer = torch.optim.Adam(self.behaviour_QNetwork.parameters(), lr = learning_rate)\n",
    "        \n",
    "        self.epsilon = epsilon\n",
    "        self.decay_rate = decay_rate\n",
    "        self.gamma = gamma\n",
    "\n",
    "    def policy(self, state, epsilon = 0.1):\n",
    "        if np.random.random() < epsilon:\n",
    "            action = self.action_space.sample()\n",
    "        else:\n",
    "            score = self.behaviour_QNetwork(torch.Tensor(state).to(self.device)).detach()\n",
    "            action = torch.argmax(score).item()\n",
    "            \n",
    "        return action\n",
    "    \n",
    "    def learn(self, batch_size, display = False):\n",
    "        s0 = self.env.reset()\n",
    "        if display:\n",
    "            self.env.render()\n",
    "        is_end = False\n",
    "        episode_reward = 0\n",
    "        \n",
    "        while not is_end:\n",
    "            ## choose an action and make a step\n",
    "            a0 = self.policy(s0, epsilon = self.epsilon)\n",
    "            s1, reward, is_end, _ = self.env.step(a0)\n",
    "            if display:\n",
    "                self.env.render()\n",
    "            if is_end:\n",
    "                s1 = np.array([100,100,100,100])\n",
    "            ## store the transition into experience\n",
    "            self.experience.insert([s0,a0,reward,s1])\n",
    "            ## sample minibatch from experience\n",
    "            minibatch = self.experience.sample(batch_size = batch_size)\n",
    "            s, a, r, s_next = [], [], [], []\n",
    "            for batch in minibatch:\n",
    "                s.append(batch[0])\n",
    "                a.append(batch[1])\n",
    "                r.append(batch[2])\n",
    "                s_next.append(batch[3])\n",
    "            s = torch.Tensor(s).to(self.device)\n",
    "            a = torch.LongTensor(a).to(self.device).reshape(-1,1)\n",
    "            r = torch.Tensor(r).to(self.device).reshape(-1,1)\n",
    "            s_next = torch.Tensor(s_next).to(self.device)\n",
    "            Q_target = r + self.gamma * torch.max(self.target_QNetwork(s_next),1)[0].reshape(-1,1) * (s_next[:,0] != 100).reshape(-1,1)\n",
    "            Q_behaviour = self.behaviour_QNetwork(s).gather(1,a)\n",
    "            loss = self.loss_fn(Q_target, Q_behaviour)\n",
    "            self.optimizer.zero_grad()\n",
    "            loss.backward()\n",
    "            self.optimizer.step()\n",
    "            ## iteration\n",
    "            s0 = s1\n",
    "            episode_reward += reward\n",
    "        \n",
    "        ## update target network\n",
    "        self.target_QNetwork.load_state_dict(self.behaviour_QNetwork.state_dict())\n",
    "        self.epsilon *= self.decay_rate\n",
    "        \n",
    "        return episode_reward, loss.item()\n"
   ]
  },
  {
   "cell_type": "code",
   "execution_count": 25,
   "metadata": {},
   "outputs": [
    {
     "name": "stderr",
     "output_type": "stream",
     "text": [
      "100%|██████████████████████████████████████████████████████████████████████████████| 2000/2000 [29:31<00:00,  1.13it/s]\n"
     ]
    }
   ],
   "source": [
    "## train\n",
    "daqn_agent = DAQNAgent(env, experience, model, hidden_dim = 16, gamma = 0.99, epsilon = 0.1, decay_rate = 0.9, learning_rate = 1e-3)\n",
    "MAX_EPISODE = 2000\n",
    "daqn_episode_reward = []\n",
    "daqn_loss = []\n",
    "average_100_step = []\n",
    "\n",
    "for e in tqdm(range(MAX_EPISODE)):\n",
    "    reward, loss = daqn_agent.learn(batch_size = 100, display = False)\n",
    "    daqn_episode_reward.append(reward)\n",
    "    average_100_step.append(np.mean(daqn_episode_reward[-100:]))\n",
    "    daqn_loss.append(loss)"
   ]
  },
  {
   "cell_type": "code",
   "execution_count": 26,
   "metadata": {},
   "outputs": [
    {
     "data": {
      "text/plain": [
       "Text(0, 0.5, 'reward')"
      ]
     },
     "execution_count": 26,
     "metadata": {},
     "output_type": "execute_result"
    },
    {
     "data": {
      "image/png": "[encoded data removed]",
      "text/plain": [
       "<Figure size 432x288 with 1 Axes>"
      ]
     },
     "metadata": {
      "needs_background": "light"
     },
     "output_type": "display_data"
    }
   ],
   "source": [
    "plt.plot(average_100_step)\n",
    "plt.title(\"CartPole with DAQN (mean of 100 episode)\")\n",
    "plt.xlabel(\"episode\")\n",
    "plt.ylabel(\"reward\")"
   ]
  }
 ],
 "metadata": {
  "kernelspec": {
   "display_name": "Python 3",
   "language": "python",
   "name": "python3"
  },
  "language_info": {
   "codemirror_mode": {
    "name": "ipython",
    "version": 3
   },
   "file_extension": ".py",
   "mimetype": "text/x-python",
   "name": "python",
   "nbconvert_exporter": "python",
   "pygments_lexer": "ipython3",
   "version": "3.8.5"
  }
 },
 "nbformat": 4,
 "nbformat_minor": 4
}
