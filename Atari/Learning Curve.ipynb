{
 "cells": [
  {
   "cell_type": "code",
   "execution_count": null,
   "metadata": {},
   "outputs": [],
   "source": [
    "import numpy as np\n",
    "import matplotlib.pyplot as plt\n",
    "plt.rcParams['font.sans-serif']=['SimHei']\n",
    "plt.rcParams['axes.unicode_minus']=False"
   ]
  },
  {
   "cell_type": "code",
   "execution_count": null,
   "metadata": {},
   "outputs": [],
   "source": [
    "DQN = np.load('curve\\DQN.npy')\n",
    "DAQN = np.load('curve\\DAQN.npy')\n",
    "DATQN = np.load('curve\\DATQN.npy')\n",
    "AC = np.load('curve\\AC.npy')"
   ]
  },
  {
   "cell_type": "code",
   "execution_count": null,
   "metadata": {},
   "outputs": [],
   "source": [
    "plt.plot(DQN)\n",
    "plt.plot(DAQN)\n",
    "plt.plot(DATQN)\n",
    "plt.plot(AC)\n",
    "plt.xlabel(\"episode\")\n",
    "plt.ylabel(\"average mean of last 10 episodes\")\n",
    "#plt.title(\"Comparison of 2 Different Methods\")\n",
    "plt.legend([\"深度Q网络\",\"先后训练\",\"同时训练\",\"演员-评论家算法\"],loc='upper left',ncol=1)\n",
    "plt.savefig('AtariPong.jpg',dpi=200)"
   ]
  }
 ],
 "metadata": {
  "kernelspec": {
   "display_name": "Python 3",
   "language": "python",
   "name": "python3"
  },
  "language_info": {
   "codemirror_mode": {
    "name": "ipython",
    "version": 3
   },
   "file_extension": ".py",
   "mimetype": "text/x-python",
   "name": "python",
   "nbconvert_exporter": "python",
   "pygments_lexer": "ipython3",
   "version": "3.8.5"
  }
 },
 "nbformat": 4,
 "nbformat_minor": 4
}
